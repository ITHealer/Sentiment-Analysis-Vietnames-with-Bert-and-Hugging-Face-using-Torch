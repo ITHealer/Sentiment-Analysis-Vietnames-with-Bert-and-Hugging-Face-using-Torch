{
 "cells": [
  {
   "cell_type": "markdown",
   "id": "a7747e70",
   "metadata": {},
   "source": [
    "# <p style=\"background-color:skyblue; font-family:newtimeroman; font-size:250%; text-align:center; border-radius: 15px 50px;\">Natural Languague Processing 📝</p>"
   ]
  },
  {
   "cell_type": "markdown",
   "id": "1a6560ee",
   "metadata": {},
   "source": [
    "<p style=\"text-align:center\">\n",
    "    <a href=\"https://github.com/ITHealer?tab=repositories\" target=\"_blank\">\n",
    "    <img src=\"avatar_healer.jpg\" width=\"200\" alt=\"Skills Network Logo\"  />\n",
    "    </a>\n",
    "    <b>4251050044 - Ung Minh Hoài</b> <br>\n",
    "</p>\n",
    "\n",
    "# Sentiment analysis & Opinion mining"
   ]
  },
  {
   "cell_type": "markdown",
   "id": "c3146699",
   "metadata": {},
   "source": [
    "* Sử dụng Google Colab"
   ]
  },
  {
   "cell_type": "code",
   "execution_count": 24,
   "id": "_WBx0VYXpZD_",
   "metadata": {
    "colab": {
     "base_uri": "https://localhost:8080/"
    },
    "executionInfo": {
     "elapsed": 4400,
     "status": "ok",
     "timestamp": 1668084272251,
     "user": {
      "displayName": "Minh Hoài",
      "userId": "14699409589520235619"
     },
     "user_tz": -420
    },
    "id": "_WBx0VYXpZD_",
    "outputId": "73c71fd1-0629-473d-b08b-572d2533295c"
   },
   "outputs": [
    {
     "name": "stdout",
     "output_type": "stream",
     "text": [
      "Drive already mounted at /content/drive; to attempt to forcibly remount, call drive.mount(\"/content/drive\", force_remount=True).\n"
     ]
    }
   ],
   "source": [
    "# !pip install -qq transformers\n",
    "from google.colab import drive\n",
    "drive.mount('/content/drive')"
   ]
  },
  {
   "cell_type": "code",
   "execution_count": 45,
   "id": "u_SNeP8tH8Sa",
   "metadata": {
    "colab": {
     "base_uri": "https://localhost:8080/"
    },
    "executionInfo": {
     "elapsed": 31,
     "status": "ok",
     "timestamp": 1668084275822,
     "user": {
      "displayName": "Minh Hoài",
      "userId": "14699409589520235619"
     },
     "user_tz": -420
    },
    "id": "u_SNeP8tH8Sa",
    "outputId": "9a0309b7-a238-47f9-e581-a81bcad30356"
   },
   "outputs": [],
   "source": [
    "# cd /content/drive/MyDrive/Colab Notebooks"
   ]
  },
  {
   "cell_type": "code",
   "execution_count": 25,
   "id": "DXhoL8E9D0kX",
   "metadata": {
    "colab": {
     "base_uri": "https://localhost:8080/",
     "height": 35
    },
    "executionInfo": {
     "elapsed": 26,
     "status": "ok",
     "timestamp": 1668084272255,
     "user": {
      "displayName": "Minh Hoài",
      "userId": "14699409589520235619"
     },
     "user_tz": -420
    },
    "id": "DXhoL8E9D0kX",
    "outputId": "19fda58a-a130-415f-cfa3-208e7dff8574"
   },
   "outputs": [
    {
     "data": {
      "application/vnd.google.colaboratory.intrinsic+json": {
       "type": "string"
      },
      "text/plain": [
       "'/content/drive/My Drive/Colab Notebooks'"
      ]
     },
     "execution_count": 25,
     "metadata": {},
     "output_type": "execute_result"
    }
   ],
   "source": [
    "pwd"
   ]
  },
  {
   "cell_type": "markdown",
   "id": "541c4f07",
   "metadata": {
    "id": "541c4f07"
   },
   "source": [
    "# Google Play App Sentiment Analysis "
   ]
  },
  {
   "cell_type": "markdown",
   "id": "c37a44e3",
   "metadata": {
    "id": "c37a44e3"
   },
   "source": [
    "### Importing Required Libraries"
   ]
  },
  {
   "cell_type": "code",
   "execution_count": 26,
   "id": "T9iFjqAUEQnc",
   "metadata": {
    "colab": {
     "base_uri": "https://localhost:8080/"
    },
    "executionInfo": {
     "elapsed": 3578,
     "status": "ok",
     "timestamp": 1668084275813,
     "user": {
      "displayName": "Minh Hoài",
      "userId": "14699409589520235619"
     },
     "user_tz": -420
    },
    "id": "T9iFjqAUEQnc",
    "outputId": "333381bb-22be-4166-d6ca-1183e2117f6d"
   },
   "outputs": [
    {
     "name": "stdout",
     "output_type": "stream",
     "text": [
      "Looking in indexes: https://pypi.org/simple, https://us-python.pkg.dev/colab-wheels/public/simple/\n",
      "Requirement already satisfied: transformers in /usr/local/lib/python3.7/dist-packages (4.24.0)\n",
      "Requirement already satisfied: tqdm>=4.27 in /usr/local/lib/python3.7/dist-packages (from transformers) (4.64.1)\n",
      "Requirement already satisfied: importlib-metadata in /usr/local/lib/python3.7/dist-packages (from transformers) (4.13.0)\n",
      "Requirement already satisfied: tokenizers!=0.11.3,<0.14,>=0.11.1 in /usr/local/lib/python3.7/dist-packages (from transformers) (0.13.2)\n",
      "Requirement already satisfied: packaging>=20.0 in /usr/local/lib/python3.7/dist-packages (from transformers) (21.3)\n",
      "Requirement already satisfied: requests in /usr/local/lib/python3.7/dist-packages (from transformers) (2.23.0)\n",
      "Requirement already satisfied: pyyaml>=5.1 in /usr/local/lib/python3.7/dist-packages (from transformers) (6.0)\n",
      "Requirement already satisfied: huggingface-hub<1.0,>=0.10.0 in /usr/local/lib/python3.7/dist-packages (from transformers) (0.10.1)\n",
      "Requirement already satisfied: filelock in /usr/local/lib/python3.7/dist-packages (from transformers) (3.8.0)\n",
      "Requirement already satisfied: regex!=2019.12.17 in /usr/local/lib/python3.7/dist-packages (from transformers) (2022.6.2)\n",
      "Requirement already satisfied: numpy>=1.17 in /usr/local/lib/python3.7/dist-packages (from transformers) (1.21.6)\n",
      "Requirement already satisfied: typing-extensions>=3.7.4.3 in /usr/local/lib/python3.7/dist-packages (from huggingface-hub<1.0,>=0.10.0->transformers) (4.1.1)\n",
      "Requirement already satisfied: pyparsing!=3.0.5,>=2.0.2 in /usr/local/lib/python3.7/dist-packages (from packaging>=20.0->transformers) (3.0.9)\n",
      "Requirement already satisfied: zipp>=0.5 in /usr/local/lib/python3.7/dist-packages (from importlib-metadata->transformers) (3.10.0)\n",
      "Requirement already satisfied: certifi>=2017.4.17 in /usr/local/lib/python3.7/dist-packages (from requests->transformers) (2022.9.24)\n",
      "Requirement already satisfied: chardet<4,>=3.0.2 in /usr/local/lib/python3.7/dist-packages (from requests->transformers) (3.0.4)\n",
      "Requirement already satisfied: idna<3,>=2.5 in /usr/local/lib/python3.7/dist-packages (from requests->transformers) (2.10)\n",
      "Requirement already satisfied: urllib3!=1.25.0,!=1.25.1,<1.26,>=1.21.1 in /usr/local/lib/python3.7/dist-packages (from requests->transformers) (1.24.3)\n"
     ]
    }
   ],
   "source": [
    "!pip install transformers"
   ]
  },
  {
   "cell_type": "code",
   "execution_count": 27,
   "id": "c54b6fdc",
   "metadata": {
    "executionInfo": {
     "elapsed": 25,
     "status": "ok",
     "timestamp": 1668084275814,
     "user": {
      "displayName": "Minh Hoài",
      "userId": "14699409589520235619"
     },
     "user_tz": -420
    },
    "id": "c54b6fdc"
   },
   "outputs": [],
   "source": [
    "import pandas as pd\n",
    "import numpy as np\n",
    "import matplotlib.pyplot as plt\n",
    "import seaborn as sns\n",
    "sns.set(style='whitegrid',font_scale=1.2)\n",
    "sns.set_palette(sns.color_palette(\"rocket\"))\n",
    "\n",
    "from sklearn.model_selection import train_test_split\n",
    "from sklearn.metrics import confusion_matrix, classification_report\n",
    "\n",
    "import transformers\n",
    "from transformers import BertModel, BertTokenizer, AdamW, get_linear_schedule_with_warmup\n",
    "import torch\n",
    "from torch import nn, optim\n",
    "from torch.utils.data import Dataset, DataLoader\n",
    "\n",
    "from collections import defaultdict\n",
    "\n",
    "# ignore the warnings\n",
    "import warnings\n",
    "warnings.filterwarnings('ignore')"
   ]
  },
  {
   "cell_type": "code",
   "execution_count": 28,
   "id": "9d62f5a6",
   "metadata": {
    "executionInfo": {
     "elapsed": 26,
     "status": "ok",
     "timestamp": 1668084275816,
     "user": {
      "displayName": "Minh Hoài",
      "userId": "14699409589520235619"
     },
     "user_tz": -420
    },
    "id": "9d62f5a6"
   },
   "outputs": [],
   "source": [
    "# Let's start by defining some key variables that will be used later on in the training/evaluation process\n",
    "# Hãy bắt đầu bằng cách xác định một số biến chính sẽ được sử dụng sau này trong quá trình đào tạo / đánh giá\n",
    "RANDOM_SEED = 50\n",
    "BATCH_SIZE = 16 # Note that increasing the batch size reduces the training time significantly, but gives you lower accuracy.\n",
    "# Lưu ý rằng việc tăng kích thước lô làm giảm đáng kể thời gian đào tạo, nhưng mang lại cho bạn độ chính xác thấp hơn.\n",
    "# Set seed for reproducibility.\n",
    "np.random.seed(RANDOM_SEED)\n",
    "torch.manual_seed(RANDOM_SEED)\n",
    "device = torch.device(\"cuda:0\" if torch.cuda.is_available() else \"cpu\")"
   ]
  },
  {
   "cell_type": "markdown",
   "id": "d90ec475",
   "metadata": {},
   "source": [
    "## <p style=\"background-color:skyblue; font-family:newtimeroman; font-size:120%; text-align:center; border-radius: 15px 50px;\">Table of Content</p>\n",
    "\n",
    "* [1. Loading Data 💎](#1)\n",
    "* [2. EDA 📊](#2)\n",
    "* [3. Data Preprocessing ⚙️](#3)\n",
    "* [4. Model Building](#4)\n",
    "* [5. Model Training](#5)\n",
    "* [6. Load Pretrained Model](#6)\n",
    "* [7. Model Evaluation 📊](#7)"
   ]
  },
  {
   "cell_type": "markdown",
   "id": "b20f6116",
   "metadata": {
    "id": "b20f6116"
   },
   "source": [
    "<a id='1'></a>\n",
    "# 1. Loading Dataset"
   ]
  },
  {
   "cell_type": "code",
   "execution_count": 46,
   "id": "94e84464",
   "metadata": {
    "colab": {
     "base_uri": "https://localhost:8080/",
     "height": 206
    },
    "executionInfo": {
     "elapsed": 31,
     "status": "ok",
     "timestamp": 1668084275828,
     "user": {
      "displayName": "Minh Hoài",
      "userId": "14699409589520235619"
     },
     "user_tz": -420
    },
    "id": "94e84464",
    "outputId": "5e9bd170-d555-4de1-e028-87b914bc1623"
   },
   "outputs": [
    {
     "data": {
      "text/html": [
       "<div>\n",
       "<style scoped>\n",
       "    .dataframe tbody tr th:only-of-type {\n",
       "        vertical-align: middle;\n",
       "    }\n",
       "\n",
       "    .dataframe tbody tr th {\n",
       "        vertical-align: top;\n",
       "    }\n",
       "\n",
       "    .dataframe thead th {\n",
       "        text-align: right;\n",
       "    }\n",
       "</style>\n",
       "<table border=\"1\" class=\"dataframe\">\n",
       "  <thead>\n",
       "    <tr style=\"text-align: right;\">\n",
       "      <th></th>\n",
       "      <th>comment</th>\n",
       "      <th>label</th>\n",
       "      <th>rate</th>\n",
       "      <th>Unnamed: 3</th>\n",
       "    </tr>\n",
       "  </thead>\n",
       "  <tbody>\n",
       "    <tr>\n",
       "      <th>0</th>\n",
       "      <td>Áo bao đẹp ạ!!</td>\n",
       "      <td>POS</td>\n",
       "      <td>5</td>\n",
       "      <td>NaN</td>\n",
       "    </tr>\n",
       "    <tr>\n",
       "      <th>1</th>\n",
       "      <td>Tuyệt vời !</td>\n",
       "      <td>POS</td>\n",
       "      <td>5</td>\n",
       "      <td>NaN</td>\n",
       "    </tr>\n",
       "    <tr>\n",
       "      <th>2</th>\n",
       "      <td>2day ao khong giong trong.</td>\n",
       "      <td>NEG</td>\n",
       "      <td>1</td>\n",
       "      <td>NaN</td>\n",
       "    </tr>\n",
       "    <tr>\n",
       "      <th>3</th>\n",
       "      <td>Mùi thơm,bôi lên da mềm da.</td>\n",
       "      <td>POS</td>\n",
       "      <td>5</td>\n",
       "      <td>NaN</td>\n",
       "    </tr>\n",
       "    <tr>\n",
       "      <th>4</th>\n",
       "      <td>Vải đẹp, dày dặn.</td>\n",
       "      <td>POS</td>\n",
       "      <td>5</td>\n",
       "      <td>NaN</td>\n",
       "    </tr>\n",
       "  </tbody>\n",
       "</table>\n",
       "</div>"
      ],
      "text/plain": [
       "                       comment label  rate Unnamed: 3\n",
       "0               Áo bao đẹp ạ!!   POS     5        NaN\n",
       "1                  Tuyệt vời !   POS     5        NaN\n",
       "2   2day ao khong giong trong.   NEG     1        NaN\n",
       "3  Mùi thơm,bôi lên da mềm da.   POS     5        NaN\n",
       "4            Vải đẹp, dày dặn.   POS     5        NaN"
      ]
     },
     "execution_count": 46,
     "metadata": {},
     "output_type": "execute_result"
    }
   ],
   "source": [
    "df_reviews = pd.read_csv('data_tv.csv')\n",
    "df_reviews.head()"
   ]
  },
  {
   "cell_type": "code",
   "execution_count": 47,
   "id": "9c69a4cf",
   "metadata": {},
   "outputs": [
    {
     "name": "stdout",
     "output_type": "stream",
     "text": [
      "Số dòng dữ liệu 31460 dòng.\n",
      "Số cột của dữ liệu 4 cột.\n"
     ]
    }
   ],
   "source": [
    "print(f'Số dòng dữ liệu {df_reviews.shape[0]} dòng.')\n",
    "print(f'Số cột của dữ liệu {df_reviews.shape[1]} cột.')"
   ]
  },
  {
   "cell_type": "markdown",
   "id": "0236e6d6",
   "metadata": {},
   "source": [
    "<a id='2'></a>\n",
    "# 2. EDA"
   ]
  },
  {
   "cell_type": "markdown",
   "id": "be201916",
   "metadata": {},
   "source": [
    "## 2.1. Kiểm tra giá trị bị thiếu hoặc rỗng"
   ]
  },
  {
   "cell_type": "code",
   "execution_count": 48,
   "id": "b6501f6d",
   "metadata": {},
   "outputs": [
    {
     "data": {
      "text/plain": [
       "comment           0\n",
       "label             0\n",
       "rate              0\n",
       "Unnamed: 3    31437\n",
       "dtype: int64"
      ]
     },
     "execution_count": 48,
     "metadata": {},
     "output_type": "execute_result"
    }
   ],
   "source": [
    "df_reviews.isnull().sum()"
   ]
  },
  {
   "cell_type": "markdown",
   "id": "09f3e025",
   "metadata": {},
   "source": [
    "## 2.2. Exploring the Target Column"
   ]
  },
  {
   "cell_type": "code",
   "execution_count": 31,
   "id": "XBVWJ7cAJMg9",
   "metadata": {
    "executionInfo": {
     "elapsed": 30,
     "status": "ok",
     "timestamp": 1668084275830,
     "user": {
      "displayName": "Minh Hoài",
      "userId": "14699409589520235619"
     },
     "user_tz": -420
    },
    "id": "XBVWJ7cAJMg9"
   },
   "outputs": [],
   "source": [
    "# helper function to draw percentage above each bar\n",
    "def draw_percentage(ax,total=float(len(df_reviews))):\n",
    "    for p in ax.patches:\n",
    "        percentage = '{:.1f}%'.format(100 * p.get_height()/total)\n",
    "        x = p.get_x() + p.get_width() / 2.\n",
    "        y = p.get_height()\n",
    "        ax.annotate(percentage, (x, y),ha='center',va='bottom')"
   ]
  },
  {
   "cell_type": "code",
   "execution_count": 32,
   "id": "7db37873",
   "metadata": {
    "colab": {
     "base_uri": "https://localhost:8080/",
     "height": 419
    },
    "executionInfo": {
     "elapsed": 1239,
     "status": "ok",
     "timestamp": 1668084277040,
     "user": {
      "displayName": "Minh Hoài",
      "userId": "14699409589520235619"
     },
     "user_tz": -420
    },
    "id": "7db37873",
    "outputId": "ed134157-666c-47f8-e7b5-8c067a22dfdb"
   },
   "outputs": [
    {
     "data": {
      "image/png": "[encoded data removed]",
      "text/plain": [
       "<Figure size 720x432 with 1 Axes>"
      ]
     },
     "metadata": {},
     "output_type": "display_data"
    }
   ],
   "source": [
    "plt.figure(figsize = (10,6))\n",
    "total = float(len(df_reviews))\n",
    "ax = sns.countplot(x = 'rate',data=df_reviews)\n",
    "plt.title('Count Plot of Review Score', fontsize=20)\n",
    "plt.xlabel('review score')\n",
    "draw_percentage(ax)\n",
    "plt.show()"
   ]
  },
  {
   "cell_type": "markdown",
   "id": "3f4836d8",
   "metadata": {
    "id": "3f4836d8"
   },
   "source": [
    "**Nó vô cùng mất cân bằng, nhưng không sao. Chúng ta sẽ chuyển đổi tập dữ liệu thành negative, neutral and positive sentiment.**"
   ]
  },
  {
   "cell_type": "markdown",
   "id": "dac8b652",
   "metadata": {},
   "source": [
    "## 2.3 Covert score to sentiment"
   ]
  },
  {
   "cell_type": "code",
   "execution_count": 33,
   "id": "b3f7bb9b",
   "metadata": {
    "executionInfo": {
     "elapsed": 41,
     "status": "ok",
     "timestamp": 1668084277043,
     "user": {
      "displayName": "Minh Hoài",
      "userId": "14699409589520235619"
     },
     "user_tz": -420
    },
    "id": "b3f7bb9b"
   },
   "outputs": [],
   "source": [
    "def to_sentiment(rating):\n",
    "    rating = int(rating)\n",
    "    if rating <= 2:\n",
    "        return 0\n",
    "    elif rating == 3:\n",
    "        return 1\n",
    "    else:\n",
    "        return 2\n",
    "    \n",
    "df_reviews['sentiment'] = df_reviews.rate.apply(to_sentiment)"
   ]
  },
  {
   "cell_type": "code",
   "execution_count": 34,
   "id": "98336e65",
   "metadata": {
    "colab": {
     "base_uri": "https://localhost:8080/",
     "height": 419
    },
    "executionInfo": {
     "elapsed": 40,
     "status": "ok",
     "timestamp": 1668084277044,
     "user": {
      "displayName": "Minh Hoài",
      "userId": "14699409589520235619"
     },
     "user_tz": -420
    },
    "id": "98336e65",
    "outputId": "4d26624a-f26c-4df5-af43-0ef1a0e987cc"
   },
   "outputs": [
    {
     "data": {
      "image/png": "[encoded data removed]",
      "text/plain": [
       "<Figure size 576x432 with 1 Axes>"
      ]
     },
     "metadata": {},
     "output_type": "display_data"
    }
   ],
   "source": [
    "plt.figure(figsize = (8,6))\n",
    "total = float(len(df_reviews))\n",
    "ax = sns.countplot(x = 'sentiment',data=df_reviews)\n",
    "\n",
    "\n",
    "class_names = ['negative', 'neutral', 'positive']\n",
    "ax.set_xticklabels(class_names)\n",
    "plt.title('Count Plot of Review Score', fontsize=20)\n",
    "plt.xlabel('review sentiment')\n",
    "draw_percentage(ax)\n",
    "\n",
    "plt.show()"
   ]
  },
  {
   "cell_type": "markdown",
   "id": "f2c6e5e2",
   "metadata": {
    "id": "f2c6e5e2"
   },
   "source": [
    "<a id='3'><a/>\n",
    "# 3. Data Preprocessing"
   ]
  },
  {
   "cell_type": "markdown",
   "id": "aec811ce",
   "metadata": {},
   "source": [
    "## 3.1. Tải mô hình"
   ]
  },
  {
   "cell_type": "code",
   "execution_count": 35,
   "id": "8256fd89",
   "metadata": {
    "colab": {
     "base_uri": "https://localhost:8080/",
     "height": 113,
     "referenced_widgets": [
      "76ba0e583d4a491ea30c050db4565973",
      "4e4932e4860a4d94bd4bb343eb26216e",
      "022f8be669764a2598d77da587bb4702",
      "122c99c4abfa41cfa4e47002bb5911ce",
      "7246f7edec37461ba089cc31741baca7",
      "97ada0a805f345018971369c46616726",
      "1a0c14bf82db42a094c0fdcd7f108cca",
      "7811996af64b4c6eb48c8688d1ff5edf",
      "ba076586b9ae4fcf90c888583bfb2e13",
      "6ca559480dae41c9a9f292c8bb4869b2",
      "20babdac1ad949c48eaf5105d6769ca4",
      "5b04b3cae59d411c936dc4bc6fd90561",
      "afc35ddafe024aee837b11eb3e758f7e",
      "999f28a0a0a442299defee8aa8403903",
      "3976f72e609c436db8fd5ad3c051c7fc",
      "9dea79c0688f4aa98c31a56714dff6db",
      "af082ac8cc824b9683610f051d8a2f3d",
      "4b178b28a50f460a941b26f644abce9b",
      "905d9f50542f459ab1dcbd90a0d90846",
      "a4d6392915a148ef95f135a450624902",
      "4d160b2d39b446278ad98c2cf8b700b9",
      "df9e6736ec8b483bbb1d3e91207a16f4",
      "29f05f6d604b400a8e11bef0261a7955",
      "acc710405f334548ac4018236f107bbf",
      "5520bf84ec584428a6d3ba91431062b3",
      "4fae2f33025c41bfaef4a699bc928cf9",
      "982bce15dab6407fb125c865d14dee60",
      "23cc79ee7c3f417bb2efe47f9a354722",
      "afd743f08e4b4b29a089a4c6893e663d",
      "1750c044a1d14d7fa1e5f906bd63899e",
      "4602b988040c40979d64d5ec1dde3afa",
      "2aa5545d749844cea36e93896ff58f6a",
      "82ea21133a2c4a2dbcde1520ac22cefe"
     ]
    },
    "executionInfo": {
     "elapsed": 1029,
     "status": "ok",
     "timestamp": 1668084278035,
     "user": {
      "displayName": "Minh Hoài",
      "userId": "14699409589520235619"
     },
     "user_tz": -420
    },
    "id": "8256fd89",
    "outputId": "48d88867-345b-4732-f4b7-343a846f69ea"
   },
   "outputs": [
    {
     "data": {
      "application/vnd.jupyter.widget-view+json": {
       "model_id": "76ba0e583d4a491ea30c050db4565973",
       "version_major": 2,
       "version_minor": 0
      },
      "text/plain": [
       "Downloading:   0%|          | 0.00/213k [00:00<?, ?B/s]"
      ]
     },
     "metadata": {},
     "output_type": "display_data"
    },
    {
     "data": {
      "application/vnd.jupyter.widget-view+json": {
       "model_id": "5b04b3cae59d411c936dc4bc6fd90561",
       "version_major": 2,
       "version_minor": 0
      },
      "text/plain": [
       "Downloading:   0%|          | 0.00/29.0 [00:00<?, ?B/s]"
      ]
     },
     "metadata": {},
     "output_type": "display_data"
    },
    {
     "data": {
      "application/vnd.jupyter.widget-view+json": {
       "model_id": "29f05f6d604b400a8e11bef0261a7955",
       "version_major": 2,
       "version_minor": 0
      },
      "text/plain": [
       "Downloading:   0%|          | 0.00/570 [00:00<?, ?B/s]"
      ]
     },
     "metadata": {},
     "output_type": "display_data"
    }
   ],
   "source": [
    "# We can use a cased and uncased version of BERT and tokenizer. I am using cased version.\n",
    "# Chúng tôi có thể sử dụng phiên bản phân biệt và không phân biệt của BERT và tokenizer. Tôi đang sử dụng phiên bản cased.\n",
    "PRE_TRAINED_MODEL_NAME = 'bert-base-cased'\n",
    "\n",
    "# Let's load a pre-trained BertTokenizer/ Hãy tải một BertTokenizer được đào tạo trước\n",
    "tokenizer = BertTokenizer.from_pretrained(PRE_TRAINED_MODEL_NAME)"
   ]
  },
  {
   "cell_type": "code",
   "execution_count": 36,
   "id": "ef93815d",
   "metadata": {
    "colab": {
     "base_uri": "https://localhost:8080/"
    },
    "executionInfo": {
     "elapsed": 26,
     "status": "ok",
     "timestamp": 1668084278036,
     "user": {
      "displayName": "Minh Hoài",
      "userId": "14699409589520235619"
     },
     "user_tz": -420
    },
    "id": "ef93815d",
    "outputId": "696d73f3-b937-4a9d-e382-9aa4726fc71d"
   },
   "outputs": [
    {
     "name": "stdout",
     "output_type": "stream",
     "text": [
      " Sentence: we love you\n",
      "   Tokens: ['we', 'love', 'you']\n",
      "Token IDs: [1195, 1567, 1128]\n"
     ]
    }
   ],
   "source": [
    "sample_txt = \"we love you\"\n",
    "\n",
    "tokens = tokenizer.tokenize(sample_txt)\n",
    "token_ids = tokenizer.convert_tokens_to_ids(tokens)\n",
    "\n",
    "print(f' Sentence: {sample_txt}')\n",
    "print(f'   Tokens: {tokens}')\n",
    "print(f'Token IDs: {token_ids}')"
   ]
  },
  {
   "cell_type": "code",
   "execution_count": 37,
   "id": "0f65f22b",
   "metadata": {
    "colab": {
     "base_uri": "https://localhost:8080/"
    },
    "executionInfo": {
     "elapsed": 24,
     "status": "ok",
     "timestamp": 1668084278037,
     "user": {
      "displayName": "Minh Hoài",
      "userId": "14699409589520235619"
     },
     "user_tz": -420
    },
    "id": "0f65f22b",
    "outputId": "93a08f0a-d01e-4569-baa6-5aaf45e3a5db"
   },
   "outputs": [
    {
     "data": {
      "text/plain": [
       "dict_keys(['input_ids', 'attention_mask'])"
      ]
     },
     "execution_count": 37,
     "metadata": {},
     "output_type": "execute_result"
    }
   ],
   "source": [
    "# encoding of a sentence\n",
    "encoding = tokenizer.encode_plus(\n",
    "    sample_txt,\n",
    "    padding='max_length', # Pad sentence to max length\n",
    "    truncation=True,  #Truncate sentence to max length\n",
    "    max_length=32,\n",
    "    add_special_tokens=True, # Add '[CLS]' and '[SEP]'\n",
    "    return_token_type_ids=False,\n",
    "    return_attention_mask=True, # Return attention mask\n",
    "    return_tensors='pt',  # Return torch objects\n",
    "    )\n",
    "\n",
    "encoding.keys()"
   ]
  },
  {
   "cell_type": "markdown",
   "id": "990edb63",
   "metadata": {
    "id": "990edb63"
   },
   "source": [
    "The token ids are now stored in a tensorflow tensor and padded to a length of 32."
   ]
  },
  {
   "cell_type": "code",
   "execution_count": 38,
   "id": "6c6b1960",
   "metadata": {
    "colab": {
     "base_uri": "https://localhost:8080/"
    },
    "executionInfo": {
     "elapsed": 21,
     "status": "ok",
     "timestamp": 1668084278038,
     "user": {
      "displayName": "Minh Hoài",
      "userId": "14699409589520235619"
     },
     "user_tz": -420
    },
    "id": "6c6b1960",
    "outputId": "833b62a2-4564-4dd0-837a-fe5aee76bc8c"
   },
   "outputs": [
    {
     "name": "stdout",
     "output_type": "stream",
     "text": [
      "32\n",
      "tensor([ 101, 1195, 1567, 1128,  102,    0,    0,    0,    0,    0,    0,    0,\n",
      "           0,    0,    0,    0,    0,    0,    0,    0,    0,    0,    0,    0,\n",
      "           0,    0,    0,    0,    0,    0,    0,    0])\n"
     ]
    }
   ],
   "source": [
    "print(len(encoding['input_ids'][0]))\n",
    "print(encoding['input_ids'][0])"
   ]
  },
  {
   "cell_type": "code",
   "execution_count": 39,
   "id": "b4da3391",
   "metadata": {
    "colab": {
     "base_uri": "https://localhost:8080/"
    },
    "executionInfo": {
     "elapsed": 18,
     "status": "ok",
     "timestamp": 1668084278038,
     "user": {
      "displayName": "Minh Hoài",
      "userId": "14699409589520235619"
     },
     "user_tz": -420
    },
    "id": "b4da3391",
    "outputId": "a38368a6-c9a5-4fa6-b4f6-0a465bf674ee"
   },
   "outputs": [
    {
     "name": "stdout",
     "output_type": "stream",
     "text": [
      "32\n",
      "tensor([[1, 1, 1, 1, 1, 0, 0, 0, 0, 0, 0, 0, 0, 0, 0, 0, 0, 0, 0, 0, 0, 0, 0, 0,\n",
      "         0, 0, 0, 0, 0, 0, 0, 0]])\n"
     ]
    }
   ],
   "source": [
    "# The attention mask has the same length\n",
    "print(len(encoding['attention_mask'][0]))\n",
    "print(encoding['attention_mask'])"
   ]
  },
  {
   "cell_type": "code",
   "execution_count": 40,
   "id": "1f0ee926",
   "metadata": {
    "colab": {
     "base_uri": "https://localhost:8080/"
    },
    "executionInfo": {
     "elapsed": 16,
     "status": "ok",
     "timestamp": 1668084278039,
     "user": {
      "displayName": "Minh Hoài",
      "userId": "14699409589520235619"
     },
     "user_tz": -420
    },
    "id": "1f0ee926",
    "outputId": "4ae8bbf8-22fd-4b61-8b91-9962e2c837cd"
   },
   "outputs": [
    {
     "data": {
      "text/plain": [
       "['[CLS]',\n",
       " 'we',\n",
       " 'love',\n",
       " 'you',\n",
       " '[SEP]',\n",
       " '[PAD]',\n",
       " '[PAD]',\n",
       " '[PAD]',\n",
       " '[PAD]',\n",
       " '[PAD]',\n",
       " '[PAD]',\n",
       " '[PAD]',\n",
       " '[PAD]',\n",
       " '[PAD]',\n",
       " '[PAD]',\n",
       " '[PAD]',\n",
       " '[PAD]',\n",
       " '[PAD]',\n",
       " '[PAD]',\n",
       " '[PAD]',\n",
       " '[PAD]',\n",
       " '[PAD]',\n",
       " '[PAD]',\n",
       " '[PAD]',\n",
       " '[PAD]',\n",
       " '[PAD]',\n",
       " '[PAD]',\n",
       " '[PAD]',\n",
       " '[PAD]',\n",
       " '[PAD]',\n",
       " '[PAD]',\n",
       " '[PAD]']"
      ]
     },
     "execution_count": 40,
     "metadata": {},
     "output_type": "execute_result"
    }
   ],
   "source": [
    "# We can inverse the tokenization to have a look at the special tokens\n",
    "# Chúng tôi có thể đảo ngược mã hóa để xem xét các mã thông báo đặc biệt\n",
    "tokenizer.convert_ids_to_tokens(encoding['input_ids'][0])"
   ]
  },
  {
   "cell_type": "markdown",
   "id": "7b52a736",
   "metadata": {
    "id": "7b52a736"
   },
   "source": [
    "## 3.2. Choosing Sequence Length"
   ]
  },
  {
   "cell_type": "code",
   "execution_count": 41,
   "id": "8224788f",
   "metadata": {
    "executionInfo": {
     "elapsed": 12769,
     "status": "ok",
     "timestamp": 1668084290796,
     "user": {
      "displayName": "Minh Hoài",
      "userId": "14699409589520235619"
     },
     "user_tz": -420
    },
    "id": "8224788f"
   },
   "outputs": [],
   "source": [
    "# BERT works with fixed-length sequences. We'll use a simple strategy to choose the max length.\n",
    "# Let's store the token length of each review..\n",
    "\n",
    "token_lens = []\n",
    "for text in df_reviews.comment:\n",
    "    tokens = tokenizer.encode(text, truncation=True,max_length=512)\n",
    "    token_lens.append(len(tokens))"
   ]
  },
  {
   "cell_type": "code",
   "execution_count": 42,
   "id": "4280914a",
   "metadata": {
    "colab": {
     "base_uri": "https://localhost:8080/",
     "height": 398
    },
    "executionInfo": {
     "elapsed": 1028,
     "status": "ok",
     "timestamp": 1668084291807,
     "user": {
      "displayName": "Minh Hoài",
      "userId": "14699409589520235619"
     },
     "user_tz": -420
    },
    "id": "4280914a",
    "outputId": "1864ac7c-ed00-483c-c177-5345328d787c"
   },
   "outputs": [
    {
     "data": {
      "image/png": "[encoded data removed]",
      "text/plain": [
       "<Figure size 576x432 with 1 Axes>"
      ]
     },
     "metadata": {},
     "output_type": "display_data"
    }
   ],
   "source": [
    "plt.figure(figsize = (8,6))\n",
    "sns.histplot(token_lens,kde=True)\n",
    "plt.xlim([0, 150])\n",
    "plt.xlabel('Token count')\n",
    "plt.show()"
   ]
  },
  {
   "cell_type": "markdown",
   "id": "2c302eda",
   "metadata": {
    "id": "2c302eda"
   },
   "source": [
    "Most of the reviews seem to contain less than 128 tokens, but we'll be on the safe side and choose a maximum length of 150."
   ]
  },
  {
   "cell_type": "code",
   "execution_count": 43,
   "id": "b78c4cd2",
   "metadata": {
    "executionInfo": {
     "elapsed": 23,
     "status": "ok",
     "timestamp": 1668084291810,
     "user": {
      "displayName": "Minh Hoài",
      "userId": "14699409589520235619"
     },
     "user_tz": -420
    },
    "id": "b78c4cd2"
   },
   "outputs": [],
   "source": [
    "MAX_LEN = 150"
   ]
  },
  {
   "cell_type": "markdown",
   "id": "SXXJfaNi98gv",
   "metadata": {
    "id": "SXXJfaNi98gv"
   },
   "source": [
    "Now that our data is preprocessed, we can turn it into PyTorch tensors such that we can provide it to the model."
   ]
  },
  {
   "cell_type": "code",
   "execution_count": 44,
   "id": "9ed4d8e2",
   "metadata": {
    "executionInfo": {
     "elapsed": 24,
     "status": "ok",
     "timestamp": 1668084291812,
     "user": {
      "displayName": "Minh Hoài",
      "userId": "14699409589520235619"
     },
     "user_tz": -420
    },
    "id": "9ed4d8e2"
   },
   "outputs": [],
   "source": [
    "# We have all building blocks required to create a torch dataset. Let's do it...\n",
    "class dataset(Dataset):\n",
    "    \n",
    "    def __init__(self, reviews, targets, tokenizer, max_len):\n",
    "        \n",
    "        self.reviews = reviews\n",
    "        self.targets = targets\n",
    "        self.tokenizer = tokenizer\n",
    "        self.max_len = max_len\n",
    "        \n",
    "    def __len__(self):\n",
    "        return len(self.reviews)\n",
    "    \n",
    "    def __getitem__(self, item):\n",
    "        # step 1: get the reviews and targets\n",
    "        review = str(self.reviews[item])\n",
    "        target = self.targets[item]\n",
    "        # step 2: use tokenizer to encode sentence (includes padding/truncation up to max length)\n",
    "        encoding = self.tokenizer.encode_plus(\n",
    "            review,\n",
    "            add_special_tokens=True, # Add '[CLS]' and '[SEP]'\n",
    "            padding='max_length',  # Pad sentence to max length\n",
    "            truncation=True,    # Truncate sentence to max length\n",
    "            max_length=self.max_len,\n",
    "            return_token_type_ids=False,\n",
    "            return_attention_mask=True, # Return attention mask\n",
    "            return_tensors='pt', # return torch objects/tensor\n",
    "        )\n",
    "        return {\n",
    "            'review_text': review,\n",
    "            'input_ids': encoding['input_ids'].flatten(),  # Tensor of token ids to be fed to a model\n",
    "            'attention_mask': encoding['attention_mask'].flatten(),  #Tensor of indices specifying which tokens should be attended to by the model\n",
    "            'targets': torch.tensor(target, dtype=torch.long)\n",
    "            }"
   ]
  },
  {
   "cell_type": "markdown",
   "id": "106442ff",
   "metadata": {
    "id": "106442ff"
   },
   "source": [
    "The tokenizer is doing most of the heavy lifting for us. We also return the review texts, so it'll be easier to evaluate the predictions from our model."
   ]
  },
  {
   "cell_type": "code",
   "execution_count": 45,
   "id": "5f0efd4f",
   "metadata": {
    "colab": {
     "base_uri": "https://localhost:8080/"
    },
    "executionInfo": {
     "elapsed": 24,
     "status": "ok",
     "timestamp": 1668084291813,
     "user": {
      "displayName": "Minh Hoài",
      "userId": "14699409589520235619"
     },
     "user_tz": -420
    },
    "id": "5f0efd4f",
    "outputId": "e3efccf5-55b3-45b2-8ee3-95d29604805d"
   },
   "outputs": [
    {
     "name": "stdout",
     "output_type": "stream",
     "text": [
      "Train Data Size (28314, 5)\n",
      "Validation Data Size (1573, 5)\n",
      "Test Data Size (1573, 5)\n"
     ]
    }
   ],
   "source": [
    "# lets split the data\n",
    "df_train, df_test = train_test_split(df_reviews, test_size=0.1, random_state=RANDOM_SEED)\n",
    "df_val, df_test = train_test_split(df_test, test_size=0.5, random_state=RANDOM_SEED)\n",
    "\n",
    "print('Train Data Size', df_train.shape)\n",
    "print('Validation Data Size', df_val.shape)\n",
    "print('Test Data Size', df_test.shape)"
   ]
  },
  {
   "cell_type": "markdown",
   "id": "824d8ae6",
   "metadata": {
    "id": "824d8ae6"
   },
   "source": [
    "We also need to create a couple of data loaders. Here's a helper function to do it."
   ]
  },
  {
   "cell_type": "code",
   "execution_count": 46,
   "id": "fb85e348",
   "metadata": {
    "executionInfo": {
     "elapsed": 19,
     "status": "ok",
     "timestamp": 1668084291814,
     "user": {
      "displayName": "Minh Hoài",
      "userId": "14699409589520235619"
     },
     "user_tz": -420
    },
    "id": "fb85e348"
   },
   "outputs": [],
   "source": [
    "def create_data_loader(df, tokenizer, max_len, batch_size):\n",
    "    ds = dataset(\n",
    "        reviews=df.comment.to_numpy(),\n",
    "        targets=df.sentiment.to_numpy(),\n",
    "        tokenizer=tokenizer,\n",
    "        max_len=max_len\n",
    "      )\n",
    "    return DataLoader(\n",
    "        ds,\n",
    "        batch_size=batch_size\n",
    "      )\n"
   ]
  },
  {
   "cell_type": "markdown",
   "id": "dqwMW8_R270u",
   "metadata": {
    "id": "dqwMW8_R270u"
   },
   "source": [
    "Apply dataloader on train, validation and test data."
   ]
  },
  {
   "cell_type": "code",
   "execution_count": 47,
   "id": "11692551",
   "metadata": {
    "executionInfo": {
     "elapsed": 20,
     "status": "ok",
     "timestamp": 1668084291815,
     "user": {
      "displayName": "Minh Hoài",
      "userId": "14699409589520235619"
     },
     "user_tz": -420
    },
    "id": "11692551"
   },
   "outputs": [],
   "source": [
    "train_data_loader = create_data_loader(df_train, tokenizer, MAX_LEN, BATCH_SIZE)\n",
    "val_data_loader = create_data_loader(df_val, tokenizer, MAX_LEN, BATCH_SIZE)\n",
    "test_data_loader = create_data_loader(df_test, tokenizer, MAX_LEN, BATCH_SIZE)"
   ]
  },
  {
   "cell_type": "markdown",
   "id": "NLeFHaWC3Esr",
   "metadata": {
    "id": "NLeFHaWC3Esr"
   },
   "source": [
    "Let's have a look at an example batch from our training data loader"
   ]
  },
  {
   "cell_type": "code",
   "execution_count": 48,
   "id": "c2b70d1e",
   "metadata": {
    "colab": {
     "base_uri": "https://localhost:8080/"
    },
    "executionInfo": {
     "elapsed": 20,
     "status": "ok",
     "timestamp": 1668084291816,
     "user": {
      "displayName": "Minh Hoài",
      "userId": "14699409589520235619"
     },
     "user_tz": -420
    },
    "id": "c2b70d1e",
    "outputId": "9f188422-4a7e-4fa4-d0e1-73a919dee824"
   },
   "outputs": [
    {
     "data": {
      "text/plain": [
       "dict_keys(['review_text', 'input_ids', 'attention_mask', 'targets'])"
      ]
     },
     "execution_count": 48,
     "metadata": {},
     "output_type": "execute_result"
    }
   ],
   "source": [
    "data = next(iter(train_data_loader))\n",
    "data.keys()"
   ]
  },
  {
   "cell_type": "markdown",
   "id": "FM8WH-nc45Su",
   "metadata": {
    "id": "FM8WH-nc45Su"
   },
   "source": [
    "<a id='4'><a/>\n",
    "# 4. Model Building"
   ]
  },
  {
   "cell_type": "markdown",
   "id": "asMblnSR3W4C",
   "metadata": {
    "id": "asMblnSR3W4C"
   },
   "source": [
    "* Chúng tôi sẽ sử dụng BertModel cơ bản và xây dựng bộ phân loại tình cảm của chúng tôi trên đó. Hãy tải mô hình .."
   ]
  },
  {
   "cell_type": "code",
   "execution_count": 49,
   "id": "df563fbe",
   "metadata": {
    "colab": {
     "base_uri": "https://localhost:8080/",
     "height": 121,
     "referenced_widgets": [
      "9a27e360e2624327b63889cba11a5acb",
      "07615432c0b74d26ba8bdc8ad480ba1d",
      "f8d818624e394c1aa040e9ae66248830",
      "31891a23489e4907a93cb69db1f1ef61",
      "9ea81c65616b46f99fd3c93b0c506800",
      "df12160521e347a49f1e4c5e4d7d47d5",
      "535943d196b54c29a66e7b2cefed11e9",
      "8cf7a3cdc74e42a891ff101d222adb40",
      "c3b850a77e6a46358db69cba86c75e11",
      "00f2a488c8284da2a77fb920cca33136",
      "151bf38ff76446c79f40647dd3e780f4"
     ]
    },
    "executionInfo": {
     "elapsed": 15017,
     "status": "ok",
     "timestamp": 1668084306816,
     "user": {
      "displayName": "Minh Hoài",
      "userId": "14699409589520235619"
     },
     "user_tz": -420
    },
    "id": "df563fbe",
    "outputId": "7f2ed7e6-9c83-4d96-d599-594c268a3790"
   },
   "outputs": [
    {
     "data": {
      "application/vnd.jupyter.widget-view+json": {
       "model_id": "9a27e360e2624327b63889cba11a5acb",
       "version_major": 2,
       "version_minor": 0
      },
      "text/plain": [
       "Downloading:   0%|          | 0.00/436M [00:00<?, ?B/s]"
      ]
     },
     "metadata": {},
     "output_type": "display_data"
    },
    {
     "name": "stderr",
     "output_type": "stream",
     "text": [
      "Some weights of the model checkpoint at bert-base-cased were not used when initializing BertModel: ['cls.predictions.transform.dense.weight', 'cls.predictions.bias', 'cls.seq_relationship.bias', 'cls.seq_relationship.weight', 'cls.predictions.transform.dense.bias', 'cls.predictions.transform.LayerNorm.bias', 'cls.predictions.transform.LayerNorm.weight', 'cls.predictions.decoder.weight']\n",
      "- This IS expected if you are initializing BertModel from the checkpoint of a model trained on another task or with another architecture (e.g. initializing a BertForSequenceClassification model from a BertForPreTraining model).\n",
      "- This IS NOT expected if you are initializing BertModel from the checkpoint of a model that you expect to be exactly identical (initializing a BertForSequenceClassification model from a BertForSequenceClassification model).\n"
     ]
    }
   ],
   "source": [
    "bert_model = BertModel.from_pretrained(PRE_TRAINED_MODEL_NAME,return_dict=False)"
   ]
  },
  {
   "cell_type": "markdown",
   "id": "l4jx41-U7Z-m",
   "metadata": {
    "id": "l4jx41-U7Z-m"
   },
   "source": [
    "Note that warning occured because only the base layers are initialized with the pretrained weights. The token classification head of top has just randomly initialized weights, which we will train, together with the pretrained weights, using our labelled dataset."
   ]
  },
  {
   "cell_type": "markdown",
   "id": "vS8ktvbg3i8k",
   "metadata": {
    "id": "vS8ktvbg3i8k"
   },
   "source": [
    "Let's try to use it on the encoding of our sample text."
   ]
  },
  {
   "cell_type": "code",
   "execution_count": 50,
   "id": "cc26871a",
   "metadata": {
    "colab": {
     "base_uri": "https://localhost:8080/"
    },
    "executionInfo": {
     "elapsed": 1043,
     "status": "ok",
     "timestamp": 1668084307853,
     "user": {
      "displayName": "Minh Hoài",
      "userId": "14699409589520235619"
     },
     "user_tz": -420
    },
    "id": "cc26871a",
    "outputId": "8692a187-f350-47bc-e1c0-e1d0a061ebe7"
   },
   "outputs": [
    {
     "data": {
      "text/plain": [
       "torch.Size([1, 32, 768])"
      ]
     },
     "execution_count": 50,
     "metadata": {},
     "output_type": "execute_result"
    }
   ],
   "source": [
    "last_hidden_state, pooled_output = bert_model(\n",
    "  input_ids=encoding['input_ids'],\n",
    "  attention_mask=encoding['attention_mask']\n",
    ")\n",
    "# The last_hidden_state is a sequence of hidden states of the last layer of the model. \n",
    "# Obtaining the pooled_output is done by applying the BertPooler on last_hidden_state.\n",
    "last_hidden_state.shape"
   ]
  },
  {
   "cell_type": "markdown",
   "id": "L9d98mQG34Yv",
   "metadata": {
    "id": "L9d98mQG34Yv"
   },
   "source": [
    "We have the hidden state for each of our 32 tokens (the length of our example sequence) and 768 is the number of hidden units in the feedforward-networks.We'll use all of this knowledge to create a classifier that uses the BERT model."
   ]
  },
  {
   "cell_type": "code",
   "execution_count": 51,
   "id": "bec7f035",
   "metadata": {
    "executionInfo": {
     "elapsed": 10,
     "status": "ok",
     "timestamp": 1668084307855,
     "user": {
      "displayName": "Minh Hoài",
      "userId": "14699409589520235619"
     },
     "user_tz": -420
    },
    "id": "bec7f035"
   },
   "outputs": [],
   "source": [
    "class SentimentClassifier(nn.Module):\n",
    "    def __init__(self, n_classes):\n",
    "        super(SentimentClassifier, self).__init__()\n",
    "        self.bert = BertModel.from_pretrained(PRE_TRAINED_MODEL_NAME,return_dict=False)\n",
    "        # dropout layer for some regularization \n",
    "        self.drop = nn.Dropout(p=0.3)\n",
    "        # A fully-connected layer for our output\n",
    "        self.out = nn.Linear(self.bert.config.hidden_size, n_classes)\n",
    "    def forward(self, input_ids, attention_mask):\n",
    "        \"\"\"\n",
    "        Feed input to BERT and the classifier to compute logits.\n",
    "        @param    input_ids (torch.Tensor): an input tensor with shape (batch_size,\n",
    "                      max_length)\n",
    "        @param    attention_mask (torch.Tensor): a tensor that hold attention mask\n",
    "                      information with shape (batch_size, max_length)\n",
    "        @return   logits (torch.Tensor): an output tensor with shape (batch_size,\n",
    "                      num_labels)\n",
    "        \"\"\"\n",
    "        # Feed input to BERT\n",
    "        last_hidden_state,pooled_output = self.bert(\n",
    "        input_ids=input_ids,\n",
    "        attention_mask=attention_mask\n",
    "        )\n",
    "        output = self.drop(pooled_output)\n",
    "        return self.out(output)"
   ]
  },
  {
   "cell_type": "code",
   "execution_count": 52,
   "id": "7bd8150a",
   "metadata": {
    "colab": {
     "base_uri": "https://localhost:8080/"
    },
    "executionInfo": {
     "elapsed": 8608,
     "status": "ok",
     "timestamp": 1668084316454,
     "user": {
      "displayName": "Minh Hoài",
      "userId": "14699409589520235619"
     },
     "user_tz": -420
    },
    "id": "7bd8150a",
    "outputId": "b9fe3884-b722-44aa-d20d-5e2367ee2c7a"
   },
   "outputs": [
    {
     "name": "stderr",
     "output_type": "stream",
     "text": [
      "Some weights of the model checkpoint at bert-base-cased were not used when initializing BertModel: ['cls.predictions.transform.dense.weight', 'cls.predictions.bias', 'cls.seq_relationship.bias', 'cls.seq_relationship.weight', 'cls.predictions.transform.dense.bias', 'cls.predictions.transform.LayerNorm.bias', 'cls.predictions.transform.LayerNorm.weight', 'cls.predictions.decoder.weight']\n",
      "- This IS expected if you are initializing BertModel from the checkpoint of a model trained on another task or with another architecture (e.g. initializing a BertForSequenceClassification model from a BertForPreTraining model).\n",
      "- This IS NOT expected if you are initializing BertModel from the checkpoint of a model that you expect to be exactly identical (initializing a BertForSequenceClassification model from a BertForSequenceClassification model).\n"
     ]
    }
   ],
   "source": [
    "# Let's create an instance and move it to the GPU.\n",
    "model = SentimentClassifier(len(class_names))\n",
    "model = model.to(device)"
   ]
  },
  {
   "cell_type": "code",
   "execution_count": 53,
   "id": "9b135e13",
   "metadata": {
    "colab": {
     "base_uri": "https://localhost:8080/"
    },
    "executionInfo": {
     "elapsed": 55,
     "status": "ok",
     "timestamp": 1668084316457,
     "user": {
      "displayName": "Minh Hoài",
      "userId": "14699409589520235619"
     },
     "user_tz": -420
    },
    "id": "9b135e13",
    "outputId": "7c4fdd6a-0c82-49ef-a1ab-5049448902a5"
   },
   "outputs": [
    {
     "name": "stdout",
     "output_type": "stream",
     "text": [
      "torch.Size([16, 150])\n",
      "torch.Size([16, 150])\n"
     ]
    }
   ],
   "source": [
    "# We'll move the example batch of our training data to the GPU\n",
    "input_ids = data['input_ids'].to(device)\n",
    "attention_mask = data['attention_mask'].to(device)\n",
    "print(input_ids.shape) # batch size x seq length\n",
    "print(attention_mask.shape) # batch size x seq length"
   ]
  },
  {
   "cell_type": "markdown",
   "id": "hBnTCkt_4-nc",
   "metadata": {
    "id": "hBnTCkt_4-nc"
   },
   "source": [
    "<a id='5'></a>\n",
    "# 5. Model Training"
   ]
  },
  {
   "cell_type": "code",
   "execution_count": 54,
   "id": "602505ab",
   "metadata": {
    "executionInfo": {
     "elapsed": 52,
     "status": "ok",
     "timestamp": 1668084316458,
     "user": {
      "displayName": "Minh Hoài",
      "userId": "14699409589520235619"
     },
     "user_tz": -420
    },
    "id": "602505ab"
   },
   "outputs": [],
   "source": [
    "EPOCHS = 10\n",
    "#  AdamW optimizer to correct weight decay\n",
    "optimizer = AdamW(model.parameters(), lr=2e-5, correct_bias=False)\n",
    "total_steps = len(train_data_loader) * EPOCHS\n",
    "#  We'll also use a linear scheduler with no warmup steps\n",
    "scheduler = get_linear_schedule_with_warmup(\n",
    "  optimizer,\n",
    "  num_warmup_steps=0,\n",
    "  num_training_steps=total_steps\n",
    ")\n",
    "# cross-entropy loss function\n",
    "loss_fn = nn.CrossEntropyLoss().to(device)"
   ]
  },
  {
   "cell_type": "markdown",
   "id": "syZBej8r5wdB",
   "metadata": {
    "id": "syZBej8r5wdB"
   },
   "source": [
    "Let's continue with writing a helper function for training our model..."
   ]
  },
  {
   "cell_type": "code",
   "execution_count": 55,
   "id": "883971fd",
   "metadata": {
    "executionInfo": {
     "elapsed": 51,
     "status": "ok",
     "timestamp": 1668084316459,
     "user": {
      "displayName": "Minh Hoài",
      "userId": "14699409589520235619"
     },
     "user_tz": -420
    },
    "id": "883971fd"
   },
   "outputs": [],
   "source": [
    "def train_epoch(model,data_loader,loss_fn,optimizer,device,scheduler,n_examples):\n",
    "    # put model in training mode\n",
    "    model = model.train()\n",
    "    # Create empty lists to store outputs\n",
    "    losses = []\n",
    "    correct_predictions = 0\n",
    "    for batch in data_loader:\n",
    "        # We'll move the example batch of our training data to the GPU\n",
    "        input_ids = batch[\"input_ids\"].to(device)\n",
    "        attention_mask = batch[\"attention_mask\"].to(device)\n",
    "        targets = batch[\"targets\"].to(device)\n",
    "\n",
    "        # Perform a forward pass. This will return logits.\n",
    "        outputs = model(\n",
    "              input_ids=input_ids,\n",
    "              attention_mask=attention_mask\n",
    "            )\n",
    "        # Get the predictions\n",
    "        _, preds = torch.max(outputs, dim=1)\n",
    "\n",
    "        # Compute loss and accumulate the loss values\n",
    "        loss = loss_fn(outputs, targets)\n",
    "        losses.append(loss.item())\n",
    "        # Calculate the accuracy rate\n",
    "        correct_predictions += torch.sum(preds == targets)\n",
    "        # backward pass - Perform a backward pass to calculate gradients\n",
    "        loss.backward()\n",
    "        # gradient clipping - Clip the norm of the gradients to 1.0 to prevent \"exploding gradients\"\n",
    "        nn.utils.clip_grad_norm_(model.parameters(), max_norm=1.0)\n",
    "        # Update parameters and the learning rate\n",
    "        optimizer.step()\n",
    "        scheduler.step()\n",
    "        # Zero out any previously calculated gradients\n",
    "        optimizer.zero_grad()\n",
    "    \n",
    "    return correct_predictions.double() / n_examples, np.mean(losses)  # Compute the average accuracy and loss over the training set."
   ]
  },
  {
   "cell_type": "markdown",
   "id": "0ole_Z4wHH27",
   "metadata": {
    "id": "0ole_Z4wHH27"
   },
   "source": [
    "Let's write another one that helps us evaluate the model on a given data loader."
   ]
  },
  {
   "cell_type": "code",
   "execution_count": 56,
   "id": "cfa1f483",
   "metadata": {
    "executionInfo": {
     "elapsed": 49,
     "status": "ok",
     "timestamp": 1668084316459,
     "user": {
      "displayName": "Minh Hoài",
      "userId": "14699409589520235619"
     },
     "user_tz": -420
    },
    "id": "cfa1f483"
   },
   "outputs": [],
   "source": [
    "def eval_model(model, data_loader, loss_fn, device, n_examples):\n",
    "    # put model in evaluation mode\n",
    "    model = model.eval()\n",
    "    # Create empty lists to store outputs\n",
    "    losses = []\n",
    "    correct_predictions = 0\n",
    "    with torch.no_grad():\n",
    "        for batch in data_loader:\n",
    "            # We'll move the example batch of our validation data to the GPU\n",
    "            input_ids = batch[\"input_ids\"].to(device)\n",
    "            attention_mask = batch[\"attention_mask\"].to(device)\n",
    "            targets = batch[\"targets\"].to(device) \n",
    "\n",
    "            # Perform a forward pass. This will return logits.\n",
    "            outputs = model(input_ids=input_ids,attention_mask=attention_mask)\n",
    "            # Get the predictions\n",
    "            _, preds = torch.max(outputs, dim=1) \n",
    "\n",
    "            # Compute loss and accumulate the loss values\n",
    "            loss = loss_fn(outputs, targets)\n",
    "            losses.append(loss.item())\n",
    "            # Calculate the accuracy rate\n",
    "            correct_predictions += torch.sum(preds == targets)\n",
    "            \n",
    "    return correct_predictions.double() / n_examples, np.mean(losses) # Compute the average accuracy and loss over the validation set."
   ]
  },
  {
   "cell_type": "markdown",
   "id": "wXINXzXQHOww",
   "metadata": {
    "id": "wXINXzXQHOww"
   },
   "source": [
    "Using those two helper function, we can write our training loop. We'll also store the training history for future use..."
   ]
  },
  {
   "cell_type": "code",
   "execution_count": 57,
   "id": "d8e63963",
   "metadata": {
    "colab": {
     "base_uri": "https://localhost:8080/"
    },
    "executionInfo": {
     "elapsed": 7736804,
     "status": "ok",
     "timestamp": 1668092053216,
     "user": {
      "displayName": "Minh Hoài",
      "userId": "14699409589520235619"
     },
     "user_tz": -420
    },
    "id": "d8e63963",
    "outputId": "06ac9459-c953-4c7c-cf72-0edc357088f8"
   },
   "outputs": [
    {
     "name": "stdout",
     "output_type": "stream",
     "text": [
      "Epoch 1/10\n",
      "----------------------------------------------------------------------------------------------------\n",
      "Train loss 0.6307903301917901 accuracy 0.7426361517270608\n",
      "Val loss   0.5767550376629589 accuracy 0.7539732994278449\n",
      "\n",
      "Epoch 2/10\n",
      "----------------------------------------------------------------------------------------------------\n",
      "Train loss 0.5208333114698782 accuracy 0.7915165642438369\n",
      "Val loss   0.5701251136835175 accuracy 0.7635092180546726\n",
      "\n",
      "Epoch 3/10\n",
      "----------------------------------------------------------------------------------------------------\n",
      "Train loss 0.46898138820704094 accuracy 0.813837677474041\n",
      "Val loss   0.6163195874353852 accuracy 0.7635092180546726\n",
      "\n",
      "Epoch 4/10\n",
      "----------------------------------------------------------------------------------------------------\n",
      "Train loss 0.41998762496152503 accuracy 0.8385957476866567\n",
      "Val loss   0.6773869502122956 accuracy 0.7469802924348379\n",
      "\n",
      "Epoch 5/10\n",
      "----------------------------------------------------------------------------------------------------\n",
      "Train loss 0.37924598202446086 accuracy 0.8579501306774033\n",
      "Val loss   0.7303568877731309 accuracy 0.7527018436109345\n",
      "\n",
      "Epoch 6/10\n",
      "----------------------------------------------------------------------------------------------------\n",
      "Train loss 0.33965138943792234 accuracy 0.875715193897012\n",
      "Val loss   0.7614613458363697 accuracy 0.7495232040686586\n",
      "\n",
      "Epoch 7/10\n",
      "----------------------------------------------------------------------------------------------------\n",
      "Train loss 0.3050780581989152 accuracy 0.8909726636999363\n",
      "Val loss   0.840996452089813 accuracy 0.7539732994278449\n",
      "\n",
      "Epoch 8/10\n",
      "----------------------------------------------------------------------------------------------------\n",
      "Train loss 0.27548482056686097 accuracy 0.9036165854347672\n",
      "Val loss   0.9080771959828909 accuracy 0.7450731087094724\n",
      "\n",
      "Epoch 9/10\n",
      "----------------------------------------------------------------------------------------------------\n",
      "Train loss 0.25530275939542824 accuracy 0.9154481881754608\n",
      "Val loss   1.006403752668488 accuracy 0.7488874761602035\n",
      "\n",
      "Epoch 10/10\n",
      "----------------------------------------------------------------------------------------------------\n",
      "Train loss 0.24250771267297494 accuracy 0.9189446916719644\n",
      "Val loss   1.0712617881539646 accuracy 0.7476160203432931\n",
      "\n",
      "CPU times: user 1h 30min 28s, sys: 38min 20s, total: 2h 8min 49s\n",
      "Wall time: 2h 8min 56s\n"
     ]
    }
   ],
   "source": [
    "%%time\n",
    "history = defaultdict(list)\n",
    "best_accuracy = 0\n",
    "# Start training loop\n",
    "for epoch in range(EPOCHS):\n",
    "    print(f'Epoch {epoch + 1}/{EPOCHS}')\n",
    "    print('-' * 100)\n",
    "    # model training\n",
    "    train_acc, train_loss = train_epoch(model, train_data_loader, loss_fn, optimizer, device, scheduler, len(df_train))\n",
    "    print(f'Train loss {train_loss} accuracy {train_acc}')\n",
    "    # After the completion of each training epoch, measure the model's performance on our validation set.\n",
    "    val_acc, val_loss = eval_model(model, val_data_loader, loss_fn, device, len(df_val))\n",
    "    print(f'Val loss   {val_loss} accuracy {val_acc}')\n",
    "    print()\n",
    "    # append training accuracy,loss and validation accuracy and loss to the history variable\n",
    "    history['train_acc'].append(train_acc)\n",
    "    history['train_loss'].append(train_loss)\n",
    "    history['val_acc'].append(val_acc)\n",
    "    history['val_loss'].append(val_loss)\n",
    "    # save the best model based on below condition\n",
    "    if val_acc > best_accuracy:\n",
    "        torch.save(model.state_dict(), 'best_model_state.bin')\n",
    "        best_accuracy = val_acc"
   ]
  },
  {
   "cell_type": "markdown",
   "id": "eeuUQvA9Hhlh",
   "metadata": {
    "id": "eeuUQvA9Hhlh"
   },
   "source": [
    "Note that we're storing the state of the best model, indicated by the highest validation accuracy.\n",
    "\n",
    "Whoo, this took some time! We can look at the training vs validation accuracy."
   ]
  },
  {
   "cell_type": "code",
   "execution_count": 58,
   "id": "SL2_yHq0cPE1",
   "metadata": {
    "executionInfo": {
     "elapsed": 28,
     "status": "ok",
     "timestamp": 1668092053217,
     "user": {
      "displayName": "Minh Hoài",
      "userId": "14699409589520235619"
     },
     "user_tz": -420
    },
    "id": "SL2_yHq0cPE1"
   },
   "outputs": [],
   "source": [
    "history_cpu_train_acc = [i.cpu() for i in history['train_acc']]\n",
    "history_cpu_val_acc = [i.cpu() for i in history['val_acc']]"
   ]
  },
  {
   "cell_type": "code",
   "execution_count": 59,
   "id": "D-6ZPx3GHgad",
   "metadata": {
    "colab": {
     "base_uri": "https://localhost:8080/",
     "height": 306
    },
    "executionInfo": {
     "elapsed": 28,
     "status": "ok",
     "timestamp": 1668092053218,
     "user": {
      "displayName": "Minh Hoài",
      "userId": "14699409589520235619"
     },
     "user_tz": -420
    },
    "id": "D-6ZPx3GHgad",
    "outputId": "15246a8f-abe1-4803-f80c-cdab63f5d167"
   },
   "outputs": [
    {
     "data": {
      "image/png": "[encoded data removed]",
      "text/plain": [
       "<Figure size 432x288 with 1 Axes>"
      ]
     },
     "metadata": {},
     "output_type": "display_data"
    }
   ],
   "source": [
    "plt.plot(history_cpu_train_acc, label='train accuracy')\n",
    "plt.plot(history_cpu_val_acc, label='validation accuracy')\n",
    "plt.title('Training history')\n",
    "plt.ylabel('Accuracy')\n",
    "plt.xlabel('Epoch')\n",
    "plt.legend()\n",
    "plt.ylim([0, 1])\n",
    "plt.show()"
   ]
  },
  {
   "cell_type": "markdown",
   "id": "fQYb-fYxHxU_",
   "metadata": {
    "id": "fQYb-fYxHxU_"
   },
   "source": [
    "The training accuracy starts to approach 90% after 10 epochs or so. You might try to fine-tune the parameters a bit more, but this will be good enough for us."
   ]
  },
  {
   "cell_type": "markdown",
   "id": "fEdFT87BHaSU",
   "metadata": {
    "id": "fEdFT87BHaSU"
   },
   "source": [
    "<a id='6'><a/>\n",
    "# 6. Load Pretrained Model"
   ]
  },
  {
   "cell_type": "code",
   "execution_count": 60,
   "id": "DVVNyeU4Hdez",
   "metadata": {
    "colab": {
     "base_uri": "https://localhost:8080/"
    },
    "executionInfo": {
     "elapsed": 2620,
     "status": "ok",
     "timestamp": 1668092055813,
     "user": {
      "displayName": "Minh Hoài",
      "userId": "14699409589520235619"
     },
     "user_tz": -420
    },
    "id": "DVVNyeU4Hdez",
    "outputId": "19fca7a9-a2d5-42c4-f5a0-4d2bc09430de"
   },
   "outputs": [
    {
     "name": "stderr",
     "output_type": "stream",
     "text": [
      "Some weights of the model checkpoint at bert-base-cased were not used when initializing BertModel: ['cls.predictions.transform.dense.weight', 'cls.predictions.bias', 'cls.seq_relationship.bias', 'cls.seq_relationship.weight', 'cls.predictions.transform.dense.bias', 'cls.predictions.transform.LayerNorm.bias', 'cls.predictions.transform.LayerNorm.weight', 'cls.predictions.decoder.weight']\n",
      "- This IS expected if you are initializing BertModel from the checkpoint of a model trained on another task or with another architecture (e.g. initializing a BertForSequenceClassification model from a BertForPreTraining model).\n",
      "- This IS NOT expected if you are initializing BertModel from the checkpoint of a model that you expect to be exactly identical (initializing a BertForSequenceClassification model from a BertForSequenceClassification model).\n"
     ]
    }
   ],
   "source": [
    "model = SentimentClassifier(len(class_names))\n",
    "model.load_state_dict(torch.load('best_model_state.bin'))\n",
    "model = model.to(device)"
   ]
  },
  {
   "cell_type": "markdown",
   "id": "p6elowKmXG40",
   "metadata": {
    "id": "p6elowKmXG40"
   },
   "source": [
    "<a id='7'><a/>\n",
    "# 7. Model Evaluation"
   ]
  },
  {
   "cell_type": "code",
   "execution_count": 61,
   "id": "pvDR9o7_YKEe",
   "metadata": {
    "colab": {
     "base_uri": "https://localhost:8080/"
    },
    "executionInfo": {
     "elapsed": 15117,
     "status": "ok",
     "timestamp": 1668092070925,
     "user": {
      "displayName": "Minh Hoài",
      "userId": "14699409589520235619"
     },
     "user_tz": -420
    },
    "id": "pvDR9o7_YKEe",
    "outputId": "4fa323c0-7091-4427-eb5f-0a1628d13d2f"
   },
   "outputs": [
    {
     "data": {
      "text/plain": [
       "0.7832167832167832"
      ]
     },
     "execution_count": 61,
     "metadata": {},
     "output_type": "execute_result"
    }
   ],
   "source": [
    "test_acc, _ = eval_model(\n",
    "  model,\n",
    "  test_data_loader,\n",
    "  loss_fn,\n",
    "  device,\n",
    "  len(df_test)\n",
    ")\n",
    "test_acc.item()"
   ]
  },
  {
   "cell_type": "markdown",
   "id": "JkEzzRunXsA-",
   "metadata": {
    "id": "JkEzzRunXsA-"
   },
   "source": [
    "The accuracy is very low on the test set. Our model needs tuning.\n",
    "\n",
    "lets check the prediction, we'll define a helper function to get the predictions from our model."
   ]
  },
  {
   "cell_type": "code",
   "execution_count": 62,
   "id": "q2k8ZVQQXu5V",
   "metadata": {
    "executionInfo": {
     "elapsed": 29,
     "status": "ok",
     "timestamp": 1668092070926,
     "user": {
      "displayName": "Minh Hoài",
      "userId": "14699409589520235619"
     },
     "user_tz": -420
    },
    "id": "q2k8ZVQQXu5V"
   },
   "outputs": [],
   "source": [
    "def get_predictions(model, data_loader):\n",
    "    # put model in evaluation mode\n",
    "    model = model.eval()\n",
    "    # Create empty lists to store outputs\n",
    "    review_texts = []\n",
    "    predictions = []\n",
    "    prediction_probs = []\n",
    "    real_values = []\n",
    "\n",
    "    with torch.no_grad():\n",
    "    for batch in data_loader:\n",
    "      # We'll move the example batch of our test data to the GPU\n",
    "      texts = batch[\"review_text\"]\n",
    "      input_ids = batch[\"input_ids\"].to(device)\n",
    "      attention_mask = batch[\"attention_mask\"].to(device)\n",
    "      targets = batch[\"targets\"].to(device)\n",
    "      # Perform a forward pass. This will return logits.\n",
    "      outputs = model(\n",
    "        input_ids=input_ids,\n",
    "        attention_mask=attention_mask\n",
    "      )\n",
    "      # Get the predictions\n",
    "      _, preds = torch.max(outputs, dim=1)\n",
    "      review_texts.extend(texts)\n",
    "      predictions.extend(preds)\n",
    "      prediction_probs.extend(outputs)\n",
    "      real_values.extend(targets)\n",
    "    predictions = torch.stack(predictions).cpu()\n",
    "    prediction_probs = torch.stack(prediction_probs).cpu()\n",
    "    real_values = torch.stack(real_values).cpu()\n",
    "    return review_texts, predictions, prediction_probs, real_values"
   ]
  },
  {
   "cell_type": "markdown",
   "id": "pAGPLrYfZXt2",
   "metadata": {
    "id": "pAGPLrYfZXt2"
   },
   "source": [
    "This is similar to the evaluation function, except that we're storing the text of the reviews and the predicted probabilities."
   ]
  },
  {
   "cell_type": "code",
   "execution_count": 63,
   "id": "yoIgD22yZboP",
   "metadata": {
    "executionInfo": {
     "elapsed": 15712,
     "status": "ok",
     "timestamp": 1668092086612,
     "user": {
      "displayName": "Minh Hoài",
      "userId": "14699409589520235619"
     },
     "user_tz": -420
    },
    "id": "yoIgD22yZboP"
   },
   "outputs": [],
   "source": [
    "y_review_texts, y_pred, y_pred_probs, y_test = get_predictions(\n",
    "  model,\n",
    "  test_data_loader\n",
    ")"
   ]
  },
  {
   "cell_type": "markdown",
   "id": "4huQEcW4Zg1E",
   "metadata": {
    "id": "4huQEcW4Zg1E"
   },
   "source": [
    "Let's have a look at the classification report."
   ]
  },
  {
   "cell_type": "code",
   "execution_count": 64,
   "id": "LSXSi7kwZi0-",
   "metadata": {
    "colab": {
     "base_uri": "https://localhost:8080/"
    },
    "executionInfo": {
     "elapsed": 45,
     "status": "ok",
     "timestamp": 1668092086625,
     "user": {
      "displayName": "Minh Hoài",
      "userId": "14699409589520235619"
     },
     "user_tz": -420
    },
    "id": "LSXSi7kwZi0-",
    "outputId": "932439b7-c91b-4bf1-df0b-35adbafdf90c"
   },
   "outputs": [
    {
     "name": "stdout",
     "output_type": "stream",
     "text": [
      "              precision    recall  f1-score   support\n",
      "\n",
      "    negative       0.71      0.72      0.71       316\n",
      "     neutral       0.41      0.30      0.34       215\n",
      "    positive       0.86      0.90      0.88      1042\n",
      "\n",
      "    accuracy                           0.78      1573\n",
      "   macro avg       0.66      0.64      0.65      1573\n",
      "weighted avg       0.77      0.78      0.77      1573\n",
      "\n"
     ]
    }
   ],
   "source": [
    "print(classification_report(y_test, y_pred, target_names=class_names))"
   ]
  },
  {
   "cell_type": "markdown",
   "id": "LZYNdZmQaL-a",
   "metadata": {
    "id": "LZYNdZmQaL-a"
   },
   "source": [
    "Looks like it is really hard to classify neutral (3 stars) reviews. And I can tell you from experience, looking at many reviews, those are hard to classify.\n",
    "\n",
    "We'll continue with the confusion matrix-"
   ]
  },
  {
   "cell_type": "code",
   "execution_count": 65,
   "id": "-sxq20v6aRly",
   "metadata": {
    "colab": {
     "base_uri": "https://localhost:8080/",
     "height": 316
    },
    "executionInfo": {
     "elapsed": 43,
     "status": "ok",
     "timestamp": 1668092086628,
     "user": {
      "displayName": "Minh Hoài",
      "userId": "14699409589520235619"
     },
     "user_tz": -420
    },
    "id": "-sxq20v6aRly",
    "outputId": "e9f13780-e645-410d-fab6-0e6c2b0f4952"
   },
   "outputs": [
    {
     "data": {
      "image/png": "[encoded data removed]",
      "text/plain": [
       "<Figure size 432x288 with 2 Axes>"
      ]
     },
     "metadata": {},
     "output_type": "display_data"
    }
   ],
   "source": [
    "def show_confusion_matrix(confusion_matrix):\n",
    "    hmap = sns.heatmap(confusion_matrix, annot=True, fmt=\"d\", cmap=\"plasma\")\n",
    "    hmap.yaxis.set_ticklabels(hmap.yaxis.get_ticklabels(), rotation=0, ha='right')\n",
    "    hmap.xaxis.set_ticklabels(hmap.xaxis.get_ticklabels(), rotation=30, ha='right')\n",
    "    plt.ylabel('True sentiment')\n",
    "    plt.xlabel('Predicted sentiment');\n",
    "cm = confusion_matrix(y_test, y_pred)\n",
    "df_cm = pd.DataFrame(cm, index=class_names, columns=class_names)\n",
    "show_confusion_matrix(df_cm)"
   ]
  },
  {
   "cell_type": "markdown",
   "id": "_dQ6lHVmasmY",
   "metadata": {
    "id": "_dQ6lHVmasmY"
   },
   "source": [
    "This confirms that our model is having difficulty classifying neutral reviews.\n",
    "\n",
    "That's a good overview of the performance of our model. But let's have a look at an example from our test data."
   ]
  },
  {
   "cell_type": "code",
   "execution_count": 66,
   "id": "7qJyPRr9a18P",
   "metadata": {
    "colab": {
     "base_uri": "https://localhost:8080/"
    },
    "executionInfo": {
     "elapsed": 43,
     "status": "ok",
     "timestamp": 1668092086631,
     "user": {
      "displayName": "Minh Hoài",
      "userId": "14699409589520235619"
     },
     "user_tz": -420
    },
    "id": "7qJyPRr9a18P",
    "outputId": "25a7db68-30ef-43f8-ea99-ec56d4e7a29f"
   },
   "outputs": [
    {
     "name": "stdout",
     "output_type": "stream",
     "text": [
      "Góp ý với shop đóng hộp carton thì tốt hơn.\n",
      "\n",
      "True sentiment: neutral\n"
     ]
    }
   ],
   "source": [
    "idx = 50\n",
    "review_text = y_review_texts[idx]\n",
    "true_sentiment = y_test[idx]\n",
    "pred_df = pd.DataFrame({\n",
    "  'class_names': class_names,\n",
    "  'values': y_pred_probs[idx]\n",
    "})\n",
    "\n",
    "from textwrap import wrap \n",
    "print(\"\\n\".join(wrap(review_text)))\n",
    "print()\n",
    "print(f'True sentiment: {class_names[true_sentiment]}')"
   ]
  },
  {
   "cell_type": "markdown",
   "id": "BmeUtlfGbtut",
   "metadata": {
    "id": "BmeUtlfGbtut"
   },
   "source": [
    "Now, we can look at the confidence of each sentiment of our mode."
   ]
  },
  {
   "cell_type": "code",
   "execution_count": 67,
   "id": "vbdSnCOQbwnQ",
   "metadata": {
    "colab": {
     "base_uri": "https://localhost:8080/",
     "height": 289
    },
    "executionInfo": {
     "elapsed": 18,
     "status": "ok",
     "timestamp": 1668092087076,
     "user": {
      "displayName": "Minh Hoài",
      "userId": "14699409589520235619"
     },
     "user_tz": -420
    },
    "id": "vbdSnCOQbwnQ",
    "outputId": "95c908aa-6bc4-4529-d4be-b88fbfbe0a2d"
   },
   "outputs": [
    {
     "data": {
      "image/png": "[encoded data removed]",
      "text/plain": [
       "<Figure size 432x288 with 1 Axes>"
      ]
     },
     "metadata": {},
     "output_type": "display_data"
    }
   ],
   "source": [
    "sns.barplot(x='values', y='class_names', data=pred_df, orient='h')\n",
    "plt.ylabel('sentiment')\n",
    "plt.xlabel('probability')\n",
    "plt.xlim([0, 1])\n",
    "plt.show()"
   ]
  },
  {
   "cell_type": "markdown",
   "id": "Mg0UYcxEb4Tw",
   "metadata": {
    "id": "Mg0UYcxEb4Tw"
   },
   "source": [
    "### Prediction on Raw Text"
   ]
  },
  {
   "cell_type": "code",
   "execution_count": 73,
   "id": "D_UyY53hdcPN",
   "metadata": {
    "executionInfo": {
     "elapsed": 3,
     "status": "ok",
     "timestamp": 1668092529787,
     "user": {
      "displayName": "Minh Hoài",
      "userId": "14699409589520235619"
     },
     "user_tz": -420
    },
    "id": "D_UyY53hdcPN"
   },
   "outputs": [],
   "source": [
    "def prediction_on_raw_data(raw_text):\n",
    "  encoded_review = tokenizer.encode_plus(\n",
    "  raw_text,\n",
    "  padding='max_length', # Pad sentence to max length\n",
    "  truncation=True,  #Truncate sentence to max length\n",
    "  max_length=32,\n",
    "  add_special_tokens=True, # Add '[CLS]' and '[SEP]'\n",
    "  return_token_type_ids=False,\n",
    "  return_attention_mask=True, # Return attention mask\n",
    "  return_tensors='pt',  # Return torch objects\n",
    "  )\n",
    "\n",
    "  input_ids = encoded_review['input_ids'].to(device)\n",
    "  attention_mask = encoded_review['attention_mask'].to(device)\n",
    "  output = model(input_ids, attention_mask)\n",
    "\n",
    "  _, prediction = torch.max(output, dim=1)\n",
    "  \n",
    "  print(f'Review text: {raw_text}')\n",
    "  print(f'Sentiment  : {class_names[prediction]}')\n",
    "\n"
   ]
  },
  {
   "cell_type": "code",
   "execution_count": 76,
   "id": "197dixleb7BS",
   "metadata": {
    "executionInfo": {
     "elapsed": 8,
     "status": "ok",
     "timestamp": 1668092650434,
     "user": {
      "displayName": "Minh Hoài",
      "userId": "14699409589520235619"
     },
     "user_tz": -420
    },
    "id": "197dixleb7BS"
   },
   "outputs": [],
   "source": [
    "# Let's use our model to predict the sentiment of some raw text\n",
    "raw_text = \"Nó khá là khó hiểu và làm tôi bị rối.\"\n"
   ]
  },
  {
   "cell_type": "code",
   "execution_count": 77,
   "id": "CxJQZ2ZGeC5v",
   "metadata": {
    "colab": {
     "base_uri": "https://localhost:8080/"
    },
    "executionInfo": {
     "elapsed": 343,
     "status": "ok",
     "timestamp": 1668092654307,
     "user": {
      "displayName": "Minh Hoài",
      "userId": "14699409589520235619"
     },
     "user_tz": -420
    },
    "id": "CxJQZ2ZGeC5v",
    "outputId": "54e3a890-9d84-4f1f-86e2-e21766d43fd9"
   },
   "outputs": [
    {
     "name": "stdout",
     "output_type": "stream",
     "text": [
      "Review text: Nó khá là khó hiểu và làm tôi bị rối.\n",
      "Sentiment  : negative\n"
     ]
    }
   ],
   "source": [
    "prediction_on_raw_data(raw_text)"
   ]
  },
  {
   "cell_type": "code",
   "execution_count": 75,
   "id": "JINMdYXXw1Bc",
   "metadata": {
    "colab": {
     "base_uri": "https://localhost:8080/"
    },
    "executionInfo": {
     "elapsed": 329,
     "status": "ok",
     "timestamp": 1668092601725,
     "user": {
      "displayName": "Minh Hoài",
      "userId": "14699409589520235619"
     },
     "user_tz": -420
    },
    "id": "JINMdYXXw1Bc",
    "outputId": "1a7fd51b-f145-4e0a-a5df-7ad290b5c89b"
   },
   "outputs": [
    {
     "name": "stdout",
     "output_type": "stream",
     "text": [
      "Review text: Nó thật dễ sử dụng và tiện lợi. Good job\n",
      "Sentiment  : positive\n"
     ]
    }
   ],
   "source": [
    "raw_text = \"Nó thật dễ sử dụng và tiện lợi. Good job\"\n",
    "prediction_on_raw_data(raw_text)\n"
   ]
  },
  {
   "cell_type": "code",
   "execution_count": 80,
   "id": "C8XqLaJBEkoL",
   "metadata": {
    "colab": {
     "base_uri": "https://localhost:8080/"
    },
    "executionInfo": {
     "elapsed": 453,
     "status": "ok",
     "timestamp": 1668092733236,
     "user": {
      "displayName": "Minh Hoài",
      "userId": "14699409589520235619"
     },
     "user_tz": -420
    },
    "id": "C8XqLaJBEkoL",
    "outputId": "bc665a5c-4769-4353-9711-e2a8af861855"
   },
   "outputs": [
    {
     "name": "stdout",
     "output_type": "stream",
     "text": [
      "Review text: Tôi thấy nó khá ổn\n",
      "Sentiment  : neutral\n"
     ]
    }
   ],
   "source": [
    "raw_text = \"Tôi thấy nó khá ổn\"\n",
    "prediction_on_raw_data(raw_text)"
   ]
  },
  {
   "cell_type": "markdown",
   "id": "7d32d41e",
   "metadata": {
    "executionInfo": {
     "elapsed": 14,
     "status": "ok",
     "timestamp": 1668092087082,
     "user": {
      "displayName": "Minh Hoài",
      "userId": "14699409589520235619"
     },
     "user_tz": -420
    },
    "id": "_b078p_VxESj"
   },
   "source": [
    "# END"
   ]
  }
 ],
 "metadata": {
  "accelerator": "GPU",
  "colab": {
   "collapsed_sections": [],
   "provenance": []
  },
  "kernelspec": {
   "display_name": "Python 3 (ipykernel)",
   "language": "python",
   "name": "python3"
  },
  "language_info": {
   "codemirror_mode": {
    "name": "ipython",
    "version": 3
   },
   "file_extension": ".py",
   "mimetype": "text/x-python",
   "name": "python",
   "nbconvert_exporter": "python",
   "pygments_lexer": "ipython3",
   "version": "3.9.12"
  },
  "vscode": {
   "interpreter": {
    "hash": "2638897db4894adee17f5c822d0f261f83c0071d75ec1d1772e9973682bbdae7"
   }
  },
  "widgets": {
   "application/vnd.jupyter.widget-state+json": {
    "00f2a488c8284da2a77fb920cca33136": {
     "model_module": "@jupyter-widgets/base",
     "model_module_version": "1.2.0",
     "model_name": "LayoutModel",
     "state": {
      "_model_module": "@jupyter-widgets/base",
      "_model_module_version": "1.2.0",
      "_model_name": "LayoutModel",
      "_view_count": null,
      "_view_module": "@jupyter-widgets/base",
      "_view_module_version": "1.2.0",
      "_view_name": "LayoutView",
      "align_content": null,
      "align_items": null,
      "align_self": null,
      "border": null,
      "bottom": null,
      "display": null,
      "flex": null,
      "flex_flow": null,
      "grid_area": null,
      "grid_auto_columns": null,
      "grid_auto_flow": null,
      "grid_auto_rows": null,
      "grid_column": null,
      "grid_gap": null,
      "grid_row": null,
      "grid_template_areas": null,
      "grid_template_columns": null,
      "grid_template_rows": null,
      "height": null,
      "justify_content": null,
      "justify_items": null,
      "left": null,
      "margin": null,
      "max_height": null,
      "max_width": null,
      "min_height": null,
      "min_width": null,
      "object_fit": null,
      "object_position": null,
      "order": null,
      "overflow": null,
      "overflow_x": null,
      "overflow_y": null,
      "padding": null,
      "right": null,
      "top": null,
      "visibility": null,
      "width": null
     }
    },
    "022f8be669764a2598d77da587bb4702": {
     "model_module": "@jupyter-widgets/controls",
     "model_module_version": "1.5.0",
     "model_name": "FloatProgressModel",
     "state": {
      "_dom_classes": [],
      "_model_module": "@jupyter-widgets/controls",
      "_model_module_version": "1.5.0",
      "_model_name": "FloatProgressModel",
      "_view_count": null,
      "_view_module": "@jupyter-widgets/controls",
      "_view_module_version": "1.5.0",
      "_view_name": "ProgressView",
      "bar_style": "success",
      "description": "",
      "description_tooltip": null,
      "layout": "IPY_MODEL_7811996af64b4c6eb48c8688d1ff5edf",
      "max": 213450,
      "min": 0,
      "orientation": "horizontal",
      "style": "IPY_MODEL_ba076586b9ae4fcf90c888583bfb2e13",
      "value": 213450
     }
    },
    "07615432c0b74d26ba8bdc8ad480ba1d": {
     "model_module": "@jupyter-widgets/controls",
     "model_module_version": "1.5.0",
     "model_name": "HTMLModel",
     "state": {
      "_dom_classes": [],
      "_model_module": "@jupyter-widgets/controls",
      "_model_module_version": "1.5.0",
      "_model_name": "HTMLModel",
      "_view_count": null,
      "_view_module": "@jupyter-widgets/controls",
      "_view_module_version": "1.5.0",
      "_view_name": "HTMLView",
      "description": "",
      "description_tooltip": null,
      "layout": "IPY_MODEL_df12160521e347a49f1e4c5e4d7d47d5",
      "placeholder": "​",
      "style": "IPY_MODEL_535943d196b54c29a66e7b2cefed11e9",
      "value": "Downloading: 100%"
     }
    },
    "122c99c4abfa41cfa4e47002bb5911ce": {
     "model_module": "@jupyter-widgets/controls",
     "model_module_version": "1.5.0",
     "model_name": "HTMLModel",
     "state": {
      "_dom_classes": [],
      "_model_module": "@jupyter-widgets/controls",
      "_model_module_version": "1.5.0",
      "_model_name": "HTMLModel",
      "_view_count": null,
      "_view_module": "@jupyter-widgets/controls",
      "_view_module_version": "1.5.0",
      "_view_name": "HTMLView",
      "description": "",
      "description_tooltip": null,
      "layout": "IPY_MODEL_6ca559480dae41c9a9f292c8bb4869b2",
      "placeholder": "​",
      "style": "IPY_MODEL_20babdac1ad949c48eaf5105d6769ca4",
      "value": " 213k/213k [00:00&lt;00:00, 4.69MB/s]"
     }
    },
    "151bf38ff76446c79f40647dd3e780f4": {
     "model_module": "@jupyter-widgets/controls",
     "model_module_version": "1.5.0",
     "model_name": "DescriptionStyleModel",
     "state": {
      "_model_module": "@jupyter-widgets/controls",
      "_model_module_version": "1.5.0",
      "_model_name": "DescriptionStyleModel",
      "_view_count": null,
      "_view_module": "@jupyter-widgets/base",
      "_view_module_version": "1.2.0",
      "_view_name": "StyleView",
      "description_width": ""
     }
    },
    "1750c044a1d14d7fa1e5f906bd63899e": {
     "model_module": "@jupyter-widgets/base",
     "model_module_version": "1.2.0",
     "model_name": "LayoutModel",
     "state": {
      "_model_module": "@jupyter-widgets/base",
      "_model_module_version": "1.2.0",
      "_model_name": "LayoutModel",
      "_view_count": null,
      "_view_module": "@jupyter-widgets/base",
      "_view_module_version": "1.2.0",
      "_view_name": "LayoutView",
      "align_content": null,
      "align_items": null,
      "align_self": null,
      "border": null,
      "bottom": null,
      "display": null,
      "flex": null,
      "flex_flow": null,
      "grid_area": null,
      "grid_auto_columns": null,
      "grid_auto_flow": null,
      "grid_auto_rows": null,
      "grid_column": null,
      "grid_gap": null,
      "grid_row": null,
      "grid_template_areas": null,
      "grid_template_columns": null,
      "grid_template_rows": null,
      "height": null,
      "justify_content": null,
      "justify_items": null,
      "left": null,
      "margin": null,
      "max_height": null,
      "max_width": null,
      "min_height": null,
      "min_width": null,
      "object_fit": null,
      "object_position": null,
      "order": null,
      "overflow": null,
      "overflow_x": null,
      "overflow_y": null,
      "padding": null,
      "right": null,
      "top": null,
      "visibility": null,
      "width": null
     }
    },
    "1a0c14bf82db42a094c0fdcd7f108cca": {
     "model_module": "@jupyter-widgets/controls",
     "model_module_version": "1.5.0",
     "model_name": "DescriptionStyleModel",
     "state": {
      "_model_module": "@jupyter-widgets/controls",
      "_model_module_version": "1.5.0",
      "_model_name": "DescriptionStyleModel",
      "_view_count": null,
      "_view_module": "@jupyter-widgets/base",
      "_view_module_version": "1.2.0",
      "_view_name": "StyleView",
      "description_width": ""
     }
    },
    "20babdac1ad949c48eaf5105d6769ca4": {
     "model_module": "@jupyter-widgets/controls",
     "model_module_version": "1.5.0",
     "model_name": "DescriptionStyleModel",
     "state": {
      "_model_module": "@jupyter-widgets/controls",
      "_model_module_version": "1.5.0",
      "_model_name": "DescriptionStyleModel",
      "_view_count": null,
      "_view_module": "@jupyter-widgets/base",
      "_view_module_version": "1.2.0",
      "_view_name": "StyleView",
      "description_width": ""
     }
    },
    "23cc79ee7c3f417bb2efe47f9a354722": {
     "model_module": "@jupyter-widgets/base",
     "model_module_version": "1.2.0",
     "model_name": "LayoutModel",
     "state": {
      "_model_module": "@jupyter-widgets/base",
      "_model_module_version": "1.2.0",
      "_model_name": "LayoutModel",
      "_view_count": null,
      "_view_module": "@jupyter-widgets/base",
      "_view_module_version": "1.2.0",
      "_view_name": "LayoutView",
      "align_content": null,
      "align_items": null,
      "align_self": null,
      "border": null,
      "bottom": null,
      "display": null,
      "flex": null,
      "flex_flow": null,
      "grid_area": null,
      "grid_auto_columns": null,
      "grid_auto_flow": null,
      "grid_auto_rows": null,
      "grid_column": null,
      "grid_gap": null,
      "grid_row": null,
      "grid_template_areas": null,
      "grid_template_columns": null,
      "grid_template_rows": null,
      "height": null,
      "justify_content": null,
      "justify_items": null,
      "left": null,
      "margin": null,
      "max_height": null,
      "max_width": null,
      "min_height": null,
      "min_width": null,
      "object_fit": null,
      "object_position": null,
      "order": null,
      "overflow": null,
      "overflow_x": null,
      "overflow_y": null,
      "padding": null,
      "right": null,
      "top": null,
      "visibility": null,
      "width": null
     }
    },
    "29f05f6d604b400a8e11bef0261a7955": {
     "model_module": "@jupyter-widgets/controls",
     "model_module_version": "1.5.0",
     "model_name": "HBoxModel",
     "state": {
      "_dom_classes": [],
      "_model_module": "@jupyter-widgets/controls",
      "_model_module_version": "1.5.0",
      "_model_name": "HBoxModel",
      "_view_count": null,
      "_view_module": "@jupyter-widgets/controls",
      "_view_module_version": "1.5.0",
      "_view_name": "HBoxView",
      "box_style": "",
      "children": [
       "IPY_MODEL_acc710405f334548ac4018236f107bbf",
       "IPY_MODEL_5520bf84ec584428a6d3ba91431062b3",
       "IPY_MODEL_4fae2f33025c41bfaef4a699bc928cf9"
      ],
      "layout": "IPY_MODEL_982bce15dab6407fb125c865d14dee60"
     }
    },
    "2aa5545d749844cea36e93896ff58f6a": {
     "model_module": "@jupyter-widgets/base",
     "model_module_version": "1.2.0",
     "model_name": "LayoutModel",
     "state": {
      "_model_module": "@jupyter-widgets/base",
      "_model_module_version": "1.2.0",
      "_model_name": "LayoutModel",
      "_view_count": null,
      "_view_module": "@jupyter-widgets/base",
      "_view_module_version": "1.2.0",
      "_view_name": "LayoutView",
      "align_content": null,
      "align_items": null,
      "align_self": null,
      "border": null,
      "bottom": null,
      "display": null,
      "flex": null,
      "flex_flow": null,
      "grid_area": null,
      "grid_auto_columns": null,
      "grid_auto_flow": null,
      "grid_auto_rows": null,
      "grid_column": null,
      "grid_gap": null,
      "grid_row": null,
      "grid_template_areas": null,
      "grid_template_columns": null,
      "grid_template_rows": null,
      "height": null,
      "justify_content": null,
      "justify_items": null,
      "left": null,
      "margin": null,
      "max_height": null,
      "max_width": null,
      "min_height": null,
      "min_width": null,
      "object_fit": null,
      "object_position": null,
      "order": null,
      "overflow": null,
      "overflow_x": null,
      "overflow_y": null,
      "padding": null,
      "right": null,
      "top": null,
      "visibility": null,
      "width": null
     }
    },
    "31891a23489e4907a93cb69db1f1ef61": {
     "model_module": "@jupyter-widgets/controls",
     "model_module_version": "1.5.0",
     "model_name": "HTMLModel",
     "state": {
      "_dom_classes": [],
      "_model_module": "@jupyter-widgets/controls",
      "_model_module_version": "1.5.0",
      "_model_name": "HTMLModel",
      "_view_count": null,
      "_view_module": "@jupyter-widgets/controls",
      "_view_module_version": "1.5.0",
      "_view_name": "HTMLView",
      "description": "",
      "description_tooltip": null,
      "layout": "IPY_MODEL_00f2a488c8284da2a77fb920cca33136",
      "placeholder": "​",
      "style": "IPY_MODEL_151bf38ff76446c79f40647dd3e780f4",
      "value": " 436M/436M [00:10&lt;00:00, 25.8MB/s]"
     }
    },
    "3976f72e609c436db8fd5ad3c051c7fc": {
     "model_module": "@jupyter-widgets/controls",
     "model_module_version": "1.5.0",
     "model_name": "HTMLModel",
     "state": {
      "_dom_classes": [],
      "_model_module": "@jupyter-widgets/controls",
      "_model_module_version": "1.5.0",
      "_model_name": "HTMLModel",
      "_view_count": null,
      "_view_module": "@jupyter-widgets/controls",
      "_view_module_version": "1.5.0",
      "_view_name": "HTMLView",
      "description": "",
      "description_tooltip": null,
      "layout": "IPY_MODEL_4d160b2d39b446278ad98c2cf8b700b9",
      "placeholder": "​",
      "style": "IPY_MODEL_df9e6736ec8b483bbb1d3e91207a16f4",
      "value": " 29.0/29.0 [00:00&lt;00:00, 842B/s]"
     }
    },
    "4602b988040c40979d64d5ec1dde3afa": {
     "model_module": "@jupyter-widgets/controls",
     "model_module_version": "1.5.0",
     "model_name": "ProgressStyleModel",
     "state": {
      "_model_module": "@jupyter-widgets/controls",
      "_model_module_version": "1.5.0",
      "_model_name": "ProgressStyleModel",
      "_view_count": null,
      "_view_module": "@jupyter-widgets/base",
      "_view_module_version": "1.2.0",
      "_view_name": "StyleView",
      "bar_color": null,
      "description_width": ""
     }
    },
    "4b178b28a50f460a941b26f644abce9b": {
     "model_module": "@jupyter-widgets/controls",
     "model_module_version": "1.5.0",
     "model_name": "DescriptionStyleModel",
     "state": {
      "_model_module": "@jupyter-widgets/controls",
      "_model_module_version": "1.5.0",
      "_model_name": "DescriptionStyleModel",
      "_view_count": null,
      "_view_module": "@jupyter-widgets/base",
      "_view_module_version": "1.2.0",
      "_view_name": "StyleView",
      "description_width": ""
     }
    },
    "4d160b2d39b446278ad98c2cf8b700b9": {
     "model_module": "@jupyter-widgets/base",
     "model_module_version": "1.2.0",
     "model_name": "LayoutModel",
     "state": {
      "_model_module": "@jupyter-widgets/base",
      "_model_module_version": "1.2.0",
      "_model_name": "LayoutModel",
      "_view_count": null,
      "_view_module": "@jupyter-widgets/base",
      "_view_module_version": "1.2.0",
      "_view_name": "LayoutView",
      "align_content": null,
      "align_items": null,
      "align_self": null,
      "border": null,
      "bottom": null,
      "display": null,
      "flex": null,
      "flex_flow": null,
      "grid_area": null,
      "grid_auto_columns": null,
      "grid_auto_flow": null,
      "grid_auto_rows": null,
      "grid_column": null,
      "grid_gap": null,
      "grid_row": null,
      "grid_template_areas": null,
      "grid_template_columns": null,
      "grid_template_rows": null,
      "height": null,
      "justify_content": null,
      "justify_items": null,
      "left": null,
      "margin": null,
      "max_height": null,
      "max_width": null,
      "min_height": null,
      "min_width": null,
      "object_fit": null,
      "object_position": null,
      "order": null,
      "overflow": null,
      "overflow_x": null,
      "overflow_y": null,
      "padding": null,
      "right": null,
      "top": null,
      "visibility": null,
      "width": null
     }
    },
    "4e4932e4860a4d94bd4bb343eb26216e": {
     "model_module": "@jupyter-widgets/controls",
     "model_module_version": "1.5.0",
     "model_name": "HTMLModel",
     "state": {
      "_dom_classes": [],
      "_model_module": "@jupyter-widgets/controls",
      "_model_module_version": "1.5.0",
      "_model_name": "HTMLModel",
      "_view_count": null,
      "_view_module": "@jupyter-widgets/controls",
      "_view_module_version": "1.5.0",
      "_view_name": "HTMLView",
      "description": "",
      "description_tooltip": null,
      "layout": "IPY_MODEL_97ada0a805f345018971369c46616726",
      "placeholder": "​",
      "style": "IPY_MODEL_1a0c14bf82db42a094c0fdcd7f108cca",
      "value": "Downloading: 100%"
     }
    },
    "4fae2f33025c41bfaef4a699bc928cf9": {
     "model_module": "@jupyter-widgets/controls",
     "model_module_version": "1.5.0",
     "model_name": "HTMLModel",
     "state": {
      "_dom_classes": [],
      "_model_module": "@jupyter-widgets/controls",
      "_model_module_version": "1.5.0",
      "_model_name": "HTMLModel",
      "_view_count": null,
      "_view_module": "@jupyter-widgets/controls",
      "_view_module_version": "1.5.0",
      "_view_name": "HTMLView",
      "description": "",
      "description_tooltip": null,
      "layout": "IPY_MODEL_2aa5545d749844cea36e93896ff58f6a",
      "placeholder": "​",
      "style": "IPY_MODEL_82ea21133a2c4a2dbcde1520ac22cefe",
      "value": " 570/570 [00:00&lt;00:00, 18.0kB/s]"
     }
    },
    "535943d196b54c29a66e7b2cefed11e9": {
     "model_module": "@jupyter-widgets/controls",
     "model_module_version": "1.5.0",
     "model_name": "DescriptionStyleModel",
     "state": {
      "_model_module": "@jupyter-widgets/controls",
      "_model_module_version": "1.5.0",
      "_model_name": "DescriptionStyleModel",
      "_view_count": null,
      "_view_module": "@jupyter-widgets/base",
      "_view_module_version": "1.2.0",
      "_view_name": "StyleView",
      "description_width": ""
     }
    },
    "5520bf84ec584428a6d3ba91431062b3": {
     "model_module": "@jupyter-widgets/controls",
     "model_module_version": "1.5.0",
     "model_name": "FloatProgressModel",
     "state": {
      "_dom_classes": [],
      "_model_module": "@jupyter-widgets/controls",
      "_model_module_version": "1.5.0",
      "_model_name": "FloatProgressModel",
      "_view_count": null,
      "_view_module": "@jupyter-widgets/controls",
      "_view_module_version": "1.5.0",
      "_view_name": "ProgressView",
      "bar_style": "success",
      "description": "",
      "description_tooltip": null,
      "layout": "IPY_MODEL_1750c044a1d14d7fa1e5f906bd63899e",
      "max": 570,
      "min": 0,
      "orientation": "horizontal",
      "style": "IPY_MODEL_4602b988040c40979d64d5ec1dde3afa",
      "value": 570
     }
    },
    "5b04b3cae59d411c936dc4bc6fd90561": {
     "model_module": "@jupyter-widgets/controls",
     "model_module_version": "1.5.0",
     "model_name": "HBoxModel",
     "state": {
      "_dom_classes": [],
      "_model_module": "@jupyter-widgets/controls",
      "_model_module_version": "1.5.0",
      "_model_name": "HBoxModel",
      "_view_count": null,
      "_view_module": "@jupyter-widgets/controls",
      "_view_module_version": "1.5.0",
      "_view_name": "HBoxView",
      "box_style": "",
      "children": [
       "IPY_MODEL_afc35ddafe024aee837b11eb3e758f7e",
       "IPY_MODEL_999f28a0a0a442299defee8aa8403903",
       "IPY_MODEL_3976f72e609c436db8fd5ad3c051c7fc"
      ],
      "layout": "IPY_MODEL_9dea79c0688f4aa98c31a56714dff6db"
     }
    },
    "6ca559480dae41c9a9f292c8bb4869b2": {
     "model_module": "@jupyter-widgets/base",
     "model_module_version": "1.2.0",
     "model_name": "LayoutModel",
     "state": {
      "_model_module": "@jupyter-widgets/base",
      "_model_module_version": "1.2.0",
      "_model_name": "LayoutModel",
      "_view_count": null,
      "_view_module": "@jupyter-widgets/base",
      "_view_module_version": "1.2.0",
      "_view_name": "LayoutView",
      "align_content": null,
      "align_items": null,
      "align_self": null,
      "border": null,
      "bottom": null,
      "display": null,
      "flex": null,
      "flex_flow": null,
      "grid_area": null,
      "grid_auto_columns": null,
      "grid_auto_flow": null,
      "grid_auto_rows": null,
      "grid_column": null,
      "grid_gap": null,
      "grid_row": null,
      "grid_template_areas": null,
      "grid_template_columns": null,
      "grid_template_rows": null,
      "height": null,
      "justify_content": null,
      "justify_items": null,
      "left": null,
      "margin": null,
      "max_height": null,
      "max_width": null,
      "min_height": null,
      "min_width": null,
      "object_fit": null,
      "object_position": null,
      "order": null,
      "overflow": null,
      "overflow_x": null,
      "overflow_y": null,
      "padding": null,
      "right": null,
      "top": null,
      "visibility": null,
      "width": null
     }
    },
    "7246f7edec37461ba089cc31741baca7": {
     "model_module": "@jupyter-widgets/base",
     "model_module_version": "1.2.0",
     "model_name": "LayoutModel",
     "state": {
      "_model_module": "@jupyter-widgets/base",
      "_model_module_version": "1.2.0",
      "_model_name": "LayoutModel",
      "_view_count": null,
      "_view_module": "@jupyter-widgets/base",
      "_view_module_version": "1.2.0",
      "_view_name": "LayoutView",
      "align_content": null,
      "align_items": null,
      "align_self": null,
      "border": null,
      "bottom": null,
      "display": null,
      "flex": null,
      "flex_flow": null,
      "grid_area": null,
      "grid_auto_columns": null,
      "grid_auto_flow": null,
      "grid_auto_rows": null,
      "grid_column": null,
      "grid_gap": null,
      "grid_row": null,
      "grid_template_areas": null,
      "grid_template_columns": null,
      "grid_template_rows": null,
      "height": null,
      "justify_content": null,
      "justify_items": null,
      "left": null,
      "margin": null,
      "max_height": null,
      "max_width": null,
      "min_height": null,
      "min_width": null,
      "object_fit": null,
      "object_position": null,
      "order": null,
      "overflow": null,
      "overflow_x": null,
      "overflow_y": null,
      "padding": null,
      "right": null,
      "top": null,
      "visibility": null,
      "width": null
     }
    },
    "76ba0e583d4a491ea30c050db4565973": {
     "model_module": "@jupyter-widgets/controls",
     "model_module_version": "1.5.0",
     "model_name": "HBoxModel",
     "state": {
      "_dom_classes": [],
      "_model_module": "@jupyter-widgets/controls",
      "_model_module_version": "1.5.0",
      "_model_name": "HBoxModel",
      "_view_count": null,
      "_view_module": "@jupyter-widgets/controls",
      "_view_module_version": "1.5.0",
      "_view_name": "HBoxView",
      "box_style": "",
      "children": [
       "IPY_MODEL_4e4932e4860a4d94bd4bb343eb26216e",
       "IPY_MODEL_022f8be669764a2598d77da587bb4702",
       "IPY_MODEL_122c99c4abfa41cfa4e47002bb5911ce"
      ],
      "layout": "IPY_MODEL_7246f7edec37461ba089cc31741baca7"
     }
    },
    "7811996af64b4c6eb48c8688d1ff5edf": {
     "model_module": "@jupyter-widgets/base",
     "model_module_version": "1.2.0",
     "model_name": "LayoutModel",
     "state": {
      "_model_module": "@jupyter-widgets/base",
      "_model_module_version": "1.2.0",
      "_model_name": "LayoutModel",
      "_view_count": null,
      "_view_module": "@jupyter-widgets/base",
      "_view_module_version": "1.2.0",
      "_view_name": "LayoutView",
      "align_content": null,
      "align_items": null,
      "align_self": null,
      "border": null,
      "bottom": null,
      "display": null,
      "flex": null,
      "flex_flow": null,
      "grid_area": null,
      "grid_auto_columns": null,
      "grid_auto_flow": null,
      "grid_auto_rows": null,
      "grid_column": null,
      "grid_gap": null,
      "grid_row": null,
      "grid_template_areas": null,
      "grid_template_columns": null,
      "grid_template_rows": null,
      "height": null,
      "justify_content": null,
      "justify_items": null,
      "left": null,
      "margin": null,
      "max_height": null,
      "max_width": null,
      "min_height": null,
      "min_width": null,
      "object_fit": null,
      "object_position": null,
      "order": null,
      "overflow": null,
      "overflow_x": null,
      "overflow_y": null,
      "padding": null,
      "right": null,
      "top": null,
      "visibility": null,
      "width": null
     }
    },
    "82ea21133a2c4a2dbcde1520ac22cefe": {
     "model_module": "@jupyter-widgets/controls",
     "model_module_version": "1.5.0",
     "model_name": "DescriptionStyleModel",
     "state": {
      "_model_module": "@jupyter-widgets/controls",
      "_model_module_version": "1.5.0",
      "_model_name": "DescriptionStyleModel",
      "_view_count": null,
      "_view_module": "@jupyter-widgets/base",
      "_view_module_version": "1.2.0",
      "_view_name": "StyleView",
      "description_width": ""
     }
    },
    "8cf7a3cdc74e42a891ff101d222adb40": {
     "model_module": "@jupyter-widgets/base",
     "model_module_version": "1.2.0",
     "model_name": "LayoutModel",
     "state": {
      "_model_module": "@jupyter-widgets/base",
      "_model_module_version": "1.2.0",
      "_model_name": "LayoutModel",
      "_view_count": null,
      "_view_module": "@jupyter-widgets/base",
      "_view_module_version": "1.2.0",
      "_view_name": "LayoutView",
      "align_content": null,
      "align_items": null,
      "align_self": null,
      "border": null,
      "bottom": null,
      "display": null,
      "flex": null,
      "flex_flow": null,
      "grid_area": null,
      "grid_auto_columns": null,
      "grid_auto_flow": null,
      "grid_auto_rows": null,
      "grid_column": null,
      "grid_gap": null,
      "grid_row": null,
      "grid_template_areas": null,
      "grid_template_columns": null,
      "grid_template_rows": null,
      "height": null,
      "justify_content": null,
      "justify_items": null,
      "left": null,
      "margin": null,
      "max_height": null,
      "max_width": null,
      "min_height": null,
      "min_width": null,
      "object_fit": null,
      "object_position": null,
      "order": null,
      "overflow": null,
      "overflow_x": null,
      "overflow_y": null,
      "padding": null,
      "right": null,
      "top": null,
      "visibility": null,
      "width": null
     }
    },
    "905d9f50542f459ab1dcbd90a0d90846": {
     "model_module": "@jupyter-widgets/base",
     "model_module_version": "1.2.0",
     "model_name": "LayoutModel",
     "state": {
      "_model_module": "@jupyter-widgets/base",
      "_model_module_version": "1.2.0",
      "_model_name": "LayoutModel",
      "_view_count": null,
      "_view_module": "@jupyter-widgets/base",
      "_view_module_version": "1.2.0",
      "_view_name": "LayoutView",
      "align_content": null,
      "align_items": null,
      "align_self": null,
      "border": null,
      "bottom": null,
      "display": null,
      "flex": null,
      "flex_flow": null,
      "grid_area": null,
      "grid_auto_columns": null,
      "grid_auto_flow": null,
      "grid_auto_rows": null,
      "grid_column": null,
      "grid_gap": null,
      "grid_row": null,
      "grid_template_areas": null,
      "grid_template_columns": null,
      "grid_template_rows": null,
      "height": null,
      "justify_content": null,
      "justify_items": null,
      "left": null,
      "margin": null,
      "max_height": null,
      "max_width": null,
      "min_height": null,
      "min_width": null,
      "object_fit": null,
      "object_position": null,
      "order": null,
      "overflow": null,
      "overflow_x": null,
      "overflow_y": null,
      "padding": null,
      "right": null,
      "top": null,
      "visibility": null,
      "width": null
     }
    },
    "97ada0a805f345018971369c46616726": {
     "model_module": "@jupyter-widgets/base",
     "model_module_version": "1.2.0",
     "model_name": "LayoutModel",
     "state": {
      "_model_module": "@jupyter-widgets/base",
      "_model_module_version": "1.2.0",
      "_model_name": "LayoutModel",
      "_view_count": null,
      "_view_module": "@jupyter-widgets/base",
      "_view_module_version": "1.2.0",
      "_view_name": "LayoutView",
      "align_content": null,
      "align_items": null,
      "align_self": null,
      "border": null,
      "bottom": null,
      "display": null,
      "flex": null,
      "flex_flow": null,
      "grid_area": null,
      "grid_auto_columns": null,
      "grid_auto_flow": null,
      "grid_auto_rows": null,
      "grid_column": null,
      "grid_gap": null,
      "grid_row": null,
      "grid_template_areas": null,
      "grid_template_columns": null,
      "grid_template_rows": null,
      "height": null,
      "justify_content": null,
      "justify_items": null,
      "left": null,
      "margin": null,
      "max_height": null,
      "max_width": null,
      "min_height": null,
      "min_width": null,
      "object_fit": null,
      "object_position": null,
      "order": null,
      "overflow": null,
      "overflow_x": null,
      "overflow_y": null,
      "padding": null,
      "right": null,
      "top": null,
      "visibility": null,
      "width": null
     }
    },
    "982bce15dab6407fb125c865d14dee60": {
     "model_module": "@jupyter-widgets/base",
     "model_module_version": "1.2.0",
     "model_name": "LayoutModel",
     "state": {
      "_model_module": "@jupyter-widgets/base",
      "_model_module_version": "1.2.0",
      "_model_name": "LayoutModel",
      "_view_count": null,
      "_view_module": "@jupyter-widgets/base",
      "_view_module_version": "1.2.0",
      "_view_name": "LayoutView",
      "align_content": null,
      "align_items": null,
      "align_self": null,
      "border": null,
      "bottom": null,
      "display": null,
      "flex": null,
      "flex_flow": null,
      "grid_area": null,
      "grid_auto_columns": null,
      "grid_auto_flow": null,
      "grid_auto_rows": null,
      "grid_column": null,
      "grid_gap": null,
      "grid_row": null,
      "grid_template_areas": null,
      "grid_template_columns": null,
      "grid_template_rows": null,
      "height": null,
      "justify_content": null,
      "justify_items": null,
      "left": null,
      "margin": null,
      "max_height": null,
      "max_width": null,
      "min_height": null,
      "min_width": null,
      "object_fit": null,
      "object_position": null,
      "order": null,
      "overflow": null,
      "overflow_x": null,
      "overflow_y": null,
      "padding": null,
      "right": null,
      "top": null,
      "visibility": null,
      "width": null
     }
    },
    "999f28a0a0a442299defee8aa8403903": {
     "model_module": "@jupyter-widgets/controls",
     "model_module_version": "1.5.0",
     "model_name": "FloatProgressModel",
     "state": {
      "_dom_classes": [],
      "_model_module": "@jupyter-widgets/controls",
      "_model_module_version": "1.5.0",
      "_model_name": "FloatProgressModel",
      "_view_count": null,
      "_view_module": "@jupyter-widgets/controls",
      "_view_module_version": "1.5.0",
      "_view_name": "ProgressView",
      "bar_style": "success",
      "description": "",
      "description_tooltip": null,
      "layout": "IPY_MODEL_905d9f50542f459ab1dcbd90a0d90846",
      "max": 29,
      "min": 0,
      "orientation": "horizontal",
      "style": "IPY_MODEL_a4d6392915a148ef95f135a450624902",
      "value": 29
     }
    },
    "9a27e360e2624327b63889cba11a5acb": {
     "model_module": "@jupyter-widgets/controls",
     "model_module_version": "1.5.0",
     "model_name": "HBoxModel",
     "state": {
      "_dom_classes": [],
      "_model_module": "@jupyter-widgets/controls",
      "_model_module_version": "1.5.0",
      "_model_name": "HBoxModel",
      "_view_count": null,
      "_view_module": "@jupyter-widgets/controls",
      "_view_module_version": "1.5.0",
      "_view_name": "HBoxView",
      "box_style": "",
      "children": [
       "IPY_MODEL_07615432c0b74d26ba8bdc8ad480ba1d",
       "IPY_MODEL_f8d818624e394c1aa040e9ae66248830",
       "IPY_MODEL_31891a23489e4907a93cb69db1f1ef61"
      ],
      "layout": "IPY_MODEL_9ea81c65616b46f99fd3c93b0c506800"
     }
    },
    "9dea79c0688f4aa98c31a56714dff6db": {
     "model_module": "@jupyter-widgets/base",
     "model_module_version": "1.2.0",
     "model_name": "LayoutModel",
     "state": {
      "_model_module": "@jupyter-widgets/base",
      "_model_module_version": "1.2.0",
      "_model_name": "LayoutModel",
      "_view_count": null,
      "_view_module": "@jupyter-widgets/base",
      "_view_module_version": "1.2.0",
      "_view_name": "LayoutView",
      "align_content": null,
      "align_items": null,
      "align_self": null,
      "border": null,
      "bottom": null,
      "display": null,
      "flex": null,
      "flex_flow": null,
      "grid_area": null,
      "grid_auto_columns": null,
      "grid_auto_flow": null,
      "grid_auto_rows": null,
      "grid_column": null,
      "grid_gap": null,
      "grid_row": null,
      "grid_template_areas": null,
      "grid_template_columns": null,
      "grid_template_rows": null,
      "height": null,
      "justify_content": null,
      "justify_items": null,
      "left": null,
      "margin": null,
      "max_height": null,
      "max_width": null,
      "min_height": null,
      "min_width": null,
      "object_fit": null,
      "object_position": null,
      "order": null,
      "overflow": null,
      "overflow_x": null,
      "overflow_y": null,
      "padding": null,
      "right": null,
      "top": null,
      "visibility": null,
      "width": null
     }
    },
    "9ea81c65616b46f99fd3c93b0c506800": {
     "model_module": "@jupyter-widgets/base",
     "model_module_version": "1.2.0",
     "model_name": "LayoutModel",
     "state": {
      "_model_module": "@jupyter-widgets/base",
      "_model_module_version": "1.2.0",
      "_model_name": "LayoutModel",
      "_view_count": null,
      "_view_module": "@jupyter-widgets/base",
      "_view_module_version": "1.2.0",
      "_view_name": "LayoutView",
      "align_content": null,
      "align_items": null,
      "align_self": null,
      "border": null,
      "bottom": null,
      "display": null,
      "flex": null,
      "flex_flow": null,
      "grid_area": null,
      "grid_auto_columns": null,
      "grid_auto_flow": null,
      "grid_auto_rows": null,
      "grid_column": null,
      "grid_gap": null,
      "grid_row": null,
      "grid_template_areas": null,
      "grid_template_columns": null,
      "grid_template_rows": null,
      "height": null,
      "justify_content": null,
      "justify_items": null,
      "left": null,
      "margin": null,
      "max_height": null,
      "max_width": null,
      "min_height": null,
      "min_width": null,
      "object_fit": null,
      "object_position": null,
      "order": null,
      "overflow": null,
      "overflow_x": null,
      "overflow_y": null,
      "padding": null,
      "right": null,
      "top": null,
      "visibility": null,
      "width": null
     }
    },
    "a4d6392915a148ef95f135a450624902": {
     "model_module": "@jupyter-widgets/controls",
     "model_module_version": "1.5.0",
     "model_name": "ProgressStyleModel",
     "state": {
      "_model_module": "@jupyter-widgets/controls",
      "_model_module_version": "1.5.0",
      "_model_name": "ProgressStyleModel",
      "_view_count": null,
      "_view_module": "@jupyter-widgets/base",
      "_view_module_version": "1.2.0",
      "_view_name": "StyleView",
      "bar_color": null,
      "description_width": ""
     }
    },
    "acc710405f334548ac4018236f107bbf": {
     "model_module": "@jupyter-widgets/controls",
     "model_module_version": "1.5.0",
     "model_name": "HTMLModel",
     "state": {
      "_dom_classes": [],
      "_model_module": "@jupyter-widgets/controls",
      "_model_module_version": "1.5.0",
      "_model_name": "HTMLModel",
      "_view_count": null,
      "_view_module": "@jupyter-widgets/controls",
      "_view_module_version": "1.5.0",
      "_view_name": "HTMLView",
      "description": "",
      "description_tooltip": null,
      "layout": "IPY_MODEL_23cc79ee7c3f417bb2efe47f9a354722",
      "placeholder": "​",
      "style": "IPY_MODEL_afd743f08e4b4b29a089a4c6893e663d",
      "value": "Downloading: 100%"
     }
    },
    "af082ac8cc824b9683610f051d8a2f3d": {
     "model_module": "@jupyter-widgets/base",
     "model_module_version": "1.2.0",
     "model_name": "LayoutModel",
     "state": {
      "_model_module": "@jupyter-widgets/base",
      "_model_module_version": "1.2.0",
      "_model_name": "LayoutModel",
      "_view_count": null,
      "_view_module": "@jupyter-widgets/base",
      "_view_module_version": "1.2.0",
      "_view_name": "LayoutView",
      "align_content": null,
      "align_items": null,
      "align_self": null,
      "border": null,
      "bottom": null,
      "display": null,
      "flex": null,
      "flex_flow": null,
      "grid_area": null,
      "grid_auto_columns": null,
      "grid_auto_flow": null,
      "grid_auto_rows": null,
      "grid_column": null,
      "grid_gap": null,
      "grid_row": null,
      "grid_template_areas": null,
      "grid_template_columns": null,
      "grid_template_rows": null,
      "height": null,
      "justify_content": null,
      "justify_items": null,
      "left": null,
      "margin": null,
      "max_height": null,
      "max_width": null,
      "min_height": null,
      "min_width": null,
      "object_fit": null,
      "object_position": null,
      "order": null,
      "overflow": null,
      "overflow_x": null,
      "overflow_y": null,
      "padding": null,
      "right": null,
      "top": null,
      "visibility": null,
      "width": null
     }
    },
    "afc35ddafe024aee837b11eb3e758f7e": {
     "model_module": "@jupyter-widgets/controls",
     "model_module_version": "1.5.0",
     "model_name": "HTMLModel",
     "state": {
      "_dom_classes": [],
      "_model_module": "@jupyter-widgets/controls",
      "_model_module_version": "1.5.0",
      "_model_name": "HTMLModel",
      "_view_count": null,
      "_view_module": "@jupyter-widgets/controls",
      "_view_module_version": "1.5.0",
      "_view_name": "HTMLView",
      "description": "",
      "description_tooltip": null,
      "layout": "IPY_MODEL_af082ac8cc824b9683610f051d8a2f3d",
      "placeholder": "​",
      "style": "IPY_MODEL_4b178b28a50f460a941b26f644abce9b",
      "value": "Downloading: 100%"
     }
    },
    "afd743f08e4b4b29a089a4c6893e663d": {
     "model_module": "@jupyter-widgets/controls",
     "model_module_version": "1.5.0",
     "model_name": "DescriptionStyleModel",
     "state": {
      "_model_module": "@jupyter-widgets/controls",
      "_model_module_version": "1.5.0",
      "_model_name": "DescriptionStyleModel",
      "_view_count": null,
      "_view_module": "@jupyter-widgets/base",
      "_view_module_version": "1.2.0",
      "_view_name": "StyleView",
      "description_width": ""
     }
    },
    "ba076586b9ae4fcf90c888583bfb2e13": {
     "model_module": "@jupyter-widgets/controls",
     "model_module_version": "1.5.0",
     "model_name": "ProgressStyleModel",
     "state": {
      "_model_module": "@jupyter-widgets/controls",
      "_model_module_version": "1.5.0",
      "_model_name": "ProgressStyleModel",
      "_view_count": null,
      "_view_module": "@jupyter-widgets/base",
      "_view_module_version": "1.2.0",
      "_view_name": "StyleView",
      "bar_color": null,
      "description_width": ""
     }
    },
    "c3b850a77e6a46358db69cba86c75e11": {
     "model_module": "@jupyter-widgets/controls",
     "model_module_version": "1.5.0",
     "model_name": "ProgressStyleModel",
     "state": {
      "_model_module": "@jupyter-widgets/controls",
      "_model_module_version": "1.5.0",
      "_model_name": "ProgressStyleModel",
      "_view_count": null,
      "_view_module": "@jupyter-widgets/base",
      "_view_module_version": "1.2.0",
      "_view_name": "StyleView",
      "bar_color": null,
      "description_width": ""
     }
    },
    "df12160521e347a49f1e4c5e4d7d47d5": {
     "model_module": "@jupyter-widgets/base",
     "model_module_version": "1.2.0",
     "model_name": "LayoutModel",
     "state": {
      "_model_module": "@jupyter-widgets/base",
      "_model_module_version": "1.2.0",
      "_model_name": "LayoutModel",
      "_view_count": null,
      "_view_module": "@jupyter-widgets/base",
      "_view_module_version": "1.2.0",
      "_view_name": "LayoutView",
      "align_content": null,
      "align_items": null,
      "align_self": null,
      "border": null,
      "bottom": null,
      "display": null,
      "flex": null,
      "flex_flow": null,
      "grid_area": null,
      "grid_auto_columns": null,
      "grid_auto_flow": null,
      "grid_auto_rows": null,
      "grid_column": null,
      "grid_gap": null,
      "grid_row": null,
      "grid_template_areas": null,
      "grid_template_columns": null,
      "grid_template_rows": null,
      "height": null,
      "justify_content": null,
      "justify_items": null,
      "left": null,
      "margin": null,
      "max_height": null,
      "max_width": null,
      "min_height": null,
      "min_width": null,
      "object_fit": null,
      "object_position": null,
      "order": null,
      "overflow": null,
      "overflow_x": null,
      "overflow_y": null,
      "padding": null,
      "right": null,
      "top": null,
      "visibility": null,
      "width": null
     }
    },
    "df9e6736ec8b483bbb1d3e91207a16f4": {
     "model_module": "@jupyter-widgets/controls",
     "model_module_version": "1.5.0",
     "model_name": "DescriptionStyleModel",
     "state": {
      "_model_module": "@jupyter-widgets/controls",
      "_model_module_version": "1.5.0",
      "_model_name": "DescriptionStyleModel",
      "_view_count": null,
      "_view_module": "@jupyter-widgets/base",
      "_view_module_version": "1.2.0",
      "_view_name": "StyleView",
      "description_width": ""
     }
    },
    "f8d818624e394c1aa040e9ae66248830": {
     "model_module": "@jupyter-widgets/controls",
     "model_module_version": "1.5.0",
     "model_name": "FloatProgressModel",
     "state": {
      "_dom_classes": [],
      "_model_module": "@jupyter-widgets/controls",
      "_model_module_version": "1.5.0",
      "_model_name": "FloatProgressModel",
      "_view_count": null,
      "_view_module": "@jupyter-widgets/controls",
      "_view_module_version": "1.5.0",
      "_view_name": "ProgressView",
      "bar_style": "success",
      "description": "",
      "description_tooltip": null,
      "layout": "IPY_MODEL_8cf7a3cdc74e42a891ff101d222adb40",
      "max": 435779157,
      "min": 0,
      "orientation": "horizontal",
      "style": "IPY_MODEL_c3b850a77e6a46358db69cba86c75e11",
      "value": 435779157
     }
    }
   }
  }
 },
 "nbformat": 4,
 "nbformat_minor": 5
}
