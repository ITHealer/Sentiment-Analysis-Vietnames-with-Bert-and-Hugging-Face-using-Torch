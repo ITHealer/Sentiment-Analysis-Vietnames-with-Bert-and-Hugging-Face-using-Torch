{
 "cells": [
  {
   "cell_type": "markdown",
   "id": "fe595603",
   "metadata": {},
   "source": [
    "# <p style=\"background-color:skyblue; font-family:newtimeroman; font-size:250%; text-align:center; border-radius: 15px 50px;\">Natural Languague Processing 📝</p>"
   ]
  },
  {
   "cell_type": "markdown",
   "id": "75ab0a53",
   "metadata": {},
   "source": [
    "<p style=\"text-align:center\">\n",
    "    <a href=\"https://github.com/ITHealer?tab=repositories\" target=\"_blank\">\n",
    "    <img src=\"avatar_healer.jpg\" width=\"200\" alt=\"Skills Network Logo\"  />\n",
    "    </a>\n",
    "    <b>4251050044 - Ung Minh Hoài</b> <br>\n",
    "</p>\n",
    "\n",
    "# Sentiment analysis & Opinion mining"
   ]
  },
  {
   "cell_type": "markdown",
   "id": "0984773d",
   "metadata": {},
   "source": [
    "# About data "
   ]
  },
  {
   "cell_type": "markdown",
   "id": "e6438685",
   "metadata": {},
   "source": [
    "<details><summary><font color=green>About data</font></summary>\n",
    "    \n",
    "•\tDữ liệu chứa hơn 12000 đánh giá về các ứng dụng cửa hàng ứng dụng khác nhau của người dùng thực. Dữ liệu cũng chứa xếp hạng do họ đưa ra để nó có thể được phân loại thành đánh giá tích cực hoặc tiêu cực. Đây là một nơi tốt để thực hiện các nhiệm vụ phân tích tình cảm.\n",
    "    \n",
    "</details>"
   ]
  },
  {
   "cell_type": "markdown",
   "id": "a92afac8",
   "metadata": {},
   "source": [
    "<details><summary><font color=green>Columns</font></summary>\n",
    "    \n",
    "1. userName: tên người dùng của người đã đưa ra đánh giá\n",
    "2. userImage: Vị trí hình ảnh của người dùng đã tải lên dữ liệu\n",
    "3. content: Nội dung đánh giá\n",
    "4. score: Xếp hạng do người dùng đưa ra cho ứng dụng (1 - 5), trong đó 5 là tích cực nhất và 1 là tiêu cực nhất\n",
    "5. thumbsUpCount: Số lượng người dùng đã ủng hộ bài đánh giá\n",
    "6. reviewCreatedVersion: Phiên bản của bài đánh giá\n",
    "7. at: Ngày và giờ khi bài đánh giá được đăng\n",
    "8. replyContent: Trả lời đánh giá ban đầu, nếu có.\n",
    "9. repliedAt: Ngày và giờ khi câu trả lời được đăng\n",
    "10. reviewId:\n",
    "11. sortOrder: Thứ tự được sử dụng để sắp xếp bài đánh giá (mới nhất được sử dụng)\n",
    "12. appId: ID của Ứng dụng Cửa hàng Play đang được xem xét\n",
    "    \n",
    "</details>"
   ]
  },
  {
   "cell_type": "markdown",
   "id": "f61da446",
   "metadata": {},
   "source": [
    "# Import library"
   ]
  },
  {
   "cell_type": "code",
   "execution_count": 1,
   "id": "8aa805fc",
   "metadata": {
    "execution": {
     "iopub.execute_input": "2022-07-12T14:00:29.119566Z",
     "iopub.status.busy": "2022-07-12T14:00:29.118873Z",
     "iopub.status.idle": "2022-07-12T14:00:31.008028Z",
     "shell.execute_reply": "2022-07-12T14:00:31.007192Z"
    },
    "papermill": {
     "duration": 1.904673,
     "end_time": "2022-07-12T14:00:31.010367",
     "exception": false,
     "start_time": "2022-07-12T14:00:29.105694",
     "status": "completed"
    },
    "tags": []
   },
   "outputs": [],
   "source": [
    "import re\n",
    "import os\n",
    "import nltk\n",
    "import spacy\n",
    "import pickle\n",
    "import random\n",
    "import warnings\n",
    "import numpy as np\n",
    "import pandas as pd\n",
    "import seaborn as sns\n",
    "import matplotlib.pyplot as plt\n",
    "nlp = spacy.load('en_core_web_sm')\n",
    "\n",
    "from sklearn import tree\n",
    "from sklearn.svm import SVC\n",
    "from sklearn import metrics\n",
    "from bs4 import BeautifulSoup\n",
    "from collections import Counter\n",
    "from sklearn.decomposition import PCA\n",
    "from sklearn.pipeline import Pipeline\n",
    "from emot.emo_unicode import UNICODE_EMOJI\n",
    "from emot.emo_unicode import EMOTICONS_EMO\n",
    "from sklearn.tree import DecisionTreeClassifier\n",
    "from sklearn.preprocessing import StandardScaler\n",
    "from sklearn.model_selection import GridSearchCV\n",
    "from sklearn.neighbors import KNeighborsClassifier\n",
    "from sklearn.ensemble import RandomForestClassifier\n",
    "from sklearn.linear_model import LogisticRegression\n",
    "from sklearn.model_selection import train_test_split\n",
    "from sklearn.naive_bayes import GaussianNB,MultinomialNB\n",
    "from sklearn.preprocessing import StandardScaler,MinMaxScaler\n",
    "from sklearn.feature_extraction.text import TfidfVectorizer,CountVectorizer\n",
    "from sklearn.ensemble import RandomForestClassifier,GradientBoostingClassifier\n",
    "from sklearn.model_selection import RandomizedSearchCV,train_test_split,cross_val_score\n",
    "import spacy\n",
    "nlp = spacy.load('en_core_web_sm')\n",
    "warnings.filterwarnings(action='ignore')\n",
    "%matplotlib inline"
   ]
  },
  {
   "cell_type": "markdown",
   "id": "f96a208b",
   "metadata": {},
   "source": [
    "## <p style=\"background-color:skyblue; font-family:newtimeroman; font-size:120%; text-align:center; border-radius: 15px 50px;\">Table of Content</p>\n",
    "\n",
    "* [1. Loading Data 💎](#1)\n",
    "* [2. EDA 📊](#2)\n",
    "* [3. Data Preprocessing ⚙️](#3)\n",
    "* [4. Vectorization - Modeling - Accurracy](#4)"
   ]
  },
  {
   "cell_type": "markdown",
   "id": "70381d0f",
   "metadata": {},
   "source": [
    "<a id='1'></a>\n",
    "# 1. Load the dataset"
   ]
  },
  {
   "cell_type": "code",
   "execution_count": 2,
   "id": "35e2633e",
   "metadata": {
    "execution": {
     "iopub.execute_input": "2022-07-12T14:00:31.036412Z",
     "iopub.status.busy": "2022-07-12T14:00:31.035658Z",
     "iopub.status.idle": "2022-07-12T14:00:31.277409Z",
     "shell.execute_reply": "2022-07-12T14:00:31.276335Z"
    },
    "papermill": {
     "duration": 0.2577,
     "end_time": "2022-07-12T14:00:31.280055",
     "exception": false,
     "start_time": "2022-07-12T14:00:31.022355",
     "status": "completed"
    },
    "tags": []
   },
   "outputs": [
    {
     "data": {
      "text/html": [
       "<div>\n",
       "<style scoped>\n",
       "    .dataframe tbody tr th:only-of-type {\n",
       "        vertical-align: middle;\n",
       "    }\n",
       "\n",
       "    .dataframe tbody tr th {\n",
       "        vertical-align: top;\n",
       "    }\n",
       "\n",
       "    .dataframe thead th {\n",
       "        text-align: right;\n",
       "    }\n",
       "</style>\n",
       "<table border=\"1\" class=\"dataframe\">\n",
       "  <thead>\n",
       "    <tr style=\"text-align: right;\">\n",
       "      <th></th>\n",
       "      <th>reviewId</th>\n",
       "      <th>userName</th>\n",
       "      <th>userImage</th>\n",
       "      <th>content</th>\n",
       "      <th>score</th>\n",
       "      <th>thumbsUpCount</th>\n",
       "      <th>reviewCreatedVersion</th>\n",
       "      <th>at</th>\n",
       "      <th>replyContent</th>\n",
       "      <th>repliedAt</th>\n",
       "      <th>sortOrder</th>\n",
       "      <th>appId</th>\n",
       "    </tr>\n",
       "  </thead>\n",
       "  <tbody>\n",
       "    <tr>\n",
       "      <th>0</th>\n",
       "      <td>gp:AOqpTOEhZuqSqqWnaKRgv-9ABYdajFUB0WugPGh-SG-...</td>\n",
       "      <td>Eric Tie</td>\n",
       "      <td>https://play-lh.googleusercontent.com/a-/AOh14...</td>\n",
       "      <td>I cannot open the app anymore</td>\n",
       "      <td>1</td>\n",
       "      <td>0</td>\n",
       "      <td>5.4.0.6</td>\n",
       "      <td>2020-10-27 21:24:41</td>\n",
       "      <td>NaN</td>\n",
       "      <td>NaN</td>\n",
       "      <td>newest</td>\n",
       "      <td>com.anydo</td>\n",
       "    </tr>\n",
       "    <tr>\n",
       "      <th>1</th>\n",
       "      <td>gp:AOqpTOH0WP4IQKBZ2LrdNmFy_YmpPCVrV3diEU9KGm3...</td>\n",
       "      <td>john alpha</td>\n",
       "      <td>https://play-lh.googleusercontent.com/a-/AOh14...</td>\n",
       "      <td>I have been begging for a refund from this app...</td>\n",
       "      <td>1</td>\n",
       "      <td>0</td>\n",
       "      <td>NaN</td>\n",
       "      <td>2020-10-27 14:03:28</td>\n",
       "      <td>Please note that from checking our records, yo...</td>\n",
       "      <td>2020-10-27 15:05:52</td>\n",
       "      <td>newest</td>\n",
       "      <td>com.anydo</td>\n",
       "    </tr>\n",
       "    <tr>\n",
       "      <th>2</th>\n",
       "      <td>gp:AOqpTOEMCkJB8Iq1p-r9dPwnSYadA5BkPWTf32Z1azu...</td>\n",
       "      <td>Sudhakar .S</td>\n",
       "      <td>https://play-lh.googleusercontent.com/a-/AOh14...</td>\n",
       "      <td>Very costly for the premium version (approx In...</td>\n",
       "      <td>1</td>\n",
       "      <td>0</td>\n",
       "      <td>NaN</td>\n",
       "      <td>2020-10-27 08:18:40</td>\n",
       "      <td>NaN</td>\n",
       "      <td>NaN</td>\n",
       "      <td>newest</td>\n",
       "      <td>com.anydo</td>\n",
       "    </tr>\n",
       "    <tr>\n",
       "      <th>3</th>\n",
       "      <td>gp:AOqpTOGFrUWuKGycpje8kszj3uwHN6tU_fd4gLVFy9z...</td>\n",
       "      <td>SKGflorida@bellsouth.net DAVID S</td>\n",
       "      <td>https://play-lh.googleusercontent.com/-75aK0WF...</td>\n",
       "      <td>Used to keep me organized, but all the 2020 UP...</td>\n",
       "      <td>1</td>\n",
       "      <td>0</td>\n",
       "      <td>NaN</td>\n",
       "      <td>2020-10-26 13:28:07</td>\n",
       "      <td>What do you find troublesome about the update?...</td>\n",
       "      <td>2020-10-26 14:58:29</td>\n",
       "      <td>newest</td>\n",
       "      <td>com.anydo</td>\n",
       "    </tr>\n",
       "    <tr>\n",
       "      <th>4</th>\n",
       "      <td>gp:AOqpTOHls7DW8wmDFzTkHwxuqFkdNQtKHmO6Pt9jhZE...</td>\n",
       "      <td>Louann Stoker</td>\n",
       "      <td>https://play-lh.googleusercontent.com/-pBcY_Z-...</td>\n",
       "      <td>Dan Birthday Oct 28</td>\n",
       "      <td>1</td>\n",
       "      <td>0</td>\n",
       "      <td>5.6.0.7</td>\n",
       "      <td>2020-10-26 06:10:50</td>\n",
       "      <td>NaN</td>\n",
       "      <td>NaN</td>\n",
       "      <td>newest</td>\n",
       "      <td>com.anydo</td>\n",
       "    </tr>\n",
       "  </tbody>\n",
       "</table>\n",
       "</div>"
      ],
      "text/plain": [
       "                                            reviewId  \\\n",
       "0  gp:AOqpTOEhZuqSqqWnaKRgv-9ABYdajFUB0WugPGh-SG-...   \n",
       "1  gp:AOqpTOH0WP4IQKBZ2LrdNmFy_YmpPCVrV3diEU9KGm3...   \n",
       "2  gp:AOqpTOEMCkJB8Iq1p-r9dPwnSYadA5BkPWTf32Z1azu...   \n",
       "3  gp:AOqpTOGFrUWuKGycpje8kszj3uwHN6tU_fd4gLVFy9z...   \n",
       "4  gp:AOqpTOHls7DW8wmDFzTkHwxuqFkdNQtKHmO6Pt9jhZE...   \n",
       "\n",
       "                           userName  \\\n",
       "0                          Eric Tie   \n",
       "1                        john alpha   \n",
       "2                       Sudhakar .S   \n",
       "3  SKGflorida@bellsouth.net DAVID S   \n",
       "4                     Louann Stoker   \n",
       "\n",
       "                                           userImage  \\\n",
       "0  https://play-lh.googleusercontent.com/a-/AOh14...   \n",
       "1  https://play-lh.googleusercontent.com/a-/AOh14...   \n",
       "2  https://play-lh.googleusercontent.com/a-/AOh14...   \n",
       "3  https://play-lh.googleusercontent.com/-75aK0WF...   \n",
       "4  https://play-lh.googleusercontent.com/-pBcY_Z-...   \n",
       "\n",
       "                                             content  score  thumbsUpCount  \\\n",
       "0                      I cannot open the app anymore      1              0   \n",
       "1  I have been begging for a refund from this app...      1              0   \n",
       "2  Very costly for the premium version (approx In...      1              0   \n",
       "3  Used to keep me organized, but all the 2020 UP...      1              0   \n",
       "4                                Dan Birthday Oct 28      1              0   \n",
       "\n",
       "  reviewCreatedVersion                   at  \\\n",
       "0              5.4.0.6  2020-10-27 21:24:41   \n",
       "1                  NaN  2020-10-27 14:03:28   \n",
       "2                  NaN  2020-10-27 08:18:40   \n",
       "3                  NaN  2020-10-26 13:28:07   \n",
       "4              5.6.0.7  2020-10-26 06:10:50   \n",
       "\n",
       "                                        replyContent            repliedAt  \\\n",
       "0                                                NaN                  NaN   \n",
       "1  Please note that from checking our records, yo...  2020-10-27 15:05:52   \n",
       "2                                                NaN                  NaN   \n",
       "3  What do you find troublesome about the update?...  2020-10-26 14:58:29   \n",
       "4                                                NaN                  NaN   \n",
       "\n",
       "  sortOrder      appId  \n",
       "0    newest  com.anydo  \n",
       "1    newest  com.anydo  \n",
       "2    newest  com.anydo  \n",
       "3    newest  com.anydo  \n",
       "4    newest  com.anydo  "
      ]
     },
     "execution_count": 2,
     "metadata": {},
     "output_type": "execute_result"
    }
   ],
   "source": [
    "df = pd.read_csv('reviews.csv')\n",
    "df.head()"
   ]
  },
  {
   "cell_type": "code",
   "execution_count": 3,
   "id": "98cef6a1",
   "metadata": {},
   "outputs": [
    {
     "name": "stdout",
     "output_type": "stream",
     "text": [
      "Số dòng dữ liệu 12495 dòng.\n",
      "Số cột của dữ liệu 12 cột.\n"
     ]
    }
   ],
   "source": [
    "print(f'Số dòng dữ liệu {df.shape[0]} dòng.')\n",
    "print(f'Số cột của dữ liệu {df.shape[1]} cột.')"
   ]
  },
  {
   "cell_type": "markdown",
   "id": "6748f203",
   "metadata": {},
   "source": [
    "<a id='2'></a>\n",
    "# 2. EDA"
   ]
  },
  {
   "cell_type": "markdown",
   "id": "6c8aeef7",
   "metadata": {},
   "source": [
    "* Phân tích dữ liệu khám phá hoặc (EDA) là hiểu các tập dữ liệu bằng cách tóm tắt các đặc điểm chính của chúng thường vẽ biểu đồ trực quan. Bước này rất quan trọng, đặc biệt khi chúng ta bắt đầu lập mô hình dữ liệu để áp dụng Học máy. Lập đồ thị trong EDA bao gồm Biểu đồ, Biểu đồ hộp, Biểu đồ phân tán và nhiều thứ khác. Thường mất nhiều thời gian để khám phá dữ liệu. Thông qua quá trình EDA, có thể yêu cầu xác định câu lệnh hoặc định nghĩa vấn đề trên tập dữ liệu, điều này rất quan trọng."
   ]
  },
  {
   "cell_type": "markdown",
   "id": "7fad6885",
   "metadata": {},
   "source": [
    "## 2.1 Checking the types of data"
   ]
  },
  {
   "cell_type": "markdown",
   "id": "76a579cc",
   "metadata": {},
   "source": [
    "* Hầu hết dữ liệu có thể được phân loại thành 4 loại cơ bản theo quan điểm Học máy: dữ liệu số, dữ liệu phân loại, dữ liệu chuỗi thời gian, chữ\n",
    "\n",
    "* Hiểu các loại dữ liệu khác nhau có thể giúp chúng tôi xác định các kỹ thuật tiền xử lý chính xác và chuyển đổi dữ liệu một cách thích hợp"
   ]
  },
  {
   "cell_type": "code",
   "execution_count": 4,
   "id": "1ddf626e",
   "metadata": {},
   "outputs": [
    {
     "data": {
      "text/plain": [
       "reviewId                object\n",
       "userName                object\n",
       "userImage               object\n",
       "content                 object\n",
       "score                    int64\n",
       "thumbsUpCount            int64\n",
       "reviewCreatedVersion    object\n",
       "at                      object\n",
       "replyContent            object\n",
       "repliedAt               object\n",
       "sortOrder               object\n",
       "appId                   object\n",
       "dtype: object"
      ]
     },
     "execution_count": 4,
     "metadata": {},
     "output_type": "execute_result"
    }
   ],
   "source": [
    "df.dtypes"
   ]
  },
  {
   "cell_type": "markdown",
   "id": "462e5f17",
   "metadata": {},
   "source": [
    "## 2.2 Dropping irrelevant columns"
   ]
  },
  {
   "cell_type": "markdown",
   "id": "ae9ebd8e",
   "metadata": {},
   "source": [
    "* Bước này chắc chắn là cần thiết trong mọi EDA vì đôi khi sẽ có nhiều cột mà chúng tôi không bao giờ sử dụng trong những trường hợp như vậy, giải pháp duy nhất là loại bỏ đi."
   ]
  },
  {
   "cell_type": "code",
   "execution_count": 5,
   "id": "e5e6e123",
   "metadata": {
    "execution": {
     "iopub.execute_input": "2022-07-12T14:00:31.450251Z",
     "iopub.status.busy": "2022-07-12T14:00:31.449318Z",
     "iopub.status.idle": "2022-07-12T14:00:31.465376Z",
     "shell.execute_reply": "2022-07-12T14:00:31.464596Z"
    },
    "papermill": {
     "duration": 0.031826,
     "end_time": "2022-07-12T14:00:31.467432",
     "exception": false,
     "start_time": "2022-07-12T14:00:31.435606",
     "status": "completed"
    },
    "tags": []
   },
   "outputs": [
    {
     "data": {
      "text/html": [
       "<div>\n",
       "<style scoped>\n",
       "    .dataframe tbody tr th:only-of-type {\n",
       "        vertical-align: middle;\n",
       "    }\n",
       "\n",
       "    .dataframe tbody tr th {\n",
       "        vertical-align: top;\n",
       "    }\n",
       "\n",
       "    .dataframe thead th {\n",
       "        text-align: right;\n",
       "    }\n",
       "</style>\n",
       "<table border=\"1\" class=\"dataframe\">\n",
       "  <thead>\n",
       "    <tr style=\"text-align: right;\">\n",
       "      <th></th>\n",
       "      <th>reviewId</th>\n",
       "      <th>userName</th>\n",
       "      <th>content</th>\n",
       "      <th>score</th>\n",
       "    </tr>\n",
       "  </thead>\n",
       "  <tbody>\n",
       "    <tr>\n",
       "      <th>0</th>\n",
       "      <td>gp:AOqpTOEhZuqSqqWnaKRgv-9ABYdajFUB0WugPGh-SG-...</td>\n",
       "      <td>Eric Tie</td>\n",
       "      <td>I cannot open the app anymore</td>\n",
       "      <td>1</td>\n",
       "    </tr>\n",
       "    <tr>\n",
       "      <th>1</th>\n",
       "      <td>gp:AOqpTOH0WP4IQKBZ2LrdNmFy_YmpPCVrV3diEU9KGm3...</td>\n",
       "      <td>john alpha</td>\n",
       "      <td>I have been begging for a refund from this app...</td>\n",
       "      <td>1</td>\n",
       "    </tr>\n",
       "    <tr>\n",
       "      <th>2</th>\n",
       "      <td>gp:AOqpTOEMCkJB8Iq1p-r9dPwnSYadA5BkPWTf32Z1azu...</td>\n",
       "      <td>Sudhakar .S</td>\n",
       "      <td>Very costly for the premium version (approx In...</td>\n",
       "      <td>1</td>\n",
       "    </tr>\n",
       "    <tr>\n",
       "      <th>3</th>\n",
       "      <td>gp:AOqpTOGFrUWuKGycpje8kszj3uwHN6tU_fd4gLVFy9z...</td>\n",
       "      <td>SKGflorida@bellsouth.net DAVID S</td>\n",
       "      <td>Used to keep me organized, but all the 2020 UP...</td>\n",
       "      <td>1</td>\n",
       "    </tr>\n",
       "    <tr>\n",
       "      <th>4</th>\n",
       "      <td>gp:AOqpTOHls7DW8wmDFzTkHwxuqFkdNQtKHmO6Pt9jhZE...</td>\n",
       "      <td>Louann Stoker</td>\n",
       "      <td>Dan Birthday Oct 28</td>\n",
       "      <td>1</td>\n",
       "    </tr>\n",
       "  </tbody>\n",
       "</table>\n",
       "</div>"
      ],
      "text/plain": [
       "                                            reviewId  \\\n",
       "0  gp:AOqpTOEhZuqSqqWnaKRgv-9ABYdajFUB0WugPGh-SG-...   \n",
       "1  gp:AOqpTOH0WP4IQKBZ2LrdNmFy_YmpPCVrV3diEU9KGm3...   \n",
       "2  gp:AOqpTOEMCkJB8Iq1p-r9dPwnSYadA5BkPWTf32Z1azu...   \n",
       "3  gp:AOqpTOGFrUWuKGycpje8kszj3uwHN6tU_fd4gLVFy9z...   \n",
       "4  gp:AOqpTOHls7DW8wmDFzTkHwxuqFkdNQtKHmO6Pt9jhZE...   \n",
       "\n",
       "                           userName  \\\n",
       "0                          Eric Tie   \n",
       "1                        john alpha   \n",
       "2                       Sudhakar .S   \n",
       "3  SKGflorida@bellsouth.net DAVID S   \n",
       "4                     Louann Stoker   \n",
       "\n",
       "                                             content  score  \n",
       "0                      I cannot open the app anymore      1  \n",
       "1  I have been begging for a refund from this app...      1  \n",
       "2  Very costly for the premium version (approx In...      1  \n",
       "3  Used to keep me organized, but all the 2020 UP...      1  \n",
       "4                                Dan Birthday Oct 28      1  "
      ]
     },
     "execution_count": 5,
     "metadata": {},
     "output_type": "execute_result"
    }
   ],
   "source": [
    "use_df = df[['reviewId', 'userName','content', 'score']]\n",
    "use_df.head()"
   ]
  },
  {
   "cell_type": "code",
   "execution_count": 6,
   "id": "bdd9375b",
   "metadata": {},
   "outputs": [
    {
     "name": "stdout",
     "output_type": "stream",
     "text": [
      "Số dòng dữ liệu 12495 dòng.\n",
      "Số cột của dữ liệu 4 cột.\n"
     ]
    }
   ],
   "source": [
    "print(f'Số dòng dữ liệu {use_df.shape[0]} dòng.')\n",
    "print(f'Số cột của dữ liệu {use_df.shape[1]} cột.')"
   ]
  },
  {
   "cell_type": "markdown",
   "id": "8a071ddb",
   "metadata": {},
   "source": [
    "## 2.3 Dropping the duplicate rows"
   ]
  },
  {
   "cell_type": "markdown",
   "id": "f3e9e846",
   "metadata": {},
   "source": [
    "* Đây thường là một việc hữu ích phải làm vì một tập dữ liệu khổng lồ như trong trường hợp này chứa hơn 12.000 hàng thường có một số dữ liệu trùng lặp có thể gây phiền hà, vì vậy ở đây tôi xóa tất cả giá trị trùng lặp khỏi tập dữ liệu."
   ]
  },
  {
   "cell_type": "code",
   "execution_count": 7,
   "id": "ffd7e4f2",
   "metadata": {},
   "outputs": [
    {
     "name": "stdout",
     "output_type": "stream",
     "text": [
      "Số dòng trùng lặp:  (0, 4)\n"
     ]
    }
   ],
   "source": [
    "duplicate_rows_use_df = use_df[use_df.duplicated()]\n",
    "print(\"Số dòng trùng lặp: \", duplicate_rows_use_df.shape)"
   ]
  },
  {
   "cell_type": "markdown",
   "id": "b3275447",
   "metadata": {},
   "source": [
    "* Như vậy không xuất hiện dữ liệu trùng lặp trong dữ liệu"
   ]
  },
  {
   "cell_type": "markdown",
   "id": "56e1b71e",
   "metadata": {},
   "source": [
    "## 2.4 Dropping the missing or null values."
   ]
  },
  {
   "cell_type": "markdown",
   "id": "6fb6c15f",
   "metadata": {},
   "source": [
    "* Kiểm tra các giá trị bị thiếu hoặc bị trống giúp loại bỏ những yếu tố không tốt cho việc train mô hình. Tùy vào trường hợp chúng ta có thể xóa, hoặc thay thế chúng bằng các giá trị (mean, median, mode)"
   ]
  },
  {
   "cell_type": "code",
   "execution_count": 8,
   "id": "5b6ebee6",
   "metadata": {},
   "outputs": [
    {
     "name": "stdout",
     "output_type": "stream",
     "text": [
      "reviewId    0\n",
      "userName    0\n",
      "content     0\n",
      "score       0\n",
      "dtype: int64\n"
     ]
    }
   ],
   "source": [
    "print(use_df.isnull().sum())"
   ]
  },
  {
   "cell_type": "markdown",
   "id": "35bca2d6",
   "metadata": {},
   "source": [
    "* Như vậy dữ liệu không có giá trị bị thiếu or trống\n",
    "* Có thể kiểm tra nhanh thông qua việc trực quan hóa "
   ]
  },
  {
   "cell_type": "code",
   "execution_count": 9,
   "id": "1152d4f5",
   "metadata": {},
   "outputs": [
    {
     "data": {
      "text/plain": [
       "Text(50.0, 0.5, 'Counts')"
      ]
     },
     "execution_count": 9,
     "metadata": {},
     "output_type": "execute_result"
    },
    {
     "data": {
      "image/png": "[encoded data removed]",
      "text/plain": [
       "<Figure size 432x288 with 1 Axes>"
      ]
     },
     "metadata": {
      "needs_background": "light"
     },
     "output_type": "display_data"
    }
   ],
   "source": [
    "%matplotlib inline\n",
    "s = sns.heatmap(data=use_df.isnull(), yticklabels=False, cbar =False, cmap = 'viridis')\n",
    "# s.set(xlabel='X-Axis', ylabel='Y-Axis')\n",
    "s.set_title('Biểu đồ biểu diễn Missing value')\n",
    "s.set_xlabel('Columns', fontsize=10)\n",
    "s.set_ylabel('Counts', fontsize=10)"
   ]
  },
  {
   "cell_type": "markdown",
   "id": "3d80b560",
   "metadata": {},
   "source": [
    "## 2.5 Exploring the Target Column"
   ]
  },
  {
   "cell_type": "markdown",
   "id": "a4f9f6f5",
   "metadata": {},
   "source": [
    "*** Distribution of the Target Column ***"
   ]
  },
  {
   "attachments": {
    "image-2.png": {
     "image/png": "[encoded data removed]"
    },
    "image.png": {
     "image/png": "[encoded data removed]"
    }
   },
   "cell_type": "markdown",
   "id": "bff42aae",
   "metadata": {},
   "source": [
    "**Balanced Dataset:**\n",
    "\n",
    "![image.png](attachment:image.png)\n",
    "\n",
    "\n",
    "**Imbalanced Dataset:** \n",
    "\n",
    "![image-2.png](attachment:image-2.png)"
   ]
  },
  {
   "cell_type": "code",
   "execution_count": 10,
   "id": "1d16396d",
   "metadata": {},
   "outputs": [
    {
     "data": {
      "text/plain": [
       "array([2506, 2344, 1991, 2775, 2879], dtype=int64)"
      ]
     },
     "execution_count": 10,
     "metadata": {},
     "output_type": "execute_result"
    }
   ],
   "source": [
    "# df['score'].value_counts()\n",
    "balance_counts = df.groupby('score')['score'].agg('count').values\n",
    "balance_counts"
   ]
  },
  {
   "cell_type": "markdown",
   "id": "0f5fb2a3",
   "metadata": {},
   "source": [
    "<details><summary><font color=green>Chart</font></summary>\n",
    "    \n",
    "%matplotlib inline\n",
    "from plotly import graph_objs as go\n",
    "\n",
    "fig = go.Figure()\n",
    "fig.add_trace(go.Bar(\n",
    "    x=['0'],\n",
    "    y=[balance_counts[0]],\n",
    "    name='0',\n",
    "    text=[balance_counts[0]],\n",
    "    textposition='auto'\n",
    "))\n",
    "fig.add_trace(go.Bar(\n",
    "    x=['1'],\n",
    "    y=[balance_counts[1]],\n",
    "    name='1',\n",
    "    text=[balance_counts[1]],\n",
    "    textposition='auto',\n",
    "))\n",
    "fig.add_trace(go.Bar(\n",
    "    x=['2'],\n",
    "    y=[balance_counts[2]],\n",
    "    name='2',\n",
    "    text=[balance_counts[2]],\n",
    "    textposition='auto',\n",
    "))\n",
    "fig.add_trace(go.Bar(\n",
    "    x=['3'],\n",
    "    y=[balance_counts[3]],\n",
    "    name='3',\n",
    "    text=[balance_counts[3]],\n",
    "    textposition='auto',\n",
    "))\n",
    "fig.add_trace(go.Bar(\n",
    "    x=['4'],\n",
    "    y=[balance_counts[4]],\n",
    "    name='4',\n",
    "    text=[balance_counts[4]],\n",
    "    textposition='auto',\n",
    "))\n",
    "\n",
    "fig.update_layout(\n",
    "    title='<span style=\"font-size:32px; font-family:Times New Roman\">Dataset distribution by target</span>'\n",
    ")\n",
    "fig.show()\n",
    "    \n",
    "</details>"
   ]
  },
  {
   "cell_type": "code",
   "execution_count": 11,
   "id": "0936da28",
   "metadata": {},
   "outputs": [],
   "source": [
    "# helper function to draw percentage above each bar\n",
    "def draw_percentage(ax,total=float(len(df))):\n",
    "    for p in ax.patches:\n",
    "        percentage = '{:.1f}%'.format(100 * p.get_height()/total)\n",
    "        x = p.get_x() + p.get_width() / 2.\n",
    "        y = p.get_height()\n",
    "        ax.annotate(percentage, (x, y),ha='center',va='bottom')"
   ]
  },
  {
   "cell_type": "code",
   "execution_count": 12,
   "id": "60a389f1",
   "metadata": {},
   "outputs": [
    {
     "data": {
      "image/png": "[encoded data removed]",
      "text/plain": [
       "<Figure size 720x432 with 1 Axes>"
      ]
     },
     "metadata": {
      "needs_background": "light"
     },
     "output_type": "display_data"
    }
   ],
   "source": [
    "plt.figure(figsize = (10,6))\n",
    "total = float(len(df))\n",
    "ax = sns.countplot(x = 'score',data=df)\n",
    "plt.title('Count Plot of Review Score', fontsize=20)\n",
    "plt.xlabel('review score')\n",
    "draw_percentage(ax)\n",
    "plt.show()"
   ]
  },
  {
   "cell_type": "markdown",
   "id": "fc2f4ba0",
   "metadata": {},
   "source": [
    "### 2.6 Covert score to sentiment"
   ]
  },
  {
   "cell_type": "code",
   "execution_count": 13,
   "id": "700dde09",
   "metadata": {},
   "outputs": [],
   "source": [
    "# Function to convert score to sentiment\n",
    "def to_sentiment(rating):\n",
    "    \n",
    "    rating = int(rating)\n",
    "    \n",
    "    # Convert to class\n",
    "    if rating <= 2:\n",
    "        return 0\n",
    "    elif rating == 3:\n",
    "        return 2\n",
    "    else:\n",
    "        return 1\n",
    "\n",
    "# Apply to the dataset \n",
    "use_df['sentiment'] = use_df.score.apply(to_sentiment)"
   ]
  },
  {
   "cell_type": "code",
   "execution_count": 14,
   "id": "77205e44",
   "metadata": {},
   "outputs": [
    {
     "data": {
      "text/html": [
       "<div>\n",
       "<style scoped>\n",
       "    .dataframe tbody tr th:only-of-type {\n",
       "        vertical-align: middle;\n",
       "    }\n",
       "\n",
       "    .dataframe tbody tr th {\n",
       "        vertical-align: top;\n",
       "    }\n",
       "\n",
       "    .dataframe thead th {\n",
       "        text-align: right;\n",
       "    }\n",
       "</style>\n",
       "<table border=\"1\" class=\"dataframe\">\n",
       "  <thead>\n",
       "    <tr style=\"text-align: right;\">\n",
       "      <th></th>\n",
       "      <th>reviewId</th>\n",
       "      <th>userName</th>\n",
       "      <th>content</th>\n",
       "      <th>score</th>\n",
       "      <th>sentiment</th>\n",
       "    </tr>\n",
       "  </thead>\n",
       "  <tbody>\n",
       "    <tr>\n",
       "      <th>12490</th>\n",
       "      <td>gp:AOqpTOEQPqib7pb6vFyjMY9JEfsMs_u8WCdqg6mbcar...</td>\n",
       "      <td>Mildred Olima</td>\n",
       "      <td>I really like the planner, it helps me achieve...</td>\n",
       "      <td>5</td>\n",
       "      <td>1</td>\n",
       "    </tr>\n",
       "    <tr>\n",
       "      <th>12491</th>\n",
       "      <td>gp:AOqpTOE1KKOOVVKUfhAfXQs2NfJpoywfucrJCMK3Hmu...</td>\n",
       "      <td>Roaring Grizzly Bear</td>\n",
       "      <td>😁****😁</td>\n",
       "      <td>5</td>\n",
       "      <td>1</td>\n",
       "    </tr>\n",
       "    <tr>\n",
       "      <th>12492</th>\n",
       "      <td>gp:AOqpTOFEn5UgYYggqiHKauDJVLLN8-16nk1AfZbEhkj...</td>\n",
       "      <td>amirbadang</td>\n",
       "      <td>Very useful apps. You must try it</td>\n",
       "      <td>5</td>\n",
       "      <td>1</td>\n",
       "    </tr>\n",
       "    <tr>\n",
       "      <th>12493</th>\n",
       "      <td>gp:AOqpTOHOH6YdYLR91qZdYpeIVkMI-LeAE0EwYgrctid...</td>\n",
       "      <td>Emma Stebbins</td>\n",
       "      <td>Would pay for this if there were even more add...</td>\n",
       "      <td>5</td>\n",
       "      <td>1</td>\n",
       "    </tr>\n",
       "    <tr>\n",
       "      <th>12494</th>\n",
       "      <td>gp:AOqpTOFuJtS1McUdEZuLCnRn7k-UUcGNml7XqxKTSk2...</td>\n",
       "      <td>DAVOR SPASENOSKI</td>\n",
       "      <td>Sooow good</td>\n",
       "      <td>5</td>\n",
       "      <td>1</td>\n",
       "    </tr>\n",
       "  </tbody>\n",
       "</table>\n",
       "</div>"
      ],
      "text/plain": [
       "                                                reviewId  \\\n",
       "12490  gp:AOqpTOEQPqib7pb6vFyjMY9JEfsMs_u8WCdqg6mbcar...   \n",
       "12491  gp:AOqpTOE1KKOOVVKUfhAfXQs2NfJpoywfucrJCMK3Hmu...   \n",
       "12492  gp:AOqpTOFEn5UgYYggqiHKauDJVLLN8-16nk1AfZbEhkj...   \n",
       "12493  gp:AOqpTOHOH6YdYLR91qZdYpeIVkMI-LeAE0EwYgrctid...   \n",
       "12494  gp:AOqpTOFuJtS1McUdEZuLCnRn7k-UUcGNml7XqxKTSk2...   \n",
       "\n",
       "                   userName  \\\n",
       "12490         Mildred Olima   \n",
       "12491  Roaring Grizzly Bear   \n",
       "12492            amirbadang   \n",
       "12493         Emma Stebbins   \n",
       "12494      DAVOR SPASENOSKI   \n",
       "\n",
       "                                                 content  score  sentiment  \n",
       "12490  I really like the planner, it helps me achieve...      5          1  \n",
       "12491                                             😁****😁      5          1  \n",
       "12492                  Very useful apps. You must try it      5          1  \n",
       "12493  Would pay for this if there were even more add...      5          1  \n",
       "12494                                         Sooow good      5          1  "
      ]
     },
     "execution_count": 14,
     "metadata": {},
     "output_type": "execute_result"
    }
   ],
   "source": [
    "use_df.tail()"
   ]
  },
  {
   "cell_type": "code",
   "execution_count": 15,
   "id": "50889c44",
   "metadata": {},
   "outputs": [
    {
     "data": {
      "text/plain": [
       "[Text(0, 0, 'negative'), Text(1, 0, 'neutral'), Text(2, 0, 'positive')]"
      ]
     },
     "execution_count": 15,
     "metadata": {},
     "output_type": "execute_result"
    },
    {
     "data": {
      "image/png": "[encoded data removed]",
      "text/plain": [
       "<Figure size 432x288 with 1 Axes>"
      ]
     },
     "metadata": {
      "needs_background": "light"
     },
     "output_type": "display_data"
    }
   ],
   "source": [
    "# Plot the distribution\n",
    "class_names = ['negative', 'neutral', 'positive']\n",
    "ax = sns.countplot(use_df.sentiment)\n",
    "plt.xlabel('review sentiment')\n",
    "ax.set_xticklabels(class_names)"
   ]
  },
  {
   "cell_type": "markdown",
   "id": "dad40103",
   "metadata": {
    "papermill": {
     "duration": 0.012122,
     "end_time": "2022-07-12T14:00:31.492195",
     "exception": false,
     "start_time": "2022-07-12T14:00:31.480073",
     "status": "completed"
    },
    "tags": []
   },
   "source": [
    "<a id='3'></a>\n",
    "# 3. Data Preprocessing"
   ]
  },
  {
   "cell_type": "markdown",
   "id": "ffa7eb62",
   "metadata": {},
   "source": [
    "### 1. Làm sạch dữ liệu\n",
    "\n",
    "Trước khi bắt đầu với bất kỳ dự án NLP nào, chúng ta cần xử lý trước dữ liệu để có được tất cả ở định dạng nhất quán Chúng ta cần làm sạch, mã hóa và chuyển đổi dữ liệu của mình thành ma trận. Một số kỹ thuật xử lý trước văn bản cơ bản bao gồm:\n",
    "\n",
    "* Tạo văn bản bằng tất cả lower case or uppercase để thuật toán không coi các từ giống nhau trong các trường hợp khác nhau là khác nhau\n",
    "\n",
    "* Removing Noise, tức là mọi thứ không có trong số hoặc chữ cái chuẩn, tức là Dấu câu, Giá trị số, văn bản không có ý nghĩa thông thường (/ n)\n",
    "\n",
    "* Tokenization: Tokenization chỉ là thuật ngữ được sử dụng để mô tả quá trình chuyển đổi các chuỗi văn bản bình thường thành một danh sách các mã thông báo tức là các từ mà chúng ta thực sự muốn. Bộ tách câu có thể được sử dụng để tìm danh sách các câu và Bộ tách từ có thể được sử dụng để tìm danh sách các từ trong chuỗi.\n",
    "\n",
    "* Stopword Removal: Đôi khi, một số từ cực kỳ phổ biến dường như không có giá trị trong việc giúp chọn các tài liệu phù hợp với nhu cầu của người dùng sẽ bị loại trừ hoàn toàn khỏi từ vựng. Những từ này được gọi là các từ dừng"
   ]
  },
  {
   "cell_type": "markdown",
   "id": "82b6a802",
   "metadata": {},
   "source": [
    "#### Các bước làm sạch dữ liệu khác sau khi mã hóa:\n",
    "\n",
    "* Stemming: Rút gọn là quá trình giảm các từ được biến đổi (hoặc đôi khi có nguồn gốc) về dạng thân, gốc hoặc gốc của chúng - nói chung là dạng từ viết. Ví dụ, nếu chúng ta cắt các từ sau: “Stems”, “Stemming”, “Stemmed”, “và Stemtization”, kết quả sẽ là một từ duy nhất “stem”.\n",
    "\n",
    "* Lemmatization: Một biến thể nhỏ của việc tạo gốc là lemmatization. Sự khác biệt chính giữa những từ này là, từ gốc thường có thể tạo ra các từ không tồn tại, trong khi bổ đề là các từ thực tế. Vì vậy, gốc rễ của bạn, nghĩa là từ mà bạn kết thúc, không phải là thứ bạn có thể tra trong từ điển mà có thể tra bổ đề. Ví dụ về Bổ đề là “run” là dạng cơ sở cho các từ như “running” hoặc “ran” hoặc từ “better” và “good” nằm trong cùng một bổ đề nên chúng được coi là giống nhau.\n",
    "\n",
    "* Parts of speech tagging\n",
    "\n",
    "* Tạo bi-gram hoặc tri-gram Và hơn thế nữa ..."
   ]
  },
  {
   "cell_type": "markdown",
   "id": "9a45d453",
   "metadata": {},
   "source": [
    "## 3.1 Remove emojis and remove all special and not necessary characters"
   ]
  },
  {
   "cell_type": "code",
   "execution_count": 16,
   "id": "4648ec84",
   "metadata": {
    "execution": {
     "iopub.execute_input": "2022-07-12T14:00:44.942215Z",
     "iopub.status.busy": "2022-07-12T14:00:44.941811Z",
     "iopub.status.idle": "2022-07-12T14:00:44.947980Z",
     "shell.execute_reply": "2022-07-12T14:00:44.946849Z"
    },
    "papermill": {
     "duration": 0.023016,
     "end_time": "2022-07-12T14:00:44.950189",
     "exception": false,
     "start_time": "2022-07-12T14:00:44.927173",
     "status": "completed"
    },
    "tags": []
   },
   "outputs": [],
   "source": [
    "# !pip install emot\n",
    "def remove_emoji(string):\n",
    "    emoji_pattern = re.compile(\"[\"\n",
    "                           u\"\\U0001F600-\\U0001F64F\" # emoticons\n",
    "                           u\"\\U0001F300-\\U0001F5FF\" # symbols & pictographs\n",
    "                           u\"\\U0001F680-\\U0001F6FF\" # transport & map symbols\n",
    "                           u\"\\U0001F1E0-\\U0001F1FF\" # flags (iOS)\n",
    "                           u\"\\U00002702-\\U000027B0\"\n",
    "                           u\"\\U000024C2-\\U0001F251\"\n",
    "                           \"]+\", flags=re.UNICODE)\n",
    "    return emoji_pattern.sub(r'', string)"
   ]
  },
  {
   "cell_type": "code",
   "execution_count": 17,
   "id": "4fa349e9",
   "metadata": {
    "execution": {
     "iopub.execute_input": "2022-07-12T14:00:44.978998Z",
     "iopub.status.busy": "2022-07-12T14:00:44.978243Z",
     "iopub.status.idle": "2022-07-12T14:00:45.137558Z",
     "shell.execute_reply": "2022-07-12T14:00:45.136734Z"
    },
    "papermill": {
     "duration": 0.176087,
     "end_time": "2022-07-12T14:00:45.139949",
     "exception": false,
     "start_time": "2022-07-12T14:00:44.963862",
     "status": "completed"
    },
    "tags": []
   },
   "outputs": [],
   "source": [
    "use_df['new_content'] = use_df['content'].apply(lambda x:remove_emoji(x))"
   ]
  },
  {
   "cell_type": "code",
   "execution_count": 18,
   "id": "efa08e8d",
   "metadata": {},
   "outputs": [],
   "source": [
    "def cleantext(text):\n",
    "    return re.sub(r\"(@\\[A-Za-z0-9]+)|([^0-9A-Za-z \\t])|(\\w+:\\/\\/\\S+)|^rt|http.+?\", \"\", text)"
   ]
  },
  {
   "cell_type": "code",
   "execution_count": 19,
   "id": "53943ae3",
   "metadata": {
    "execution": {
     "iopub.execute_input": "2022-07-12T14:00:45.207575Z",
     "iopub.status.busy": "2022-07-12T14:00:45.206790Z",
     "iopub.status.idle": "2022-07-12T14:00:45.772457Z",
     "shell.execute_reply": "2022-07-12T14:00:45.771216Z"
    },
    "papermill": {
     "duration": 0.58271,
     "end_time": "2022-07-12T14:00:45.774967",
     "exception": false,
     "start_time": "2022-07-12T14:00:45.192257",
     "status": "completed"
    },
    "tags": []
   },
   "outputs": [
    {
     "data": {
      "text/plain": [
       "reviewId       0\n",
       "userName       0\n",
       "content        0\n",
       "score          0\n",
       "sentiment      0\n",
       "new_content    0\n",
       "dtype: int64"
      ]
     },
     "execution_count": 19,
     "metadata": {},
     "output_type": "execute_result"
    }
   ],
   "source": [
    "use_df['new_content'] = use_df['new_content'].apply(lambda x:cleantext(x))\n",
    "use_df.isnull().sum()"
   ]
  },
  {
   "cell_type": "code",
   "execution_count": 20,
   "id": "fa1c0a02",
   "metadata": {},
   "outputs": [
    {
     "data": {
      "text/plain": [
       "'                 TODO                                 '"
      ]
     },
     "execution_count": 20,
     "metadata": {},
     "output_type": "execute_result"
    }
   ],
   "source": [
    "use_df['new_content'][330]"
   ]
  },
  {
   "cell_type": "code",
   "execution_count": 21,
   "id": "5670677f",
   "metadata": {
    "execution": {
     "iopub.execute_input": "2022-07-12T14:00:45.803473Z",
     "iopub.status.busy": "2022-07-12T14:00:45.803086Z",
     "iopub.status.idle": "2022-07-12T14:00:45.819190Z",
     "shell.execute_reply": "2022-07-12T14:00:45.818020Z"
    },
    "papermill": {
     "duration": 0.033172,
     "end_time": "2022-07-12T14:00:45.821490",
     "exception": false,
     "start_time": "2022-07-12T14:00:45.788318",
     "status": "completed"
    },
    "tags": []
   },
   "outputs": [
    {
     "data": {
      "text/plain": [
       "((12446, 6), (12495, 6))"
      ]
     },
     "execution_count": 21,
     "metadata": {},
     "output_type": "execute_result"
    }
   ],
   "source": [
    "df_clean = use_df[(use_df['new_content']!=' ')&(use_df['new_content']!='')]\n",
    "df_clean.shape,use_df.shape"
   ]
  },
  {
   "cell_type": "markdown",
   "id": "fcf7c05d",
   "metadata": {
    "papermill": {
     "duration": 0.013563,
     "end_time": "2022-07-12T14:00:46.596744",
     "exception": false,
     "start_time": "2022-07-12T14:00:46.583181",
     "status": "completed"
    },
    "tags": []
   },
   "source": [
    "## 3.2 Removal of Stopwords"
   ]
  },
  {
   "cell_type": "markdown",
   "id": "c348681d",
   "metadata": {},
   "source": [
    "Chúng có thể bị xóa khỏi văn bản hầu hết các lần, vì chúng không cung cấp thông tin có giá trị cho phân tích hạ nguồn. Trong các trường hợp như gắn thẻ Phần lời nói, chúng tôi không nên xóa chúng vì chúng cung cấp thông tin rất có giá trị về POS."
   ]
  },
  {
   "cell_type": "markdown",
   "id": "c578725b",
   "metadata": {
    "papermill": {
     "duration": 0.013612,
     "end_time": "2022-07-12T14:00:45.848477",
     "exception": false,
     "start_time": "2022-07-12T14:00:45.834865",
     "status": "completed"
    },
    "tags": []
   },
   "source": [
    "####  Word Level Analysis"
   ]
  },
  {
   "cell_type": "code",
   "execution_count": 22,
   "id": "59f0e6fc",
   "metadata": {
    "execution": {
     "iopub.execute_input": "2022-07-12T14:00:45.877401Z",
     "iopub.status.busy": "2022-07-12T14:00:45.877028Z",
     "iopub.status.idle": "2022-07-12T14:00:46.566839Z",
     "shell.execute_reply": "2022-07-12T14:00:46.565625Z"
    },
    "papermill": {
     "duration": 0.70705,
     "end_time": "2022-07-12T14:00:46.569326",
     "exception": false,
     "start_time": "2022-07-12T14:00:45.862276",
     "status": "completed"
    },
    "tags": []
   },
   "outputs": [
    {
     "data": {
      "image/png": "[encoded data removed]",
      "text/plain": [
       "<Figure size 504x360 with 1 Axes>"
      ]
     },
     "metadata": {
      "needs_background": "light"
     },
     "output_type": "display_data"
    }
   ],
   "source": [
    "def showmostfrequentwords(text,no_of_words):\n",
    "    \n",
    "    allwords = ' '.join([char for char in text])\n",
    "    allwords = allwords.split()\n",
    "    fdist = nltk.FreqDist(allwords)\n",
    "    \n",
    "    wordsdf = pd.DataFrame({'word':list(fdist.keys()),'count':list(fdist.values())})\n",
    "    \n",
    "    df = wordsdf.nlargest(columns=\"count\",n = no_of_words)\n",
    "    \n",
    "    plt.figure(figsize=(7,5))\n",
    "    ax = sns.barplot(data=df,x = 'count',y = 'word')\n",
    "    ax.set(ylabel = 'Word')\n",
    "    plt.show()\n",
    "    \n",
    "    return wordsdf\n",
    "    \n",
    "wordsdf = showmostfrequentwords(df_clean['new_content'],25)"
   ]
  },
  {
   "cell_type": "markdown",
   "id": "79414928",
   "metadata": {},
   "source": [
    "* Bây giờ, hãy loại bỏ các từ dừng, tức là các từ xuất hiện rất thường xuyên nhưng không có giá trị khả dĩ như a, an, the, are, v.v."
   ]
  },
  {
   "cell_type": "code",
   "execution_count": 23,
   "id": "d51303b9",
   "metadata": {},
   "outputs": [],
   "source": [
    "def lower_text(text):\n",
    "    return text.lower()"
   ]
  },
  {
   "cell_type": "code",
   "execution_count": 24,
   "id": "9e016ece",
   "metadata": {},
   "outputs": [
    {
     "data": {
      "text/html": [
       "<div>\n",
       "<style scoped>\n",
       "    .dataframe tbody tr th:only-of-type {\n",
       "        vertical-align: middle;\n",
       "    }\n",
       "\n",
       "    .dataframe tbody tr th {\n",
       "        vertical-align: top;\n",
       "    }\n",
       "\n",
       "    .dataframe thead th {\n",
       "        text-align: right;\n",
       "    }\n",
       "</style>\n",
       "<table border=\"1\" class=\"dataframe\">\n",
       "  <thead>\n",
       "    <tr style=\"text-align: right;\">\n",
       "      <th></th>\n",
       "      <th>reviewId</th>\n",
       "      <th>userName</th>\n",
       "      <th>content</th>\n",
       "      <th>score</th>\n",
       "      <th>sentiment</th>\n",
       "      <th>new_content</th>\n",
       "    </tr>\n",
       "  </thead>\n",
       "  <tbody>\n",
       "    <tr>\n",
       "      <th>0</th>\n",
       "      <td>gp:AOqpTOEhZuqSqqWnaKRgv-9ABYdajFUB0WugPGh-SG-...</td>\n",
       "      <td>Eric Tie</td>\n",
       "      <td>I cannot open the app anymore</td>\n",
       "      <td>1</td>\n",
       "      <td>0</td>\n",
       "      <td>i cannot open the app anymore</td>\n",
       "    </tr>\n",
       "    <tr>\n",
       "      <th>1</th>\n",
       "      <td>gp:AOqpTOH0WP4IQKBZ2LrdNmFy_YmpPCVrV3diEU9KGm3...</td>\n",
       "      <td>john alpha</td>\n",
       "      <td>I have been begging for a refund from this app...</td>\n",
       "      <td>1</td>\n",
       "      <td>0</td>\n",
       "      <td>i have been begging for a refund from this app...</td>\n",
       "    </tr>\n",
       "    <tr>\n",
       "      <th>2</th>\n",
       "      <td>gp:AOqpTOEMCkJB8Iq1p-r9dPwnSYadA5BkPWTf32Z1azu...</td>\n",
       "      <td>Sudhakar .S</td>\n",
       "      <td>Very costly for the premium version (approx In...</td>\n",
       "      <td>1</td>\n",
       "      <td>0</td>\n",
       "      <td>very costly for the premium version approx ind...</td>\n",
       "    </tr>\n",
       "    <tr>\n",
       "      <th>3</th>\n",
       "      <td>gp:AOqpTOGFrUWuKGycpje8kszj3uwHN6tU_fd4gLVFy9z...</td>\n",
       "      <td>SKGflorida@bellsouth.net DAVID S</td>\n",
       "      <td>Used to keep me organized, but all the 2020 UP...</td>\n",
       "      <td>1</td>\n",
       "      <td>0</td>\n",
       "      <td>used to keep me organized but all the 2020 upd...</td>\n",
       "    </tr>\n",
       "    <tr>\n",
       "      <th>4</th>\n",
       "      <td>gp:AOqpTOHls7DW8wmDFzTkHwxuqFkdNQtKHmO6Pt9jhZE...</td>\n",
       "      <td>Louann Stoker</td>\n",
       "      <td>Dan Birthday Oct 28</td>\n",
       "      <td>1</td>\n",
       "      <td>0</td>\n",
       "      <td>dan birthday oct 28</td>\n",
       "    </tr>\n",
       "  </tbody>\n",
       "</table>\n",
       "</div>"
      ],
      "text/plain": [
       "                                            reviewId  \\\n",
       "0  gp:AOqpTOEhZuqSqqWnaKRgv-9ABYdajFUB0WugPGh-SG-...   \n",
       "1  gp:AOqpTOH0WP4IQKBZ2LrdNmFy_YmpPCVrV3diEU9KGm3...   \n",
       "2  gp:AOqpTOEMCkJB8Iq1p-r9dPwnSYadA5BkPWTf32Z1azu...   \n",
       "3  gp:AOqpTOGFrUWuKGycpje8kszj3uwHN6tU_fd4gLVFy9z...   \n",
       "4  gp:AOqpTOHls7DW8wmDFzTkHwxuqFkdNQtKHmO6Pt9jhZE...   \n",
       "\n",
       "                           userName  \\\n",
       "0                          Eric Tie   \n",
       "1                        john alpha   \n",
       "2                       Sudhakar .S   \n",
       "3  SKGflorida@bellsouth.net DAVID S   \n",
       "4                     Louann Stoker   \n",
       "\n",
       "                                             content  score  sentiment  \\\n",
       "0                      I cannot open the app anymore      1          0   \n",
       "1  I have been begging for a refund from this app...      1          0   \n",
       "2  Very costly for the premium version (approx In...      1          0   \n",
       "3  Used to keep me organized, but all the 2020 UP...      1          0   \n",
       "4                                Dan Birthday Oct 28      1          0   \n",
       "\n",
       "                                         new_content  \n",
       "0                      i cannot open the app anymore  \n",
       "1  i have been begging for a refund from this app...  \n",
       "2  very costly for the premium version approx ind...  \n",
       "3  used to keep me organized but all the 2020 upd...  \n",
       "4                                dan birthday oct 28  "
      ]
     },
     "execution_count": 24,
     "metadata": {},
     "output_type": "execute_result"
    }
   ],
   "source": [
    "df_clean['new_content'] = df_clean['new_content'].apply(lambda x: lower_text(x))\n",
    "df_clean.head()"
   ]
  },
  {
   "cell_type": "code",
   "execution_count": 25,
   "id": "b4abc9b1",
   "metadata": {},
   "outputs": [
    {
     "name": "stdout",
     "output_type": "stream",
     "text": [
      "{'except', \"'s\", 'serious', 'nor', 'ever', 'really', 'noone', 'an', 'neither', '’m', '‘s', 'i', 'over', \"n't\", 'everywhere', 'whereafter', 'well', 'none', 'some', 'we', 'any', 'without', 'being', 'several', '‘re', 'whole', '’d', 'latterly', 'ourselves', 'however', 'thereupon', 'last', 'once', 'there', 'himself', 'under', 'toward', 'part', 'becoming', 'at', 'below', 'towards', 'whenever', 'of', 'then', 'but', 'the', 'else', 'even', 'least', 'myself', 'five', 'to', 'too', 'down', '‘ve', 'itself', 'such', 'behind', 'just', 'wherein', 'themselves', 'ours', 'where', 'because', 'us', 'same', 'someone', 'fifteen', 'nine', 'twenty', 'sometimes', 'regarding', 'namely', 'also', 'everything', 'indeed', 'moreover', 'move', 'call', 'give', 'another', 'thereby', 'amount', 'anyhow', 'nevertheless', 'from', 'with', 'every', 'their', 'alone', 'go', 'our', 'above', 'have', 'whose', \"'re\", 'seems', 'thence', 'do', 'hence', 'these', 'about', 'therein', 'anyone', 'it', 'onto', 'whereas', 'became', 'whereupon', 'throughout', 'why', 'between', 'and', 'although', '’ve', 'together', 'n’t', 'cannot', 'whoever', 'using', 'am', 'doing', 'beside', 'on', 'my', 'name', 'one', 'thru', 'during', 'otherwise', 'afterwards', 'few', 'more', 'in', 'should', 'beyond', 'its', 'as', 'elsewhere', 'both', 'due', 'did', 'his', 'again', 'seemed', 'through', 'somewhere', 'never', 'yourselves', 'within', 'eight', 'formerly', 'into', 'hers', 'via', 'four', 'which', \"'ll\", 'twelve', 'very', 'beforehand', 'who', 'say', 'keep', 'enough', 'if', 'two', 'whereby', 'seeming', 'your', 'already', 'all', 'back', '‘ll', 'against', 'whom', 'does', 'her', 'anything', 'ca', 'is', 'by', 'along', 'off', 'or', 'anywhere', 'rather', 'had', 'here', '’ll', 'eleven', 'full', 'yours', 'much', 'sixty', 'after', 'were', 'other', 'third', 'has', 'take', 'might', 'whither', 'yourself', 'various', 'hundred', 'only', 'out', '‘m', \"'m\", 'they', 'please', 'when', 'always', 'while', 'are', 'until', 'show', 'latter', 'them', 'put', 'others', 'still', 'herself', 'hereupon', 'many', 'wherever', 'across', 'for', 'was', 'amongst', 'would', 'upon', 'sometime', 'though', 'fifty', 'n‘t', \"'ve\", 'front', 'become', 'six', 'most', 'so', 'former', 'get', 'unless', 'less', '’s', 'done', 'thus', 'before', 'besides', 'whether', 'three', 'used', 'therefore', 'now', \"'d\", 'up', 'thereafter', 'around', 'that', 'nowhere', 'could', 'been', 'be', '‘d', 'either', 'almost', 'he', 'herein', 'than', 'nothing', 'ten', 'mostly', 'him', 'own', '’re', 'hereby', 'must', 'each', 'anyway', 'not', 'see', 'everyone', 'next', 'how', 'among', 'may', 'made', 'something', 'meanwhile', 'nobody', 'will', 'becomes', 'seem', 'mine', 'forty', 'somehow', 'can', 'bottom', 'top', 'make', 'first', 'side', 'me', 'since', 'you', 'whatever', 'yet', 'hereafter', 'empty', 'perhaps', 'further', 'quite', 'she', 'per', 'whence', 'often', 'those', 're', 'what', 'this', 'no', 'a'}\n"
     ]
    }
   ],
   "source": [
    "STOPWORDS = nlp.Defaults.stop_words\n",
    "print(STOPWORDS)"
   ]
  },
  {
   "cell_type": "code",
   "execution_count": 26,
   "id": "1c038fd0",
   "metadata": {},
   "outputs": [],
   "source": [
    "def remove_stopwords(text):\n",
    "    return \" \".join([word for word in str(text).split() if word not in STOPWORDS])"
   ]
  },
  {
   "cell_type": "code",
   "execution_count": 27,
   "id": "d652204d",
   "metadata": {},
   "outputs": [],
   "source": [
    "df_clean['new_content'] = df_clean['new_content'].apply(lambda x: remove_stopwords(x))"
   ]
  },
  {
   "cell_type": "code",
   "execution_count": 28,
   "id": "88c4ac18",
   "metadata": {},
   "outputs": [
    {
     "data": {
      "text/plain": [
       "'begging refund app month replying'"
      ]
     },
     "execution_count": 28,
     "metadata": {},
     "output_type": "execute_result"
    }
   ],
   "source": [
    "df_clean['new_content'].iloc[1]"
   ]
  },
  {
   "cell_type": "markdown",
   "id": "40796231",
   "metadata": {},
   "source": [
    "## 3.3 Removal freqwords"
   ]
  },
  {
   "cell_type": "markdown",
   "id": "434fe080",
   "metadata": {},
   "source": [
    "Nếu chúng ta có một kho ngữ liệu cụ thể về miền, chúng ta cũng có thể có một số từ thường gặp không quá quan trọng đối với chúng ta.\n",
    "\n",
    "Vì vậy, bước này là loại bỏ các từ thường xuyên trong ngữ liệu đã cho. Nếu chúng tôi sử dụng một cái gì đó như tfidf, điều này sẽ tự động được xử lý."
   ]
  },
  {
   "cell_type": "code",
   "execution_count": 29,
   "id": "b8ebc9dc",
   "metadata": {},
   "outputs": [
    {
     "data": {
      "text/plain": [
       "[('app', 7571),\n",
       " ('good', 1724),\n",
       " ('like', 1722),\n",
       " ('use', 1604),\n",
       " ('time', 1526),\n",
       " ('tasks', 1489),\n",
       " ('great', 1485),\n",
       " ('calendar', 1188),\n",
       " ('task', 1128),\n",
       " ('love', 1120)]"
      ]
     },
     "execution_count": 29,
     "metadata": {},
     "output_type": "execute_result"
    }
   ],
   "source": [
    "from collections import Counter\n",
    "cnt = Counter()\n",
    "for text in df_clean['new_content'].values:\n",
    "    for word in text.split():\n",
    "        cnt[word] += 1\n",
    "        \n",
    "cnt.most_common(10)"
   ]
  },
  {
   "cell_type": "code",
   "execution_count": 30,
   "id": "0448a23a",
   "metadata": {},
   "outputs": [],
   "source": [
    "FREQWORDS = set([w for (w, wc) in cnt.most_common(10)])\n",
    "def remove_freqwords(text):\n",
    "    \"\"\"custom function to remove the frequent words\"\"\"\n",
    "    return \" \".join([word for word in str(text).split() if word not in FREQWORDS])"
   ]
  },
  {
   "cell_type": "code",
   "execution_count": 31,
   "id": "9a474c1d",
   "metadata": {},
   "outputs": [],
   "source": [
    "df_clean['new_content'] = df_clean['new_content'].apply(lambda x: remove_freqwords(x))"
   ]
  },
  {
   "cell_type": "code",
   "execution_count": 73,
   "id": "8af5bd16",
   "metadata": {},
   "outputs": [
    {
     "data": {
      "text/html": [
       "<div>\n",
       "<style scoped>\n",
       "    .dataframe tbody tr th:only-of-type {\n",
       "        vertical-align: middle;\n",
       "    }\n",
       "\n",
       "    .dataframe tbody tr th {\n",
       "        vertical-align: top;\n",
       "    }\n",
       "\n",
       "    .dataframe thead th {\n",
       "        text-align: right;\n",
       "    }\n",
       "</style>\n",
       "<table border=\"1\" class=\"dataframe\">\n",
       "  <thead>\n",
       "    <tr style=\"text-align: right;\">\n",
       "      <th></th>\n",
       "      <th>reviewId</th>\n",
       "      <th>userName</th>\n",
       "      <th>content</th>\n",
       "      <th>score</th>\n",
       "      <th>sentiment</th>\n",
       "      <th>new_content</th>\n",
       "    </tr>\n",
       "  </thead>\n",
       "  <tbody>\n",
       "    <tr>\n",
       "      <th>0</th>\n",
       "      <td>gp:AOqpTOEhZuqSqqWnaKRgv-9ABYdajFUB0WugPGh-SG-...</td>\n",
       "      <td>Eric Tie</td>\n",
       "      <td>I cannot open the app anymore</td>\n",
       "      <td>1</td>\n",
       "      <td>0</td>\n",
       "      <td>open anymor</td>\n",
       "    </tr>\n",
       "    <tr>\n",
       "      <th>1</th>\n",
       "      <td>gp:AOqpTOH0WP4IQKBZ2LrdNmFy_YmpPCVrV3diEU9KGm3...</td>\n",
       "      <td>john alpha</td>\n",
       "      <td>I have been begging for a refund from this app...</td>\n",
       "      <td>1</td>\n",
       "      <td>0</td>\n",
       "      <td>beg refund month repli</td>\n",
       "    </tr>\n",
       "    <tr>\n",
       "      <th>2</th>\n",
       "      <td>gp:AOqpTOEMCkJB8Iq1p-r9dPwnSYadA5BkPWTf32Z1azu...</td>\n",
       "      <td>Sudhakar .S</td>\n",
       "      <td>Very costly for the premium version (approx In...</td>\n",
       "      <td>1</td>\n",
       "      <td>0</td>\n",
       "      <td>costli premium version approx indian rupe 910 ...</td>\n",
       "    </tr>\n",
       "    <tr>\n",
       "      <th>3</th>\n",
       "      <td>gp:AOqpTOGFrUWuKGycpje8kszj3uwHN6tU_fd4gLVFy9z...</td>\n",
       "      <td>SKGflorida@bellsouth.net DAVID S</td>\n",
       "      <td>Used to keep me organized, but all the 2020 UP...</td>\n",
       "      <td>1</td>\n",
       "      <td>0</td>\n",
       "      <td>organ 2020 updat mess thing y cudnt You leav e...</td>\n",
       "    </tr>\n",
       "    <tr>\n",
       "      <th>4</th>\n",
       "      <td>gp:AOqpTOHls7DW8wmDFzTkHwxuqFkdNQtKHmO6Pt9jhZE...</td>\n",
       "      <td>Louann Stoker</td>\n",
       "      <td>Dan Birthday Oct 28</td>\n",
       "      <td>1</td>\n",
       "      <td>0</td>\n",
       "      <td>dan birthday oct 28</td>\n",
       "    </tr>\n",
       "  </tbody>\n",
       "</table>\n",
       "</div>"
      ],
      "text/plain": [
       "                                            reviewId  \\\n",
       "0  gp:AOqpTOEhZuqSqqWnaKRgv-9ABYdajFUB0WugPGh-SG-...   \n",
       "1  gp:AOqpTOH0WP4IQKBZ2LrdNmFy_YmpPCVrV3diEU9KGm3...   \n",
       "2  gp:AOqpTOEMCkJB8Iq1p-r9dPwnSYadA5BkPWTf32Z1azu...   \n",
       "3  gp:AOqpTOGFrUWuKGycpje8kszj3uwHN6tU_fd4gLVFy9z...   \n",
       "4  gp:AOqpTOHls7DW8wmDFzTkHwxuqFkdNQtKHmO6Pt9jhZE...   \n",
       "\n",
       "                           userName  \\\n",
       "0                          Eric Tie   \n",
       "1                        john alpha   \n",
       "2                       Sudhakar .S   \n",
       "3  SKGflorida@bellsouth.net DAVID S   \n",
       "4                     Louann Stoker   \n",
       "\n",
       "                                             content  score  sentiment  \\\n",
       "0                      I cannot open the app anymore      1          0   \n",
       "1  I have been begging for a refund from this app...      1          0   \n",
       "2  Very costly for the premium version (approx In...      1          0   \n",
       "3  Used to keep me organized, but all the 2020 UP...      1          0   \n",
       "4                                Dan Birthday Oct 28      1          0   \n",
       "\n",
       "                                         new_content  \n",
       "0                                        open anymor  \n",
       "1                             beg refund month repli  \n",
       "2  costli premium version approx indian rupe 910 ...  \n",
       "3  organ 2020 updat mess thing y cudnt You leav e...  \n",
       "4                                dan birthday oct 28  "
      ]
     },
     "execution_count": 73,
     "metadata": {},
     "output_type": "execute_result"
    }
   ],
   "source": [
    "df_clean.head()"
   ]
  },
  {
   "cell_type": "markdown",
   "id": "f16a8efe",
   "metadata": {},
   "source": [
    "## 3.4 Token normalization"
   ]
  },
  {
   "cell_type": "markdown",
   "id": "c01a34f1",
   "metadata": {},
   "source": [
    "Chuẩn hóa mã thông báo có nghĩa là chuyển đổi các mã thông báo khác nhau sang dạng cơ sở của chúng. Điều này có thể được thực hiện bằng cách:\n",
    "\n",
    "* Lemmatization: loại bỏ và thay thế các hậu tố để chuyển về dạng gốc của từ, được gọi là phần gốc\n",
    "\n",
    "* Stemming: Trả về dạng cơ sở hoặc từ điển của một từ, được gọi là bổ đề"
   ]
  },
  {
   "cell_type": "markdown",
   "id": "9878b599",
   "metadata": {
    "papermill": {
     "duration": 0.013656,
     "end_time": "2022-07-12T14:00:47.028516",
     "exception": false,
     "start_time": "2022-07-12T14:00:47.014860",
     "status": "completed"
    },
    "tags": []
   },
   "source": [
    "### 3.4.1 Lemmatizing the Text"
   ]
  },
  {
   "cell_type": "code",
   "execution_count": 33,
   "id": "09e61f25",
   "metadata": {},
   "outputs": [],
   "source": [
    "from nltk.stem import WordNetLemmatizer\n",
    "\n",
    "lemmatizer = WordNetLemmatizer()\n",
    "def lemmatize_words(text):\n",
    "    return \" \".join([lemmatizer.lemmatize(word) for word in text.split()])"
   ]
  },
  {
   "cell_type": "code",
   "execution_count": 34,
   "id": "29157ce2",
   "metadata": {},
   "outputs": [],
   "source": [
    "df_clean['new_content'] = df_clean['new_content'].apply(lambda x: lemmatize_words(x))"
   ]
  },
  {
   "cell_type": "markdown",
   "id": "638d7bbf",
   "metadata": {
    "papermill": {
     "duration": 0.015214,
     "end_time": "2022-07-12T14:00:50.390708",
     "exception": false,
     "start_time": "2022-07-12T14:00:50.375494",
     "status": "completed"
    },
    "tags": []
   },
   "source": [
    "### 3.4.2 Stemming the Text"
   ]
  },
  {
   "cell_type": "code",
   "execution_count": 35,
   "id": "1621e8a9",
   "metadata": {},
   "outputs": [],
   "source": [
    "from nltk.stem.porter import PorterStemmer\n",
    "stemmer = PorterStemmer()\n",
    "def stem_words(text):\n",
    "    return \" \".join([stemmer.stem(word) for word in text.split()])"
   ]
  },
  {
   "cell_type": "code",
   "execution_count": 36,
   "id": "7310d686",
   "metadata": {},
   "outputs": [],
   "source": [
    "df_clean['new_content'] = df_clean['new_content'].apply(lambda x: stem_words(x))"
   ]
  },
  {
   "cell_type": "code",
   "execution_count": 37,
   "id": "c47a3d56",
   "metadata": {},
   "outputs": [
    {
     "data": {
      "text/plain": [
       "'sep 2013 took 1 year decent remind annoy click twice view note product oct 2019 new interfac note disappear interfac copi wunderlist ticktick point pay subscript competit offer function remind note'"
      ]
     },
     "execution_count": 37,
     "metadata": {},
     "output_type": "execute_result"
    }
   ],
   "source": [
    "df_clean['new_content'][1258]"
   ]
  },
  {
   "cell_type": "code",
   "execution_count": 38,
   "id": "4ba55275",
   "metadata": {},
   "outputs": [
    {
     "data": {
      "text/plain": [
       "'todo'"
      ]
     },
     "execution_count": 38,
     "metadata": {},
     "output_type": "execute_result"
    }
   ],
   "source": [
    "df_clean['new_content'][330]"
   ]
  },
  {
   "cell_type": "markdown",
   "id": "7a716f59",
   "metadata": {},
   "source": [
    "## 3.5 Chat Words Conversion"
   ]
  },
  {
   "cell_type": "markdown",
   "id": "6bbd368c",
   "metadata": {},
   "source": [
    "Đây là bước tiền xử lý văn bản quan trọng nếu chúng ta đang xử lý dữ liệu trò chuyện. Mọi người sử dụng rất nhiều từ viết tắt trong trò chuyện và vì vậy có thể hữu ích nếu mở rộng những từ đó cho mục đích phân tích của chúng tôi."
   ]
  },
  {
   "cell_type": "code",
   "execution_count": 39,
   "id": "56c0f15b",
   "metadata": {},
   "outputs": [],
   "source": [
    "chat_words_str = \"\"\"\n",
    "AFAIK=As Far As I Know\n",
    "AFK=Away From Keyboard\n",
    "ASAP=As Soon As Possible\n",
    "ATK=At The Keyboard\n",
    "ATM=At The Moment\n",
    "A3=Anytime, Anywhere, Anyplace\n",
    "BAK=Back At Keyboard\n",
    "BBL=Be Back Later\n",
    "BBS=Be Back Soon\n",
    "BFN=Bye For Now\n",
    "B4N=Bye For Now\n",
    "BRB=Be Right Back\n",
    "BRT=Be Right There\n",
    "BTW=By The Way\n",
    "B4=Before\n",
    "B4N=Bye For Now\n",
    "CU=See You\n",
    "CUL8R=See You Later\n",
    "CYA=See You\n",
    "FAQ=Frequently Asked Questions\n",
    "FC=Fingers Crossed\n",
    "FWIW=For What It's Worth\n",
    "FYI=For Your Information\n",
    "GAL=Get A Life\n",
    "GG=Good Game\n",
    "GN=Good Night\n",
    "GMTA=Great Minds Think Alike\n",
    "GR8=Great!\n",
    "G9=Genius\n",
    "IC=I See\n",
    "ICQ=I Seek you (also a chat program)\n",
    "ILU=ILU: I Love You\n",
    "IMHO=In My Honest/Humble Opinion\n",
    "IMO=In My Opinion\n",
    "IOW=In Other Words\n",
    "IRL=In Real Life\n",
    "KISS=Keep It Simple, Stupid\n",
    "LDR=Long Distance Relationship\n",
    "LMAO=Laugh My A.. Off\n",
    "LOL=Laughing Out Loud\n",
    "LTNS=Long Time No See\n",
    "L8R=Later\n",
    "MTE=My Thoughts Exactly\n",
    "M8=Mate\n",
    "NRN=No Reply Necessary\n",
    "OIC=Oh I See\n",
    "PITA=Pain In The A..\n",
    "PRT=Party\n",
    "PRW=Parents Are Watching\n",
    "ROFL=Rolling On The Floor Laughing\n",
    "ROFLOL=Rolling On The Floor Laughing Out Loud\n",
    "ROTFLMAO=Rolling On The Floor Laughing My A.. Off\n",
    "SK8=Skate\n",
    "STATS=Your sex and age\n",
    "ASL=Age, Sex, Location\n",
    "THX=Thank You\n",
    "TTFN=Ta-Ta For Now!\n",
    "TTYL=Talk To You Later\n",
    "U=You\n",
    "U2=You Too\n",
    "U4E=Yours For Ever\n",
    "WB=Welcome Back\n",
    "WTF=What The F...\n",
    "WTG=Way To Go!\n",
    "WUF=Where Are You From?\n",
    "W8=Wait...\n",
    "7K=Sick:-D Laugher\n",
    "\"\"\""
   ]
  },
  {
   "cell_type": "code",
   "execution_count": 40,
   "id": "87ca4195",
   "metadata": {},
   "outputs": [],
   "source": [
    "chat_words_map_dict = {}\n",
    "chat_words_list = []\n",
    "for line in chat_words_str.split(\"\\n\"):\n",
    "    if line != \"\":\n",
    "        cw = line.split(\"=\")[0]\n",
    "        cw_expanded = line.split(\"=\")[1]\n",
    "        chat_words_list.append(cw)\n",
    "        chat_words_map_dict[cw] = cw_expanded\n",
    "chat_words_list = set(chat_words_list)\n",
    "\n",
    "def chat_words_conversion(text):\n",
    "    new_text = []\n",
    "    for w in text.split():\n",
    "        if w.upper() in chat_words_list:\n",
    "            new_text.append(chat_words_map_dict[w.upper()])\n",
    "        else:\n",
    "            new_text.append(w)\n",
    "    return \" \".join(new_text)\n"
   ]
  },
  {
   "cell_type": "code",
   "execution_count": 41,
   "id": "b46a2e9c",
   "metadata": {},
   "outputs": [],
   "source": [
    "df_clean['new_content'] = df_clean['new_content'].apply(lambda x: chat_words_conversion(x))"
   ]
  },
  {
   "cell_type": "code",
   "execution_count": 42,
   "id": "ea84ab80",
   "metadata": {},
   "outputs": [
    {
     "data": {
      "text/html": [
       "<div>\n",
       "<style scoped>\n",
       "    .dataframe tbody tr th:only-of-type {\n",
       "        vertical-align: middle;\n",
       "    }\n",
       "\n",
       "    .dataframe tbody tr th {\n",
       "        vertical-align: top;\n",
       "    }\n",
       "\n",
       "    .dataframe thead th {\n",
       "        text-align: right;\n",
       "    }\n",
       "</style>\n",
       "<table border=\"1\" class=\"dataframe\">\n",
       "  <thead>\n",
       "    <tr style=\"text-align: right;\">\n",
       "      <th></th>\n",
       "      <th>reviewId</th>\n",
       "      <th>userName</th>\n",
       "      <th>content</th>\n",
       "      <th>score</th>\n",
       "      <th>sentiment</th>\n",
       "      <th>new_content</th>\n",
       "    </tr>\n",
       "  </thead>\n",
       "  <tbody>\n",
       "    <tr>\n",
       "      <th>0</th>\n",
       "      <td>gp:AOqpTOEhZuqSqqWnaKRgv-9ABYdajFUB0WugPGh-SG-...</td>\n",
       "      <td>Eric Tie</td>\n",
       "      <td>I cannot open the app anymore</td>\n",
       "      <td>1</td>\n",
       "      <td>0</td>\n",
       "      <td>open anymor</td>\n",
       "    </tr>\n",
       "    <tr>\n",
       "      <th>1</th>\n",
       "      <td>gp:AOqpTOH0WP4IQKBZ2LrdNmFy_YmpPCVrV3diEU9KGm3...</td>\n",
       "      <td>john alpha</td>\n",
       "      <td>I have been begging for a refund from this app...</td>\n",
       "      <td>1</td>\n",
       "      <td>0</td>\n",
       "      <td>beg refund month repli</td>\n",
       "    </tr>\n",
       "    <tr>\n",
       "      <th>2</th>\n",
       "      <td>gp:AOqpTOEMCkJB8Iq1p-r9dPwnSYadA5BkPWTf32Z1azu...</td>\n",
       "      <td>Sudhakar .S</td>\n",
       "      <td>Very costly for the premium version (approx In...</td>\n",
       "      <td>1</td>\n",
       "      <td>0</td>\n",
       "      <td>costli premium version approx indian rupe 910 ...</td>\n",
       "    </tr>\n",
       "    <tr>\n",
       "      <th>3</th>\n",
       "      <td>gp:AOqpTOGFrUWuKGycpje8kszj3uwHN6tU_fd4gLVFy9z...</td>\n",
       "      <td>SKGflorida@bellsouth.net DAVID S</td>\n",
       "      <td>Used to keep me organized, but all the 2020 UP...</td>\n",
       "      <td>1</td>\n",
       "      <td>0</td>\n",
       "      <td>organ 2020 updat mess thing y cudnt You leav e...</td>\n",
       "    </tr>\n",
       "    <tr>\n",
       "      <th>4</th>\n",
       "      <td>gp:AOqpTOHls7DW8wmDFzTkHwxuqFkdNQtKHmO6Pt9jhZE...</td>\n",
       "      <td>Louann Stoker</td>\n",
       "      <td>Dan Birthday Oct 28</td>\n",
       "      <td>1</td>\n",
       "      <td>0</td>\n",
       "      <td>dan birthday oct 28</td>\n",
       "    </tr>\n",
       "  </tbody>\n",
       "</table>\n",
       "</div>"
      ],
      "text/plain": [
       "                                            reviewId  \\\n",
       "0  gp:AOqpTOEhZuqSqqWnaKRgv-9ABYdajFUB0WugPGh-SG-...   \n",
       "1  gp:AOqpTOH0WP4IQKBZ2LrdNmFy_YmpPCVrV3diEU9KGm3...   \n",
       "2  gp:AOqpTOEMCkJB8Iq1p-r9dPwnSYadA5BkPWTf32Z1azu...   \n",
       "3  gp:AOqpTOGFrUWuKGycpje8kszj3uwHN6tU_fd4gLVFy9z...   \n",
       "4  gp:AOqpTOHls7DW8wmDFzTkHwxuqFkdNQtKHmO6Pt9jhZE...   \n",
       "\n",
       "                           userName  \\\n",
       "0                          Eric Tie   \n",
       "1                        john alpha   \n",
       "2                       Sudhakar .S   \n",
       "3  SKGflorida@bellsouth.net DAVID S   \n",
       "4                     Louann Stoker   \n",
       "\n",
       "                                             content  score  sentiment  \\\n",
       "0                      I cannot open the app anymore      1          0   \n",
       "1  I have been begging for a refund from this app...      1          0   \n",
       "2  Very costly for the premium version (approx In...      1          0   \n",
       "3  Used to keep me organized, but all the 2020 UP...      1          0   \n",
       "4                                Dan Birthday Oct 28      1          0   \n",
       "\n",
       "                                         new_content  \n",
       "0                                        open anymor  \n",
       "1                             beg refund month repli  \n",
       "2  costli premium version approx indian rupe 910 ...  \n",
       "3  organ 2020 updat mess thing y cudnt You leav e...  \n",
       "4                                dan birthday oct 28  "
      ]
     },
     "execution_count": 42,
     "metadata": {},
     "output_type": "execute_result"
    }
   ],
   "source": [
    "df_clean.head()"
   ]
  },
  {
   "cell_type": "markdown",
   "id": "f764124e",
   "metadata": {},
   "source": [
    "<a id='4'></a>\n",
    "# 4. Vectorization - Modeling - Accurracy"
   ]
  },
  {
   "cell_type": "markdown",
   "id": "9c87c3f8",
   "metadata": {},
   "source": [
    "* Sau giai đoạn tiền xử lý ban đầu, chúng ta cần biến đổi văn bản thành một vectơ (hoặc mảng) số có ý nghĩa."
   ]
  },
  {
   "cell_type": "markdown",
   "id": "03409c2c",
   "metadata": {},
   "source": [
    "### Bag of Words\n",
    "\n",
    "Túi từ là một bản trình bày văn bản mô tả sự xuất hiện của các từ trong tài liệu. Nó liên quan đến hai điều:\n",
    "\n",
    "* Một vốn từ vựng của các từ đã biết.\n",
    "\n",
    "* Một thước đo sự hiện diện của các từ đã biết.\n",
    "\n",
    "Tại sao nó được gọi là “bag” các từ? Đó là bởi vì bất kỳ thông tin nào về thứ tự hoặc cấu trúc của các từ trong tài liệu đều bị loại bỏ và mô hình chỉ quan tâm đến việc liệu các từ đã biết có xuất hiện trong tài liệu hay không, chứ không phải nơi chúng xuất hiện trong tài liệu."
   ]
  },
  {
   "attachments": {
    "image.png": {
     "image/png": "[encoded data removed]"
    }
   },
   "cell_type": "markdown",
   "id": "07cbfe0f",
   "metadata": {},
   "source": [
    "![image.png](attachment:image.png)"
   ]
  },
  {
   "cell_type": "markdown",
   "id": "9b8a2ce3",
   "metadata": {},
   "source": [
    "Chúng ta có thể làm điều này bằng cách sử dụng CountVectorizer của scikit-learning, trong đó mỗi hàng sẽ đại diện cho một đánh giá khác nhau và mỗi cột sẽ đại diện cho một từ khác nhau."
   ]
  },
  {
   "cell_type": "code",
   "execution_count": 43,
   "id": "f202b508",
   "metadata": {},
   "outputs": [],
   "source": [
    "from sklearn.metrics import confusion_matrix, classification_report\n",
    "def show_confusion_matrix(confusion_matrix):\n",
    "    hmap = sns.heatmap(confusion_matrix, annot=True, fmt=\"d\", cmap=\"Blues\")\n",
    "    hmap.yaxis.set_ticklabels(hmap.yaxis.get_ticklabels(), rotation=0, ha='right')\n",
    "    hmap.xaxis.set_ticklabels(hmap.xaxis.get_ticklabels(), rotation=30, ha='right')\n",
    "    plt.ylabel('True sentiment')\n",
    "    plt.xlabel('Predicted sentiment');"
   ]
  },
  {
   "cell_type": "markdown",
   "id": "ab4cf52e",
   "metadata": {
    "papermill": {
     "duration": 0.014025,
     "end_time": "2022-07-12T14:00:56.244234",
     "exception": false,
     "start_time": "2022-07-12T14:00:56.230209",
     "status": "completed"
    },
    "tags": []
   },
   "source": [
    "## 4.1 Using Count-Vectorizer"
   ]
  },
  {
   "cell_type": "markdown",
   "id": "14ca9616",
   "metadata": {},
   "source": [
    "### Bag of Words - Tính năng Countvectorizer\n",
    "\n",
    "* Countvectorizer chuyển đổi một bộ sưu tập các tài liệu văn bản thành một ma trận số lượng mã thông báo. Điều quan trọng cần lưu ý ở đây là CountVectorizer đi kèm với rất nhiều tùy chọn để tự động xử lý trước, mã hóa và dừng xóa từ. Tuy nhiên, tôi đã thực hiện tất cả quy trình theo cách thủ công ở trên để hiểu rõ hơn. Hãy sử dụng một triển khai vani của bộ đếm mà không cần chỉ định bất kỳ tham số nào."
   ]
  },
  {
   "cell_type": "code",
   "execution_count": 44,
   "id": "f16dfcdf",
   "metadata": {
    "execution": {
     "iopub.execute_input": "2022-07-12T14:00:56.274680Z",
     "iopub.status.busy": "2022-07-12T14:00:56.274298Z",
     "iopub.status.idle": "2022-07-12T14:00:56.576839Z",
     "shell.execute_reply": "2022-07-12T14:00:56.575750Z"
    },
    "papermill": {
     "duration": 0.320689,
     "end_time": "2022-07-12T14:00:56.579267",
     "exception": false,
     "start_time": "2022-07-12T14:00:56.258578",
     "status": "completed"
    },
    "tags": []
   },
   "outputs": [
    {
     "data": {
      "text/plain": [
       "<12446x1000 sparse matrix of type '<class 'numpy.int64'>'\n",
       "\twith 100361 stored elements in Compressed Sparse Row format>"
      ]
     },
     "execution_count": 44,
     "metadata": {},
     "output_type": "execute_result"
    }
   ],
   "source": [
    "## count vectorizer\n",
    "\n",
    "data = df_clean[['reviewId', 'new_content', 'sentiment']]\n",
    "\n",
    "count_vec = CountVectorizer(max_df=0.90,min_df=2,\n",
    "                           max_features=1000,stop_words=STOPWORDS)\n",
    "\n",
    "bagofword_vec = count_vec.fit_transform(data['new_content'])\n",
    "bagofword_vec"
   ]
  },
  {
   "cell_type": "code",
   "execution_count": 45,
   "id": "719f2edd",
   "metadata": {},
   "outputs": [],
   "source": [
    "test = df_clean['sentiment']"
   ]
  },
  {
   "cell_type": "code",
   "execution_count": 46,
   "id": "6ae6229c",
   "metadata": {
    "execution": {
     "iopub.execute_input": "2022-07-12T14:00:56.610873Z",
     "iopub.status.busy": "2022-07-12T14:00:56.610477Z",
     "iopub.status.idle": "2022-07-12T14:00:56.622804Z",
     "shell.execute_reply": "2022-07-12T14:00:56.621467Z"
    },
    "papermill": {
     "duration": 0.030957,
     "end_time": "2022-07-12T14:00:56.625412",
     "exception": false,
     "start_time": "2022-07-12T14:00:56.594455",
     "status": "completed"
    },
    "scrolled": true,
    "tags": []
   },
   "outputs": [
    {
     "data": {
      "text/plain": [
       "((9956, 1000), (2490, 1000))"
      ]
     },
     "execution_count": 46,
     "metadata": {},
     "output_type": "execute_result"
    }
   ],
   "source": [
    "X_train, X_test, y_train, y_test = train_test_split(bagofword_vec,test,\n",
    "                                                    test_size=0.2)\n",
    "X_train.shape,X_test.shape"
   ]
  },
  {
   "cell_type": "code",
   "execution_count": 47,
   "id": "003fd328",
   "metadata": {
    "execution": {
     "iopub.execute_input": "2022-07-12T14:00:56.656850Z",
     "iopub.status.busy": "2022-07-12T14:00:56.656465Z",
     "iopub.status.idle": "2022-07-12T14:00:56.668483Z",
     "shell.execute_reply": "2022-07-12T14:00:56.667119Z"
    },
    "papermill": {
     "duration": 0.030391,
     "end_time": "2022-07-12T14:00:56.670758",
     "exception": false,
     "start_time": "2022-07-12T14:00:56.640367",
     "status": "completed"
    },
    "tags": []
   },
   "outputs": [
    {
     "name": "stdout",
     "output_type": "stream",
     "text": [
      "0.6734939759036145\n"
     ]
    }
   ],
   "source": [
    "mb = MultinomialNB()\n",
    "mb.fit(X_train,y_train)\n",
    "mbpred = mb.predict(X_test)\n",
    "print(metrics.accuracy_score(y_test,mbpred))"
   ]
  },
  {
   "cell_type": "code",
   "execution_count": 48,
   "id": "9eacadaf",
   "metadata": {
    "execution": {
     "iopub.execute_input": "2022-07-12T14:00:56.701846Z",
     "iopub.status.busy": "2022-07-12T14:00:56.701447Z",
     "iopub.status.idle": "2022-07-12T14:01:07.036446Z",
     "shell.execute_reply": "2022-07-12T14:01:07.035326Z"
    },
    "papermill": {
     "duration": 10.354142,
     "end_time": "2022-07-12T14:01:07.039601",
     "exception": false,
     "start_time": "2022-07-12T14:00:56.685459",
     "status": "completed"
    },
    "tags": []
   },
   "outputs": [
    {
     "name": "stdout",
     "output_type": "stream",
     "text": [
      "0.6686746987951807\n"
     ]
    }
   ],
   "source": [
    "cv_rf = RandomForestClassifier()\n",
    "cv_rf.fit(X_train,y_train)\n",
    "cv_rf_pred = cv_rf.predict(X_test)\n",
    "print(metrics.accuracy_score(y_test,cv_rf_pred))"
   ]
  },
  {
   "cell_type": "code",
   "execution_count": 49,
   "id": "e797c953",
   "metadata": {},
   "outputs": [
    {
     "data": {
      "image/png": "[encoded data removed]",
      "text/plain": [
       "<Figure size 432x288 with 2 Axes>"
      ]
     },
     "metadata": {
      "needs_background": "light"
     },
     "output_type": "display_data"
    }
   ],
   "source": [
    "cm_cv_rf = confusion_matrix(y_test, cv_rf_pred)\n",
    "df_cm_cv_rf = pd.DataFrame(cm_cv_rf, index=class_names, columns=class_names)\n",
    "show_confusion_matrix(df_cm_cv_rf)"
   ]
  },
  {
   "cell_type": "markdown",
   "id": "62ba7c02",
   "metadata": {
    "papermill": {
     "duration": 0.014843,
     "end_time": "2022-07-12T14:01:07.070123",
     "exception": false,
     "start_time": "2022-07-12T14:01:07.055280",
     "status": "completed"
    },
    "tags": []
   },
   "source": [
    "## 4.2 Using TF-IDF"
   ]
  },
  {
   "cell_type": "markdown",
   "id": "1f286dce",
   "metadata": {},
   "source": [
    "### Tính năng TFIDF\n",
    "\n",
    "* Một vấn đề với phương pháp Bag of Words là các từ có tần suất cao bắt đầu chiếm ưu thế trong tài liệu (ví dụ: điểm lớn hơn), nhưng có thể không chứa nhiều “nội dung thông tin”. Ngoài ra, nó sẽ tăng trọng lượng cho các tài liệu dài hơn so với các tài liệu ngắn hơn.\n",
    "\n",
    "* Một cách tiếp cận là bán lại tần suất của các từ theo tần suất chúng xuất hiện trong tất cả các tài liệu để điểm số cho các từ thường xuyên như “the” cũng thường xuyên xuất hiện trên tất cả các tài liệu sẽ bị phạt. Cách tiếp cận để tính điểm này được gọi là Tần suất tài liệu nghịch đảo thuật ngữ, viết tắt là TF-IDF, trong đó:"
   ]
  },
  {
   "cell_type": "markdown",
   "id": "cfd11b10",
   "metadata": {},
   "source": [
    "Term Frequency: là điểm số của tần suất xuất hiện của từ trong tài liệu hiện tại.\n",
    "\n",
    "* TF = (Số lần thuật ngữ t xuất hiện trong tài liệu) / (Số thuật ngữ trong tài liệu)\n",
    "\n",
    "Inverse Document Frequency:là điểm cho biết mức độ hiếm của từ này trong các tài liệu.\n",
    "\n",
    "* IDF = 1 + log (N / n), trong đó, N là số lượng tài liệu và n là số lượng tài liệu mà một thuật ngữ t đã xuất hiện."
   ]
  },
  {
   "cell_type": "code",
   "execution_count": 50,
   "id": "bbb9b237",
   "metadata": {
    "execution": {
     "iopub.execute_input": "2022-07-12T14:01:07.101344Z",
     "iopub.status.busy": "2022-07-12T14:01:07.100931Z",
     "iopub.status.idle": "2022-07-12T14:01:07.114527Z",
     "shell.execute_reply": "2022-07-12T14:01:07.113439Z"
    },
    "papermill": {
     "duration": 0.031897,
     "end_time": "2022-07-12T14:01:07.116696",
     "exception": false,
     "start_time": "2022-07-12T14:01:07.084799",
     "status": "completed"
    },
    "tags": []
   },
   "outputs": [
    {
     "data": {
      "text/plain": [
       "((9956,), (2490,))"
      ]
     },
     "execution_count": 50,
     "metadata": {},
     "output_type": "execute_result"
    }
   ],
   "source": [
    "from sklearn.preprocessing import LabelEncoder\n",
    "le = LabelEncoder()\n",
    "\n",
    "data = df_clean[['reviewId', 'new_content', 'sentiment']]\n",
    "\n",
    "y=data['sentiment']\n",
    "\n",
    "X_train,X_test,y_train,y_test = train_test_split(df_clean['new_content']\n",
    "                                                ,y,test_size=0.2,\n",
    "                                                random_state=557)\n",
    "\n",
    "X_train.shape,X_test.shape"
   ]
  },
  {
   "cell_type": "code",
   "execution_count": 51,
   "id": "97326513",
   "metadata": {
    "execution": {
     "iopub.execute_input": "2022-07-12T14:01:07.148672Z",
     "iopub.status.busy": "2022-07-12T14:01:07.147967Z",
     "iopub.status.idle": "2022-07-12T14:01:07.566054Z",
     "shell.execute_reply": "2022-07-12T14:01:07.564940Z"
    },
    "papermill": {
     "duration": 0.437254,
     "end_time": "2022-07-12T14:01:07.568777",
     "exception": false,
     "start_time": "2022-07-12T14:01:07.131523",
     "status": "completed"
    },
    "tags": []
   },
   "outputs": [],
   "source": [
    "tfidf_vectorizer = TfidfVectorizer(max_df=0.8, max_features=10000)\n",
    "xtrain_tfidf = tfidf_vectorizer.fit_transform(X_train.values.astype('U'))\n",
    "xtest_tfidf = tfidf_vectorizer.transform(X_test.values.astype('U'))"
   ]
  },
  {
   "cell_type": "code",
   "execution_count": 52,
   "id": "75a877ce",
   "metadata": {
    "execution": {
     "iopub.execute_input": "2022-07-12T14:01:07.600111Z",
     "iopub.status.busy": "2022-07-12T14:01:07.599718Z",
     "iopub.status.idle": "2022-07-12T14:01:09.575741Z",
     "shell.execute_reply": "2022-07-12T14:01:09.574813Z"
    },
    "papermill": {
     "duration": 1.994406,
     "end_time": "2022-07-12T14:01:09.578068",
     "exception": false,
     "start_time": "2022-07-12T14:01:07.583662",
     "status": "completed"
    },
    "tags": []
   },
   "outputs": [
    {
     "data": {
      "text/plain": [
       "0.5967871485943775"
      ]
     },
     "execution_count": 52,
     "metadata": {},
     "output_type": "execute_result"
    }
   ],
   "source": [
    "dtree = DecisionTreeClassifier()\n",
    "dtree.fit(xtrain_tfidf,y_train)\n",
    "dtree_pred = dtree.predict(xtest_tfidf)\n",
    "metrics.accuracy_score(y_test,dtree_pred)"
   ]
  },
  {
   "cell_type": "code",
   "execution_count": 53,
   "id": "8fd5fad6",
   "metadata": {},
   "outputs": [
    {
     "data": {
      "image/png": "[encoded data removed]",
      "text/plain": [
       "<Figure size 432x288 with 2 Axes>"
      ]
     },
     "metadata": {
      "needs_background": "light"
     },
     "output_type": "display_data"
    }
   ],
   "source": [
    "cm_dt = confusion_matrix(y_test, dtree_pred)\n",
    "df_cm_dt = pd.DataFrame(cm_dt, index=class_names, columns=class_names)\n",
    "show_confusion_matrix(df_cm_dt)"
   ]
  },
  {
   "cell_type": "code",
   "execution_count": 54,
   "id": "9315876a",
   "metadata": {
    "execution": {
     "iopub.execute_input": "2022-07-12T14:01:09.610253Z",
     "iopub.status.busy": "2022-07-12T14:01:09.609841Z",
     "iopub.status.idle": "2022-07-12T14:01:26.114252Z",
     "shell.execute_reply": "2022-07-12T14:01:26.113038Z"
    },
    "papermill": {
     "duration": 16.523329,
     "end_time": "2022-07-12T14:01:26.116597",
     "exception": false,
     "start_time": "2022-07-12T14:01:09.593268",
     "status": "completed"
    },
    "tags": []
   },
   "outputs": [
    {
     "data": {
      "text/plain": [
       "0.6807228915662651"
      ]
     },
     "execution_count": 54,
     "metadata": {},
     "output_type": "execute_result"
    }
   ],
   "source": [
    "rf = RandomForestClassifier()\n",
    "rf.fit(xtrain_tfidf,y_train)\n",
    "rf_pred = rf.predict(xtest_tfidf)\n",
    "metrics.accuracy_score(y_test,rf_pred)"
   ]
  },
  {
   "cell_type": "code",
   "execution_count": 55,
   "id": "20c129a7",
   "metadata": {},
   "outputs": [
    {
     "data": {
      "image/png": "[encoded data removed]",
      "text/plain": [
       "<Figure size 432x288 with 2 Axes>"
      ]
     },
     "metadata": {
      "needs_background": "light"
     },
     "output_type": "display_data"
    }
   ],
   "source": [
    "cm_rf = confusion_matrix(y_test, rf_pred)\n",
    "df_cm_rf = pd.DataFrame(cm_rf, index=class_names, columns=class_names)\n",
    "show_confusion_matrix(df_cm_rf)"
   ]
  },
  {
   "cell_type": "code",
   "execution_count": 56,
   "id": "326df6be",
   "metadata": {
    "execution": {
     "iopub.execute_input": "2022-07-12T14:01:26.150846Z",
     "iopub.status.busy": "2022-07-12T14:01:26.149523Z",
     "iopub.status.idle": "2022-07-12T14:01:28.682709Z",
     "shell.execute_reply": "2022-07-12T14:01:28.681491Z"
    },
    "papermill": {
     "duration": 2.554006,
     "end_time": "2022-07-12T14:01:28.686664",
     "exception": false,
     "start_time": "2022-07-12T14:01:26.132658",
     "status": "completed"
    },
    "tags": []
   },
   "outputs": [
    {
     "data": {
      "text/plain": [
       "0.6943775100401607"
      ]
     },
     "execution_count": 56,
     "metadata": {},
     "output_type": "execute_result"
    }
   ],
   "source": [
    "lr = LogisticRegression()\n",
    "lr.fit(xtrain_tfidf,y_train)\n",
    "lr_pred = lr.predict(xtest_tfidf)\n",
    "metrics.accuracy_score(y_test,lr_pred)"
   ]
  },
  {
   "cell_type": "code",
   "execution_count": 57,
   "id": "767a2890",
   "metadata": {},
   "outputs": [
    {
     "data": {
      "image/png": "[encoded data removed]",
      "text/plain": [
       "<Figure size 432x288 with 2 Axes>"
      ]
     },
     "metadata": {
      "needs_background": "light"
     },
     "output_type": "display_data"
    }
   ],
   "source": [
    "cm = confusion_matrix(y_test, lr_pred)\n",
    "df_cm = pd.DataFrame(cm, index=class_names, columns=class_names)\n",
    "show_confusion_matrix(df_cm)"
   ]
  },
  {
   "cell_type": "markdown",
   "id": "2a75d4a3",
   "metadata": {
    "papermill": {
     "duration": 0.052353,
     "end_time": "2022-07-12T14:01:28.787564",
     "exception": false,
     "start_time": "2022-07-12T14:01:28.735211",
     "status": "completed"
    },
    "tags": []
   },
   "source": [
    "## 4.3 Using TF-DIF X NFM\n",
    "\n",
    "+ NMF (Phân tích nhân tử ma trận không âm) là một kỹ thuật rất hiệu quả để chọn thông tin quan trọng nhất có trong kho tài liệu đào tạo, nó là một dạng mô hình hóa Chủ đề và có thể được sử dụng trong nhiều lĩnh vực như Hệ thống khuyến nghị, Mô hình học xếp hạng và Chủ đề Lập mô hình, tôi đã chia sẻ một tài nguyên nơi người ta có thể xem chi tiết các tiện ích của NMF!\n",
    "\n",
    "+ https://towardsdatascience.com/nmf-a-visual-explainer-and-python-implementation-7ecdd73491f8\n",
    "+ https://www.analyticsvidhya.com/blog/2021/06/part-15-step-by-step-guide-to-master-nlp-topic-modelling-using-nmf/\n",
    "\n",
    "+ Vì vậy, cách sử dụng NMF như sau\n",
    "    \n",
    "    + Chuyển đổi văn bản thô thành Vectơ bằng cách sử dụng vectơ TF-IDF\n",
    "    + Chuyển các vector thành dạng NFM, tách ma trận NXM thành NXP và PXM tương ứng,\n",
    "    + Trong đó N là tổng số câu, P là số chủ đề, M là số hạng trong câu.\n",
    "    + Sau đó, dựa trên kết quả ma trận NMF, tôi đã tạo một khung dữ liệu với văn bản và nhãn là các thuộc tính.\n",
    "    + Số lượng chủ đề và n_iter là siêu tham số, có thể điều chỉnh chúng cho phù hợp bằng cách sử dụng GridSearch hoặc RandomizedSearch\n",
    "    + Ở đây trong ví dụ này, tôi đã chọn n_topics là 5 và n_iters là 500, có thể thay đổi tùy người dùng"
   ]
  },
  {
   "cell_type": "code",
   "execution_count": 58,
   "id": "403aee93",
   "metadata": {
    "execution": {
     "iopub.execute_input": "2022-07-12T14:01:28.821281Z",
     "iopub.status.busy": "2022-07-12T14:01:28.820475Z",
     "iopub.status.idle": "2022-07-12T14:01:28.829098Z",
     "shell.execute_reply": "2022-07-12T14:01:28.827947Z"
    },
    "papermill": {
     "duration": 0.027401,
     "end_time": "2022-07-12T14:01:28.831569",
     "exception": false,
     "start_time": "2022-07-12T14:01:28.804168",
     "status": "completed"
    },
    "tags": []
   },
   "outputs": [
    {
     "name": "stdout",
     "output_type": "stream",
     "text": [
      "12446\n"
     ]
    }
   ],
   "source": [
    "text = list(df_clean['new_content'])\n",
    "print(len(text))"
   ]
  },
  {
   "cell_type": "code",
   "execution_count": 59,
   "id": "532529b6",
   "metadata": {
    "execution": {
     "iopub.execute_input": "2022-07-12T14:01:28.864132Z",
     "iopub.status.busy": "2022-07-12T14:01:28.863459Z",
     "iopub.status.idle": "2022-07-12T14:01:29.146213Z",
     "shell.execute_reply": "2022-07-12T14:01:29.145339Z"
    },
    "papermill": {
     "duration": 0.301816,
     "end_time": "2022-07-12T14:01:29.148667",
     "exception": false,
     "start_time": "2022-07-12T14:01:28.846851",
     "status": "completed"
    },
    "tags": []
   },
   "outputs": [],
   "source": [
    "vec = TfidfVectorizer()\n",
    "tfd = vec.fit_transform(text)"
   ]
  },
  {
   "cell_type": "code",
   "execution_count": 60,
   "id": "f4aa4301",
   "metadata": {
    "execution": {
     "iopub.execute_input": "2022-07-12T14:01:29.181133Z",
     "iopub.status.busy": "2022-07-12T14:01:29.180343Z",
     "iopub.status.idle": "2022-07-12T14:01:29.185835Z",
     "shell.execute_reply": "2022-07-12T14:01:29.184792Z"
    },
    "papermill": {
     "duration": 0.024199,
     "end_time": "2022-07-12T14:01:29.188069",
     "exception": false,
     "start_time": "2022-07-12T14:01:29.163870",
     "status": "completed"
    },
    "tags": []
   },
   "outputs": [],
   "source": [
    "from sklearn.decomposition import NMF"
   ]
  },
  {
   "cell_type": "code",
   "execution_count": 61,
   "id": "d7af4cb0",
   "metadata": {
    "execution": {
     "iopub.execute_input": "2022-07-12T14:01:29.220242Z",
     "iopub.status.busy": "2022-07-12T14:01:29.219516Z",
     "iopub.status.idle": "2022-07-12T14:01:29.224879Z",
     "shell.execute_reply": "2022-07-12T14:01:29.223807Z"
    },
    "papermill": {
     "duration": 0.023766,
     "end_time": "2022-07-12T14:01:29.226988",
     "exception": false,
     "start_time": "2022-07-12T14:01:29.203222",
     "status": "completed"
    },
    "tags": []
   },
   "outputs": [],
   "source": [
    "num_topics = 3\n",
    "nmf = NMF(n_components=num_topics, random_state=50, max_iter=500)"
   ]
  },
  {
   "cell_type": "code",
   "execution_count": 62,
   "id": "3a7f28a4",
   "metadata": {
    "execution": {
     "iopub.execute_input": "2022-07-12T14:01:29.259050Z",
     "iopub.status.busy": "2022-07-12T14:01:29.258639Z",
     "iopub.status.idle": "2022-07-12T14:01:29.623299Z",
     "shell.execute_reply": "2022-07-12T14:01:29.621975Z"
    },
    "papermill": {
     "duration": 0.384758,
     "end_time": "2022-07-12T14:01:29.627053",
     "exception": false,
     "start_time": "2022-07-12T14:01:29.242295",
     "status": "completed"
    },
    "tags": []
   },
   "outputs": [],
   "source": [
    "W1 = nmf.fit_transform(tfd)\n",
    "H1 = nmf.components_"
   ]
  },
  {
   "cell_type": "code",
   "execution_count": 63,
   "id": "f5ef1f9a",
   "metadata": {
    "execution": {
     "iopub.execute_input": "2022-07-12T14:01:29.686064Z",
     "iopub.status.busy": "2022-07-12T14:01:29.685458Z",
     "iopub.status.idle": "2022-07-12T14:01:29.767679Z",
     "shell.execute_reply": "2022-07-12T14:01:29.766435Z"
    },
    "papermill": {
     "duration": 0.114966,
     "end_time": "2022-07-12T14:01:29.770320",
     "exception": false,
     "start_time": "2022-07-12T14:01:29.655354",
     "status": "completed"
    },
    "tags": []
   },
   "outputs": [
    {
     "data": {
      "text/html": [
       "<div>\n",
       "<style scoped>\n",
       "    .dataframe tbody tr th:only-of-type {\n",
       "        vertical-align: middle;\n",
       "    }\n",
       "\n",
       "    .dataframe tbody tr th {\n",
       "        vertical-align: top;\n",
       "    }\n",
       "\n",
       "    .dataframe thead th {\n",
       "        text-align: right;\n",
       "    }\n",
       "</style>\n",
       "<table border=\"1\" class=\"dataframe\">\n",
       "  <thead>\n",
       "    <tr style=\"text-align: right;\">\n",
       "      <th></th>\n",
       "      <th>text</th>\n",
       "      <th>label</th>\n",
       "    </tr>\n",
       "  </thead>\n",
       "  <tbody>\n",
       "    <tr>\n",
       "      <th>0</th>\n",
       "      <td>open anymor</td>\n",
       "      <td>0</td>\n",
       "    </tr>\n",
       "    <tr>\n",
       "      <th>1</th>\n",
       "      <td>beg refund month repli</td>\n",
       "      <td>0</td>\n",
       "    </tr>\n",
       "    <tr>\n",
       "      <th>2</th>\n",
       "      <td>costli premium version approx indian rupe 910 ...</td>\n",
       "      <td>0</td>\n",
       "    </tr>\n",
       "    <tr>\n",
       "      <th>3</th>\n",
       "      <td>organ 2020 updat mess thing y cudnt You leav e...</td>\n",
       "      <td>0</td>\n",
       "    </tr>\n",
       "    <tr>\n",
       "      <th>4</th>\n",
       "      <td>dan birthday oct 28</td>\n",
       "      <td>0</td>\n",
       "    </tr>\n",
       "    <tr>\n",
       "      <th>...</th>\n",
       "      <td>...</td>\n",
       "      <td>...</td>\n",
       "    </tr>\n",
       "    <tr>\n",
       "      <th>12441</th>\n",
       "      <td>ok undestad repeat shedul</td>\n",
       "      <td>0</td>\n",
       "    </tr>\n",
       "    <tr>\n",
       "      <th>12442</th>\n",
       "      <td>planner help achiev goal avenu scribe idea dou...</td>\n",
       "      <td>2</td>\n",
       "    </tr>\n",
       "    <tr>\n",
       "      <th>12443</th>\n",
       "      <td>use app tri</td>\n",
       "      <td>0</td>\n",
       "    </tr>\n",
       "    <tr>\n",
       "      <th>12444</th>\n",
       "      <td>pay addit updat absolut wish develop</td>\n",
       "      <td>0</td>\n",
       "    </tr>\n",
       "    <tr>\n",
       "      <th>12445</th>\n",
       "      <td>sooow</td>\n",
       "      <td>0</td>\n",
       "    </tr>\n",
       "  </tbody>\n",
       "</table>\n",
       "<p>12446 rows × 2 columns</p>\n",
       "</div>"
      ],
      "text/plain": [
       "                                                    text  label\n",
       "0                                            open anymor      0\n",
       "1                                 beg refund month repli      0\n",
       "2      costli premium version approx indian rupe 910 ...      0\n",
       "3      organ 2020 updat mess thing y cudnt You leav e...      0\n",
       "4                                    dan birthday oct 28      0\n",
       "...                                                  ...    ...\n",
       "12441                          ok undestad repeat shedul      0\n",
       "12442  planner help achiev goal avenu scribe idea dou...      2\n",
       "12443                                        use app tri      0\n",
       "12444               pay addit updat absolut wish develop      0\n",
       "12445                                              sooow      0\n",
       "\n",
       "[12446 rows x 2 columns]"
      ]
     },
     "execution_count": 63,
     "metadata": {},
     "output_type": "execute_result"
    }
   ],
   "source": [
    "df_new = pd.DataFrame({'text':text, 'label':[np.argmax(i) for i in W1]})\n",
    "df_new"
   ]
  },
  {
   "cell_type": "code",
   "execution_count": 64,
   "id": "23e4e5d4",
   "metadata": {},
   "outputs": [
    {
     "data": {
      "text/plain": [
       "0    10163\n",
       "2     1751\n",
       "1      532\n",
       "Name: label, dtype: int64"
      ]
     },
     "execution_count": 64,
     "metadata": {},
     "output_type": "execute_result"
    }
   ],
   "source": [
    "df_new['label'].value_counts()"
   ]
  },
  {
   "cell_type": "code",
   "execution_count": 65,
   "id": "edd71c4f",
   "metadata": {
    "execution": {
     "iopub.execute_input": "2022-07-12T14:01:29.803447Z",
     "iopub.status.busy": "2022-07-12T14:01:29.802689Z",
     "iopub.status.idle": "2022-07-12T14:01:29.818646Z",
     "shell.execute_reply": "2022-07-12T14:01:29.817777Z"
    },
    "papermill": {
     "duration": 0.035515,
     "end_time": "2022-07-12T14:01:29.821098",
     "exception": false,
     "start_time": "2022-07-12T14:01:29.785583",
     "status": "completed"
    },
    "tags": []
   },
   "outputs": [],
   "source": [
    "train,test = train_test_split(df_new, train_size=0.7, random_state=25, stratify=df_new.label)\n",
    "\n",
    "X_train = train.text\n",
    "y_train = train.label\n",
    "\n",
    "X_test = test.text\n",
    "y_test = test.label"
   ]
  },
  {
   "cell_type": "code",
   "execution_count": 66,
   "id": "747ca220",
   "metadata": {
    "execution": {
     "iopub.execute_input": "2022-07-12T14:01:29.853694Z",
     "iopub.status.busy": "2022-07-12T14:01:29.853300Z",
     "iopub.status.idle": "2022-07-12T14:01:30.320954Z",
     "shell.execute_reply": "2022-07-12T14:01:30.319922Z"
    },
    "papermill": {
     "duration": 0.487312,
     "end_time": "2022-07-12T14:01:30.323951",
     "exception": false,
     "start_time": "2022-07-12T14:01:29.836639",
     "status": "completed"
    },
    "tags": []
   },
   "outputs": [],
   "source": [
    "vec = TfidfVectorizer()\n",
    "X_train_tfidf = vec.fit_transform(X_train)\n",
    "X_test_tfidf = vec.transform(X_test)"
   ]
  },
  {
   "cell_type": "code",
   "execution_count": 67,
   "id": "d1eb57ca",
   "metadata": {
    "execution": {
     "iopub.execute_input": "2022-07-12T14:01:30.356279Z",
     "iopub.status.busy": "2022-07-12T14:01:30.355889Z",
     "iopub.status.idle": "2022-07-12T14:01:31.211728Z",
     "shell.execute_reply": "2022-07-12T14:01:31.210516Z"
    },
    "papermill": {
     "duration": 0.875343,
     "end_time": "2022-07-12T14:01:31.214444",
     "exception": false,
     "start_time": "2022-07-12T14:01:30.339101",
     "status": "completed"
    },
    "tags": []
   },
   "outputs": [
    {
     "name": "stdout",
     "output_type": "stream",
     "text": [
      "              precision    recall  f1-score   support\n",
      "\n",
      "           0       0.97      0.97      0.97      3049\n",
      "           1       0.91      0.99      0.95       160\n",
      "           2       0.84      0.85      0.84       525\n",
      "\n",
      "    accuracy                           0.95      3734\n",
      "   macro avg       0.91      0.94      0.92      3734\n",
      "weighted avg       0.95      0.95      0.95      3734\n",
      "\n"
     ]
    }
   ],
   "source": [
    "dt = DecisionTreeClassifier()\n",
    "dt.fit(X_train_tfidf,y_train)\n",
    "dt_pred = dt.predict(X_test_tfidf)\n",
    "print(metrics.classification_report(y_test,dt_pred))"
   ]
  },
  {
   "cell_type": "code",
   "execution_count": 68,
   "id": "c21c8658",
   "metadata": {
    "execution": {
     "iopub.execute_input": "2022-07-12T14:01:31.248879Z",
     "iopub.status.busy": "2022-07-12T14:01:31.248246Z",
     "iopub.status.idle": "2022-07-12T14:01:36.413544Z",
     "shell.execute_reply": "2022-07-12T14:01:36.412344Z"
    },
    "papermill": {
     "duration": 5.185437,
     "end_time": "2022-07-12T14:01:36.415948",
     "exception": false,
     "start_time": "2022-07-12T14:01:31.230511",
     "status": "completed"
    },
    "tags": []
   },
   "outputs": [
    {
     "name": "stdout",
     "output_type": "stream",
     "text": [
      "              precision    recall  f1-score   support\n",
      "\n",
      "           0       0.97      0.99      0.98      3049\n",
      "           1       0.96      0.94      0.95       160\n",
      "           2       0.92      0.84      0.88       525\n",
      "\n",
      "    accuracy                           0.96      3734\n",
      "   macro avg       0.95      0.92      0.94      3734\n",
      "weighted avg       0.96      0.96      0.96      3734\n",
      "\n"
     ]
    }
   ],
   "source": [
    "rf = RandomForestClassifier()\n",
    "rf.fit(X_train_tfidf,y_train)\n",
    "rf_pred = rf.predict(X_test_tfidf)\n",
    "print(metrics.classification_report(y_test,rf_pred))"
   ]
  },
  {
   "cell_type": "code",
   "execution_count": 69,
   "id": "f1a9a716",
   "metadata": {},
   "outputs": [
    {
     "name": "stdout",
     "output_type": "stream",
     "text": [
      "              precision    recall  f1-score   support\n",
      "\n",
      "           0       0.95      1.00      0.97      3049\n",
      "           1       1.00      0.82      0.90       160\n",
      "           2       0.96      0.74      0.84       525\n",
      "\n",
      "    accuracy                           0.95      3734\n",
      "   macro avg       0.97      0.85      0.90      3734\n",
      "weighted avg       0.95      0.95      0.95      3734\n",
      "\n"
     ]
    }
   ],
   "source": [
    "lr = LogisticRegression()\n",
    "lr.fit(X_train_tfidf,y_train)\n",
    "lr_pred = lr.predict(X_test_tfidf)\n",
    "print(metrics.classification_report(y_test,lr_pred))"
   ]
  },
  {
   "cell_type": "code",
   "execution_count": 70,
   "id": "fe7386c2",
   "metadata": {},
   "outputs": [],
   "source": [
    "# class_nmf = ['Very negative', 'Negative', 'Neutral', 'Positive', 'Very positive'] "
   ]
  },
  {
   "cell_type": "code",
   "execution_count": 71,
   "id": "6def01b6",
   "metadata": {},
   "outputs": [],
   "source": [
    "class_nmf = ['Negative', 'Neutral', 'Positive']"
   ]
  },
  {
   "cell_type": "code",
   "execution_count": 74,
   "id": "502260c1",
   "metadata": {},
   "outputs": [
    {
     "data": {
      "image/png": "[encoded data removed]",
      "text/plain": [
       "<Figure size 864x360 with 2 Axes>"
      ]
     },
     "metadata": {
      "needs_background": "light"
     },
     "output_type": "display_data"
    }
   ],
   "source": [
    "plt.figure(figsize=(12,5))\n",
    "cm_nmf_rf = confusion_matrix(y_test, rf_pred)\n",
    "df_cm_nmf_rf = pd.DataFrame(cm_nmf_rf, index=class_nmf, columns=class_nmf)\n",
    "show_confusion_matrix(df_cm_nmf_rf)"
   ]
  },
  {
   "cell_type": "markdown",
   "id": "f1473d82",
   "metadata": {
    "papermill": {
     "duration": 0.015542,
     "end_time": "2022-07-12T14:01:36.447223",
     "exception": false,
     "start_time": "2022-07-12T14:01:36.431681",
     "status": "completed"
    },
    "tags": []
   },
   "source": [
    "# Conclusions\n",
    "\n",
    "+ Như chúng ta có thể quan sát rằng trước khi sử dụng NMF, trọng số f1 sử dụng TF-IDF là khoảng 40-50%.\n",
    "\n",
    "+ Sau khi sử dụng NMF và TF-IDF, khẩu độ f1 đã tăng lên gần 95%.\n",
    "\n",
    "+ Như vậy, ở kịch bản này đã giúp NMF có được điểm số tốt hơn.\n",
    "\n",
    "+ NMF cũng có thể được sử dụng trong một số nhiệm vụ NLP khác, như Lập mô hình chủ đề, Hệ thống khuyến nghị, Học cách xếp hạng và nhiều hơn nữa."
   ]
  },
  {
   "cell_type": "markdown",
   "id": "f6936eb7",
   "metadata": {},
   "source": [
    "# Deep Learning"
   ]
  }
 ],
 "metadata": {
  "kernelspec": {
   "display_name": "Python 3 (ipykernel)",
   "language": "python",
   "name": "python3"
  },
  "language_info": {
   "codemirror_mode": {
    "name": "ipython",
    "version": 3
   },
   "file_extension": ".py",
   "mimetype": "text/x-python",
   "name": "python",
   "nbconvert_exporter": "python",
   "pygments_lexer": "ipython3",
   "version": "3.9.12"
  },
  "papermill": {
   "default_parameters": {},
   "duration": 78.098603,
   "end_time": "2022-07-12T14:01:37.484843",
   "environment_variables": {},
   "exception": null,
   "input_path": "__notebook__.ipynb",
   "output_path": "__notebook__.ipynb",
   "parameters": {},
   "start_time": "2022-07-12T14:00:19.386240",
   "version": "2.3.4"
  }
 },
 "nbformat": 4,
 "nbformat_minor": 5
}
